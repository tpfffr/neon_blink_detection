{
 "cells": [
  {
   "cell_type": "code",
   "execution_count": 8,
   "metadata": {},
   "outputs": [
    {
     "name": "stderr",
     "output_type": "stream",
     "text": [
      "deprecated pixel format used, make sure you did set range correctly\n"
     ]
    }
   ],
   "source": [
    "import sys\n",
    "sys.path.append(\"/users/tom/git/neon_blink_detection/\")\n",
    "sys.path.append(\"/users/tom/git/neon_blink_detection/src\")\n",
    "\n",
    "import pims\n",
    "from pathlib import Path\n",
    "import matplotlib.pyplot as plt\n",
    "import numpy as np\n",
    "import cv2\n",
    "from itertools import chain\n",
    "from more_itertools import windowed\n",
    "from helper import OfParams\n",
    "from src.features_calculator import create_grids\n",
    "from src.features_calculator import cv2_calcOpticalFlowPyrLK\n",
    "import joblib\n",
    "import matplotlib.pyplot as plt\n",
    "import copy\n",
    "import typing as T\n",
    "from dataclasses import dataclass\n",
    "\n",
    "# folder where the data is saved\n",
    "rec_folder = Path(\"/users/tom/experiments/neon_blink_detection/datasets/train_data/\")\n",
    "\n",
    "# name of the recording\n",
    "clip_name = \"padel_tennis_neon_03-2ded8f56\"\n",
    "\n",
    "# ... and grid coordinates for which optical flow is calculated\n",
    "grid = create_grids(of_params.img_shape, of_params.grid_size + 2, full_grid = 0)\n",
    "\n",
    "# load video object\n",
    "vid = pims.Video(str(rec_folder / clip_name / \"Neon Sensor Module v1 ps1.mp4\"))\n"
   ]
  },
  {
   "cell_type": "code",
   "execution_count": 9,
   "metadata": {},
   "outputs": [],
   "source": [
    "class FeatureCalculator:\n",
    "\n",
    "    def __init__(self, vid, of_params: OfParams, grid: np.ndarray): \n",
    "    \n",
    "        self.of_params = of_params\n",
    "        self.grid = grid\n",
    "        self.vid_obj = self._make_video_generator(vid)\n",
    "\n",
    "    def _make_video_generator(self, vid):\n",
    "\n",
    "        for frame in vid:\n",
    "\n",
    "            eye_left_images =  cv2.resize(frame[:, 0:192, 0], (64, 64), interpolation=3)\n",
    "            eye_right_images =  cv2.resize(frame[:, 192:, 0], (64, 64), interpolation=3)\n",
    "\n",
    "            yield [np.array(eye_left_images), np.array(eye_right_images)]\n",
    "\n",
    "    def _optical_flow_stream(self):\n",
    "\n",
    "        first = next(self.vid_obj)\n",
    "        stream = chain((of_params.step_size + 1) * [first], self.vid_obj)\n",
    "\n",
    "        for consecutive_frames in windowed(stream, n=self.of_params.step_size + 1):\n",
    "            previous, current = consecutive_frames[0], consecutive_frames[-1]\n",
    "            left_prev_image, right_prev_image = previous\n",
    "            left_curr_image, right_curr_image = current\n",
    "\n",
    "            args = self.grid, self.of_params.window_size, self.of_params.stop_steps\n",
    "\n",
    "            # compute optical flow, separately for the left and the right video stream\n",
    "            optic_flow_left = cv2_calcOpticalFlowPyrLK(left_prev_image, left_curr_image, *args)\n",
    "            optic_flow_right = cv2_calcOpticalFlowPyrLK(right_prev_image, right_curr_image, *args)\n",
    "\n",
    "            # only return the y-component of the optical flow\n",
    "            yield (optic_flow_left[:, 1], optic_flow_right[:, 1])\n",
    "\n",
    "    def calculate_optical_flow(self):\n",
    "\n",
    "        gen = self._optical_flow_stream()\n",
    "        \n",
    "        of_left = []\n",
    "        of_right = []\n",
    "        # collect all optical flow values\n",
    "        for of_tuple in gen:\n",
    "            of_left.append(of_tuple[0])\n",
    "            of_right.append(of_tuple[1])\n",
    "\n",
    "        # concatenate left and right optical flow values\n",
    "        self.of_array = np.concatenate((np.array(of_left), np.array(of_right)), axis=1)\n",
    "\n",
    "    def concatenate_optical_flow(self, n_layers, layer_interval):\n",
    "\n",
    "        def get_layers(n, layer_interval):\n",
    "            return np.arange(-(n // 2), (n + 1) // 2) * layer_interval\n",
    "\n",
    "        n_frame = len(self.of_array)\n",
    "        indices = np.arange(n_frame)\n",
    "        \n",
    "        layers = get_layers(n_layers, layer_interval)\n",
    "\n",
    "        indices_layers = np.array([[indices + i] for i in layers]).reshape(len(layers), -1)\n",
    "        indices_layers = np.clip(indices_layers, 0, len(self.of_array) - 1)\n",
    "        \n",
    "        self.feature_array = np.concatenate(\n",
    "            [self.of_array[indices] for indices in indices_layers], axis=1\n",
    "        )\n"
   ]
  },
  {
   "attachments": {},
   "cell_type": "markdown",
   "metadata": {},
   "source": [
    "<font size = 4>**(0) Define basic functions for loading video and computing optical flow**"
   ]
  },
  {
   "cell_type": "code",
   "execution_count": 10,
   "metadata": {},
   "outputs": [],
   "source": [
    "\n",
    "def smooth_proba(proba: np.ndarray, smooth_window) -> np.ndarray:\n",
    "    proba = proba.copy()\n",
    "    proba_onset = proba[:, 1]\n",
    "    proba_offset = proba[:, 2]\n",
    "\n",
    "    proba_onset = smooth_array(proba_onset, smooth_window)\n",
    "    proba_offset = smooth_array(proba_offset, smooth_window)\n",
    "    proba_bg = 1 - np.sum([proba_onset, proba_offset], axis=0)\n",
    "\n",
    "    proba[:, 0] = proba_bg\n",
    "    proba[:, 1] = proba_onset\n",
    "    proba[:, 2] = proba_offset\n",
    "\n",
    "    return proba\n",
    "\n",
    "def smooth_array(ary: np.ndarray, smooth_window: int = 1):\n",
    "    # Define mask and store as an array\n",
    "    mask = np.ones((1, smooth_window)) / smooth_window\n",
    "    mask = mask[0, :]\n",
    "    # Convolve the mask with the raw data\n",
    "    convolved_data = np.convolve(ary, mask, \"same\")\n",
    "    return convolved_data\n",
    "\n",
    "def classify(probas: np.ndarray):\n",
    "    pd_labels = np.argmax(probas, axis=1)\n",
    "    pd_labels[probas[:, 2] > 0.25] = 2\n",
    "    pd_labels[probas[:, 1] > 0.25] = 1\n",
    "\n",
    "    return pd_labels\n",
    "\n",
    "@dataclass\n",
    "class BlinkEvent:\n",
    "    start_time: int = None\n",
    "    end_time: int = None\n",
    "    label: str = None\n",
    "\n",
    "class EventArray:\n",
    "    \n",
    "    def __init__(self, start_times, end_times, labels):\n",
    "        assert len(start_times) == len(end_times) == len(labels)\n",
    "\n",
    "        self.start_times = np.asarray(start_times)\n",
    "        self.end_times = np.asarray(end_times)\n",
    "        self.labels = np.asarray(labels)\n",
    "\n",
    "    @property\n",
    "    def blink_events(self) -> T.List[BlinkEvent]:\n",
    "        blink_label = 3\n",
    "        start_times = self.start_times[self.labels == blink_label]\n",
    "        end_times = self.end_times[self.labels == blink_label]\n",
    "        label_name = \"Blink\"\n",
    "        return [\n",
    "            BlinkEvent(start_time, end_time, label_name)\n",
    "            for start_time, end_time in zip(start_times, end_times)\n",
    "        ]\n",
    "\n",
    "    @classmethod\n",
    "    def from_samples(cls, timestamps, sample_labels, mapping=None):\n",
    "        \"\"\"Creates an instance from a time-series of labelled samples.\"\"\"\n",
    "        assert len(timestamps) == len(sample_labels)\n",
    "        # assert is_sorted(timestamps)\n",
    "\n",
    "        timestamps = np.asarray(timestamps)\n",
    "        sample_labels = np.asarray(sample_labels)\n",
    "\n",
    "        now_unequal_previous = sample_labels[1:] != sample_labels[:-1]\n",
    "        now_unequal_previous = np.insert(now_unequal_previous, 0, True)\n",
    "\n",
    "        start_times = timestamps[now_unequal_previous]\n",
    "        labels = sample_labels[now_unequal_previous]\n",
    "\n",
    "        end_times = np.roll(start_times, -1)\n",
    "        end_times[-1] = timestamps[-1]\n",
    "\n",
    "        if mapping:\n",
    "            labels = np.array(list(map(lambda e: mapping[e], labels)))\n",
    "\n",
    "        return cls(start_times, end_times, labels)\n",
    "    \n",
    "    def insert_event(self, start_time: float, end_time: float, label):\n",
    "\n",
    "        overlapping = (self.start_times < end_time) & (self.end_times > start_time)\n",
    "        overlapping_ind = np.nonzero(overlapping)[0]\n",
    "\n",
    "        assert (\n",
    "            len(overlapping_ind) == 1\n",
    "        ), \"Currently, can insert events only in the middle of existing events, i.e. when there is only 1 overlapping event.\"\n",
    "\n",
    "        # cut the overlapping event in the middle and remember end time and label\n",
    "        ind = overlapping_ind[0]\n",
    "        previous_end_time = self.end_times[ind]\n",
    "        previous_label = self.labels[ind]\n",
    "\n",
    "        self.end_times[ind] = start_time  # cut\n",
    "\n",
    "        # add two new events:\n",
    "        #   - the requested event at the start and end time\n",
    "        #   - a \"fill event\" which has has the same label as the event which has been\n",
    "        #   cut and which fills the t0 to the next event\n",
    "        self.start_times = np.insert(self.start_times, ind + 1, [start_time, end_time])\n",
    "        self.end_times = np.insert(\n",
    "            self.end_times, ind + 1, [end_time, previous_end_time]\n",
    "        )\n",
    "        self.labels = np.insert(self.labels, ind + 1, [label, previous_label])\n",
    "\n",
    "    def combine_same_events(self) -> None:\n",
    "        \"\"\"Delete events which have the same label as the previous event.\"\"\"\n",
    "\n",
    "        equal_previous = self.labels[1:] == self.labels[:-1]\n",
    "        equal_previous = np.insert(equal_previous, 0, False)\n",
    "        self.labels = self.labels[~equal_previous]\n",
    "        self.start_times = self.start_times[~equal_previous]\n",
    "\n",
    "        # reconstruct end times from start times\n",
    "        final_time = self.end_times[-1]\n",
    "        self.end_times = np.roll(self.start_times, -1)\n",
    "        self.end_times[-1] = final_time\n",
    "\n",
    "    def remove_events(self, del_mask) -> None:\n",
    "        # remember boundaries of time axis (start and end times of first and last event)\n",
    "        initial_time = self.start_times[0]\n",
    "        final_time = self.end_times[-1]\n",
    "\n",
    "        # filter events\n",
    "        self.labels = self.labels[~del_mask]\n",
    "        self.start_times = self.start_times[~del_mask]\n",
    "\n",
    "        self.combine_same_events()\n",
    "\n",
    "        # fix events at the boundaries (if first or last event were removed)\n",
    "        # last event must stop at the end of the time axis\n",
    "        self.end_times[-1] = final_time\n",
    "        # first event must start at the first samples\n",
    "        self.start_times[0] = initial_time\n",
    "\n",
    "    @property\n",
    "    def duration_s(self):\n",
    "        return self.end_times - self.start_times\n",
    "\n",
    "    def copy(self):\n",
    "        \"\"\"Returns a copied instance of this object.\"\"\"\n",
    "        start_times = copy.deepcopy(self.start_times)\n",
    "        end_times = copy.deepcopy(self.end_times)\n",
    "        labels = copy.deepcopy(self.labels)\n",
    "        return EventArray(start_times, end_times, labels)\n",
    "\n",
    "def filter_wrong_sequence(array: EventArray, max_gap_duration_s=None) -> EventArray:\n",
    "    none_idx = np.where(array.labels == 0)[0]\n",
    "    onset_idx = np.where(array.labels == 1)[0]\n",
    "    offset_idx = np.where(array.labels == 2)[0]\n",
    "\n",
    "    keep_onset_idx = list(set(onset_idx) & set(offset_idx - 1))\n",
    "    keep_offset_idx = [i + 1 for i in keep_onset_idx]\n",
    "\n",
    "    # Discard blink events with long gap between onset and offset\n",
    "    if max_gap_duration_s is not None:\n",
    "        onset_idx_gap = list(set(onset_idx) & set(none_idx - 1) & set(offset_idx - 2))\n",
    "        if onset_idx_gap:\n",
    "            onset_idx_gap = np.asarray(onset_idx_gap)\n",
    "            none = onset_idx_gap + 1\n",
    "            onset_idx_gap = onset_idx_gap[array.duration_s[none] < max_gap_duration_s]\n",
    "            keep_onset_idx += onset_idx_gap.tolist()\n",
    "            keep_offset_idx += [i + 2 for i in onset_idx_gap]\n",
    "\n",
    "    filtered_array = EventArray(\n",
    "        [array.start_times[0]], [array.end_times[-1]], [0]\n",
    "    )\n",
    "    for start_time, end_time in zip(\n",
    "        array.start_times[keep_onset_idx], array.end_times[keep_offset_idx]\n",
    "    ):\n",
    "        filtered_array.insert_event(start_time, end_time, 3)\n",
    "    return filtered_array\n",
    "\n",
    "def filter_short_events(\n",
    "    array: EventArray, min_len_s: float, select_label\n",
    ") -> EventArray:\n",
    "    \"\"\"Remove short blinks from the sequence.\"\"\"\n",
    "\n",
    "    filtered_array = array.copy()\n",
    "    mask_on = filtered_array.labels == select_label\n",
    "    mask_short = filtered_array.duration_s < min_len_s\n",
    "    del_mask = mask_on & mask_short\n",
    "    filtered_array.remove_events(del_mask)\n",
    "    return filtered_array"
   ]
  },
  {
   "attachments": {},
   "cell_type": "markdown",
   "metadata": {},
   "source": [
    "<font size = 4>**(1) Calculate optical flow fields for each frame** <br><br>\n",
    "<font size = 2>Separately for left and right video frames, then concatenate"
   ]
  },
  {
   "cell_type": "code",
   "execution_count": 11,
   "metadata": {},
   "outputs": [],
   "source": [
    "# define optical flow parameters\n",
    "of_params = OfParams(n_layers=5, layer_interval=7, average=False, img_shape=(64, 64), grid_size=4, step_size=7, window_size=15, stop_steps=3)\n",
    "\n",
    "# initialize feature calculator object\n",
    "feature_calculator = FeatureCalculator(vid, of_params, grid)\n",
    "\n",
    "# calculate optical flow for each frame (feature_calculator.of_array)\n",
    "feature_calculator.calculate_optical_flow()"
   ]
  },
  {
   "attachments": {},
   "cell_type": "markdown",
   "metadata": {},
   "source": [
    "<font size = 2>Plot mean optical flow for a given time interval"
   ]
  },
  {
   "cell_type": "code",
   "execution_count": 18,
   "metadata": {},
   "outputs": [
    {
     "data": {
      "text/plain": [
       "<matplotlib.lines.Line2D at 0x7f0fd6df4940>"
      ]
     },
     "execution_count": 18,
     "metadata": {},
     "output_type": "execute_result"
    },
    {
     "data": {
      "image/png": "[encoded data removed]",
      "text/plain": [
       "<Figure size 400x250 with 1 Axes>"
      ]
     },
     "metadata": {},
     "output_type": "display_data"
    }
   ],
   "source": [
    "fig, ax = plt.subplots(figsize=(4, 2.5))\n",
    "\n",
    "mean_optical_flow = np.mean(feature_calculator.of_array, axis=1)\n",
    "ax.plot(mean_optical_flow, color='blue', linewidth=1)\n",
    "\n",
    "# Set axis labels and limits\n",
    "ax.set_xlabel('Time (frames)', fontsize=11)\n",
    "ax.set_ylabel('Mean optical flow', fontsize=11)\n",
    "ax.set_xlim(940, 1150)\n",
    "ax.set_ylim(-3, 10)\n",
    "\n",
    "# Add horizontal line at y=0\n",
    "ax.axhline(0, color=[.6, .6, .6], linestyle='--', linewidth=1)"
   ]
  },
  {
   "attachments": {},
   "cell_type": "markdown",
   "metadata": {},
   "source": [
    "<font size = 4>**(2) Create feature vector** <br><br>\n",
    "<font size = 2>Optical flow vectors are concatenated across multiple layers (n_layers = 5), with two layers preceeding and two layers following the current frame.<br> The temporal interval corresponds to 35 ms (layer_interval = 7)."
   ]
  },
  {
   "cell_type": "code",
   "execution_count": 19,
   "metadata": {},
   "outputs": [
    {
     "name": "stdout",
     "output_type": "stream",
     "text": [
      "Number of features: 160\n"
     ]
    }
   ],
   "source": [
    "n_layers = 5\n",
    "layer_interval = 7\n",
    "\n",
    "feature_calculator.concatenate_optical_flow(n_layers, layer_interval)\n",
    "\n",
    "print(\"Number of features: {}\".format(feature_calculator.feature_array.shape[1]))"
   ]
  },
  {
   "attachments": {},
   "cell_type": "markdown",
   "metadata": {},
   "source": [
    "<font size = 4>**(3) Feed into classifier** <br><br>\n",
    "<font size = 2>The feature vectors are submitted to the trained XGBoost classifier to generate a time-series of class probabilities.<br>\n",
    "The three classes are: (1) Background (2) Blink onset (eyelid closing) and (3) Blink offset (eyelid reopening)"
   ]
  },
  {
   "attachments": {},
   "cell_type": "markdown",
   "metadata": {},
   "source": [
    "Load trained XGBoost classifier:"
   ]
  },
  {
   "cell_type": "code",
   "execution_count": 152,
   "metadata": {},
   "outputs": [
    {
     "data": {
      "text/html": [
       "<style>#sk-container-id-3 {color: black;background-color: white;}#sk-container-id-3 pre{padding: 0;}#sk-container-id-3 div.sk-toggleable {background-color: white;}#sk-container-id-3 label.sk-toggleable__label {cursor: pointer;display: block;width: 100%;margin-bottom: 0;padding: 0.3em;box-sizing: border-box;text-align: center;}#sk-container-id-3 label.sk-toggleable__label-arrow:before {content: \"▸\";float: left;margin-right: 0.25em;color: #696969;}#sk-container-id-3 label.sk-toggleable__label-arrow:hover:before {color: black;}#sk-container-id-3 div.sk-estimator:hover label.sk-toggleable__label-arrow:before {color: black;}#sk-container-id-3 div.sk-toggleable__content {max-height: 0;max-width: 0;overflow: hidden;text-align: left;background-color: #f0f8ff;}#sk-container-id-3 div.sk-toggleable__content pre {margin: 0.2em;color: black;border-radius: 0.25em;background-color: #f0f8ff;}#sk-container-id-3 input.sk-toggleable__control:checked~div.sk-toggleable__content {max-height: 200px;max-width: 100%;overflow: auto;}#sk-container-id-3 input.sk-toggleable__control:checked~label.sk-toggleable__label-arrow:before {content: \"▾\";}#sk-container-id-3 div.sk-estimator input.sk-toggleable__control:checked~label.sk-toggleable__label {background-color: #d4ebff;}#sk-container-id-3 div.sk-label input.sk-toggleable__control:checked~label.sk-toggleable__label {background-color: #d4ebff;}#sk-container-id-3 input.sk-hidden--visually {border: 0;clip: rect(1px 1px 1px 1px);clip: rect(1px, 1px, 1px, 1px);height: 1px;margin: -1px;overflow: hidden;padding: 0;position: absolute;width: 1px;}#sk-container-id-3 div.sk-estimator {font-family: monospace;background-color: #f0f8ff;border: 1px dotted black;border-radius: 0.25em;box-sizing: border-box;margin-bottom: 0.5em;}#sk-container-id-3 div.sk-estimator:hover {background-color: #d4ebff;}#sk-container-id-3 div.sk-parallel-item::after {content: \"\";width: 100%;border-bottom: 1px solid gray;flex-grow: 1;}#sk-container-id-3 div.sk-label:hover label.sk-toggleable__label {background-color: #d4ebff;}#sk-container-id-3 div.sk-serial::before {content: \"\";position: absolute;border-left: 1px solid gray;box-sizing: border-box;top: 0;bottom: 0;left: 50%;z-index: 0;}#sk-container-id-3 div.sk-serial {display: flex;flex-direction: column;align-items: center;background-color: white;padding-right: 0.2em;padding-left: 0.2em;position: relative;}#sk-container-id-3 div.sk-item {position: relative;z-index: 1;}#sk-container-id-3 div.sk-parallel {display: flex;align-items: stretch;justify-content: center;background-color: white;position: relative;}#sk-container-id-3 div.sk-item::before, #sk-container-id-3 div.sk-parallel-item::before {content: \"\";position: absolute;border-left: 1px solid gray;box-sizing: border-box;top: 0;bottom: 0;left: 50%;z-index: -1;}#sk-container-id-3 div.sk-parallel-item {display: flex;flex-direction: column;z-index: 1;position: relative;background-color: white;}#sk-container-id-3 div.sk-parallel-item:first-child::after {align-self: flex-end;width: 50%;}#sk-container-id-3 div.sk-parallel-item:last-child::after {align-self: flex-start;width: 50%;}#sk-container-id-3 div.sk-parallel-item:only-child::after {width: 0;}#sk-container-id-3 div.sk-dashed-wrapped {border: 1px dashed gray;margin: 0 0.4em 0.5em 0.4em;box-sizing: border-box;padding-bottom: 0.4em;background-color: white;}#sk-container-id-3 div.sk-label label {font-family: monospace;font-weight: bold;display: inline-block;line-height: 1.2em;}#sk-container-id-3 div.sk-label-container {text-align: center;}#sk-container-id-3 div.sk-container {/* jupyter's `normalize.less` sets `[hidden] { display: none; }` but bootstrap.min.css set `[hidden] { display: none !important; }` so we also need the `!important` here to be able to override the default hidden behavior on the sphinx rendered scikit-learn.org. See: https://github.com/scikit-learn/scikit-learn/issues/21755 */display: inline-block !important;position: relative;}#sk-container-id-3 div.sk-text-repr-fallback {display: none;}</style><div id=\"sk-container-id-3\" class=\"sk-top-container\"><div class=\"sk-text-repr-fallback\"><pre>XGBClassifier(base_score=0.5, booster=&#x27;gbtree&#x27;, colsample_bylevel=1,\n",
       "              colsample_bynode=1, colsample_bytree=1, enable_categorical=False,\n",
       "              eval_metric=&#x27;mlogloss&#x27;, gamma=0, gpu_id=-1, importance_type=None,\n",
       "              interaction_constraints=&#x27;&#x27;, learning_rate=0.300000012,\n",
       "              max_delta_step=0, max_depth=3, min_child_weight=1, missing=nan,\n",
       "              monotone_constraints=&#x27;()&#x27;, n_estimators=100, n_jobs=8,\n",
       "              num_parallel_tree=1, objective=&#x27;multi:softprob&#x27;, predictor=&#x27;auto&#x27;,\n",
       "              random_state=42, reg_alpha=0, reg_lambda=1, scale_pos_weight=None,\n",
       "              subsample=1, tree_method=&#x27;approx&#x27;, use_label_encoder=False,\n",
       "              validate_parameters=1, ...)</pre><b>In a Jupyter environment, please rerun this cell to show the HTML representation or trust the notebook. <br />On GitHub, the HTML representation is unable to render, please try loading this page with nbviewer.org.</b></div><div class=\"sk-container\" hidden><div class=\"sk-item\"><div class=\"sk-estimator sk-toggleable\"><input class=\"sk-toggleable__control sk-hidden--visually\" id=\"sk-estimator-id-3\" type=\"checkbox\" checked><label for=\"sk-estimator-id-3\" class=\"sk-toggleable__label sk-toggleable__label-arrow\">XGBClassifier</label><div class=\"sk-toggleable__content\"><pre>XGBClassifier(base_score=0.5, booster=&#x27;gbtree&#x27;, colsample_bylevel=1,\n",
       "              colsample_bynode=1, colsample_bytree=1, enable_categorical=False,\n",
       "              eval_metric=&#x27;mlogloss&#x27;, gamma=0, gpu_id=-1, importance_type=None,\n",
       "              interaction_constraints=&#x27;&#x27;, learning_rate=0.300000012,\n",
       "              max_delta_step=0, max_depth=3, min_child_weight=1, missing=nan,\n",
       "              monotone_constraints=&#x27;()&#x27;, n_estimators=100, n_jobs=8,\n",
       "              num_parallel_tree=1, objective=&#x27;multi:softprob&#x27;, predictor=&#x27;auto&#x27;,\n",
       "              random_state=42, reg_alpha=0, reg_lambda=1, scale_pos_weight=None,\n",
       "              subsample=1, tree_method=&#x27;approx&#x27;, use_label_encoder=False,\n",
       "              validate_parameters=1, ...)</pre></div></div></div></div></div>"
      ],
      "text/plain": [
       "XGBClassifier(base_score=0.5, booster='gbtree', colsample_bylevel=1,\n",
       "              colsample_bynode=1, colsample_bytree=1, enable_categorical=False,\n",
       "              eval_metric='mlogloss', gamma=0, gpu_id=-1, importance_type=None,\n",
       "              interaction_constraints='', learning_rate=0.300000012,\n",
       "              max_delta_step=0, max_depth=3, min_child_weight=1, missing=nan,\n",
       "              monotone_constraints='()', n_estimators=100, n_jobs=8,\n",
       "              num_parallel_tree=1, objective='multi:softprob', predictor='auto',\n",
       "              random_state=42, reg_alpha=0, reg_lambda=1, scale_pos_weight=None,\n",
       "              subsample=1, tree_method='approx', use_label_encoder=False,\n",
       "              validate_parameters=1, ...)"
      ]
     },
     "execution_count": 152,
     "metadata": {},
     "output_type": "execute_result"
    }
   ],
   "source": [
    "# path to trained classifier\n",
    "clf_path = \"/users/tom/git/neon_blink_detection/weights/xgb.sav\"\n",
    "# load classifier\n",
    "clf = joblib.load(clf_path)\n",
    "clf"
   ]
  },
  {
   "attachments": {},
   "cell_type": "markdown",
   "metadata": {},
   "source": [
    "Obtain frame-wise class probabilities:"
   ]
  },
  {
   "cell_type": "code",
   "execution_count": 295,
   "metadata": {},
   "outputs": [],
   "source": [
    "probas = clf.predict_proba(feature_calculator.feature_array)"
   ]
  },
  {
   "attachments": {},
   "cell_type": "markdown",
   "metadata": {},
   "source": [
    "<font size = 4>**(4) Temporal smoothing** <br><br>\n",
    "<font size = 2>Runing average with kernel size of 11 frames"
   ]
  },
  {
   "cell_type": "code",
   "execution_count": 123,
   "metadata": {},
   "outputs": [],
   "source": [
    "kernel_size = 11\n",
    "smoothed_proba = smooth_proba(probas, kernel_size)"
   ]
  },
  {
   "attachments": {},
   "cell_type": "markdown",
   "metadata": {},
   "source": [
    "<font size = 2>Plot blink onset and offset probabilities before and after smoothing "
   ]
  },
  {
   "cell_type": "code",
   "execution_count": 129,
   "metadata": {},
   "outputs": [
    {
     "data": {
      "text/plain": [
       "(940.0, 1150.0)"
      ]
     },
     "execution_count": 129,
     "metadata": {},
     "output_type": "execute_result"
    },
    {
     "data": {
      "image/png": "[encoded data removed]",
      "text/plain": [
       "<Figure size 400x250 with 1 Axes>"
      ]
     },
     "metadata": {},
     "output_type": "display_data"
    }
   ],
   "source": [
    "f, ax = plt.subplots(1, 1, figsize=(4, 2.5))\n",
    "\n",
    "plt.plot(smoothed_proba[:, 1], color=\"blue\")\n",
    "plt.plot(smoothed_proba[:, 2], color=\"red\")\n",
    "plt.plot(probas[:, 1], color=\"blue\", alpha=0.3)\n",
    "plt.plot(probas[:, 2], color=\"red\", alpha=0.3)\n",
    "\n",
    "# horizontal line at 0.25\n",
    "plt.axhline(0.25, color=[.8, .8, .8], linestyle=\"--\")\n",
    "plt.legend([\"Onset\",  \"Offset\"])\n",
    "plt.xlim(940, 1150)"
   ]
  },
  {
   "attachments": {},
   "cell_type": "markdown",
   "metadata": {},
   "source": [
    "<font size = 4>**(5) Discretization** <br><br>\n",
    "<font size = 2>Turns class probabilities into discrete class predictions"
   ]
  },
  {
   "cell_type": "code",
   "execution_count": 147,
   "metadata": {},
   "outputs": [],
   "source": [
    "prediction = classify(smoothed_proba)"
   ]
  },
  {
   "attachments": {},
   "cell_type": "markdown",
   "metadata": {},
   "source": [
    "<font size = 4>**(6) Conversion to events** <br><br>\n",
    "<font size = 2>Frame-wise predictions are turned into blink events that are submitted to further post-processing"
   ]
  },
  {
   "attachments": {},
   "cell_type": "markdown",
   "metadata": {},
   "source": [
    "<font size = 3>**(6.1) Filter wrong sequence**"
   ]
  },
  {
   "cell_type": "code",
   "execution_count": 226,
   "metadata": {},
   "outputs": [],
   "source": [
    "# if gap between onset and offset event is longer than 30 ms, discard the event\n",
    "max_gap_duration_s = 0.03\n",
    "timestamps = np.arange(0, len(prediction) / 200\n",
    "\n",
    "# create event array\n",
    "event_array_pd = EventArray.from_samples(timestamps, prediction)\n",
    "\n",
    "# filter wrong sequence (e.g. onset without offset) and events with long gap\n",
    "blink_array_pd = filter_wrong_sequence(event_array_pd, max_gap_duration_s)"
   ]
  },
  {
   "attachments": {},
   "cell_type": "markdown",
   "metadata": {},
   "source": [
    "<font size = 3>**(6.2) Filter short events**"
   ]
  },
  {
   "cell_type": "code",
   "execution_count": 232,
   "metadata": {},
   "outputs": [
    {
     "data": {
      "text/plain": [
       "[BlinkEvent(start_time=0.805, end_time=1.12, label='Blink'),\n",
       " BlinkEvent(start_time=5.145, end_time=5.5, label='Blink'),\n",
       " BlinkEvent(start_time=6.22, end_time=6.52, label='Blink'),\n",
       " BlinkEvent(start_time=7.0, end_time=7.33, label='Blink'),\n",
       " BlinkEvent(start_time=7.545, end_time=7.815, label='Blink'),\n",
       " BlinkEvent(start_time=8.175, end_time=8.45, label='Blink'),\n",
       " BlinkEvent(start_time=8.525, end_time=8.875, label='Blink'),\n",
       " BlinkEvent(start_time=9.025, end_time=9.205, label='Blink'),\n",
       " BlinkEvent(start_time=9.325, end_time=9.615, label='Blink'),\n",
       " BlinkEvent(start_time=9.845, end_time=10.1, label='Blink'),\n",
       " BlinkEvent(start_time=11.35, end_time=11.625, label='Blink'),\n",
       " BlinkEvent(start_time=13.33, end_time=13.585, label='Blink'),\n",
       " BlinkEvent(start_time=15.16, end_time=15.33, label='Blink'),\n",
       " BlinkEvent(start_time=15.975, end_time=16.245, label='Blink'),\n",
       " BlinkEvent(start_time=16.885, end_time=17.035, label='Blink'),\n",
       " BlinkEvent(start_time=17.145, end_time=17.37, label='Blink'),\n",
       " BlinkEvent(start_time=19.18, end_time=19.41, label='Blink'),\n",
       " BlinkEvent(start_time=21.195, end_time=21.31, label='Blink'),\n",
       " BlinkEvent(start_time=21.44, end_time=21.745, label='Blink'),\n",
       " BlinkEvent(start_time=22.045, end_time=22.365, label='Blink'),\n",
       " BlinkEvent(start_time=23.505, end_time=23.71, label='Blink'),\n",
       " BlinkEvent(start_time=25.13, end_time=25.41, label='Blink'),\n",
       " BlinkEvent(start_time=25.51, end_time=25.795, label='Blink'),\n",
       " BlinkEvent(start_time=27.995, end_time=28.365, label='Blink'),\n",
       " BlinkEvent(start_time=30.94, end_time=31.21, label='Blink'),\n",
       " BlinkEvent(start_time=32.455, end_time=32.75, label='Blink'),\n",
       " BlinkEvent(start_time=34.695, end_time=34.95, label='Blink'),\n",
       " BlinkEvent(start_time=36.715, end_time=36.995, label='Blink'),\n",
       " BlinkEvent(start_time=38.135, end_time=38.34, label='Blink'),\n",
       " BlinkEvent(start_time=41.105, end_time=41.305, label='Blink'),\n",
       " BlinkEvent(start_time=41.4, end_time=41.71, label='Blink'),\n",
       " BlinkEvent(start_time=43.81, end_time=44.025, label='Blink'),\n",
       " BlinkEvent(start_time=44.655, end_time=44.935, label='Blink'),\n",
       " BlinkEvent(start_time=46.23, end_time=46.49, label='Blink'),\n",
       " BlinkEvent(start_time=49.555, end_time=49.735, label='Blink'),\n",
       " BlinkEvent(start_time=50.09, end_time=50.35, label='Blink'),\n",
       " BlinkEvent(start_time=53.855, end_time=54.065, label='Blink'),\n",
       " BlinkEvent(start_time=54.555, end_time=54.875, label='Blink'),\n",
       " BlinkEvent(start_time=58.51, end_time=58.82, label='Blink'),\n",
       " BlinkEvent(start_time=59.955, end_time=60.18, label='Blink'),\n",
       " BlinkEvent(start_time=61.56, end_time=61.725, label='Blink'),\n",
       " BlinkEvent(start_time=62.01, end_time=62.265, label='Blink'),\n",
       " BlinkEvent(start_time=62.415, end_time=62.71, label='Blink'),\n",
       " BlinkEvent(start_time=65.52, end_time=65.765, label='Blink'),\n",
       " BlinkEvent(start_time=68.065, end_time=68.28, label='Blink'),\n",
       " BlinkEvent(start_time=68.625, end_time=68.855, label='Blink'),\n",
       " BlinkEvent(start_time=68.89, end_time=69.185, label='Blink'),\n",
       " BlinkEvent(start_time=69.71, end_time=70.025, label='Blink'),\n",
       " BlinkEvent(start_time=70.315, end_time=70.54, label='Blink'),\n",
       " BlinkEvent(start_time=70.695, end_time=71.08, label='Blink'),\n",
       " BlinkEvent(start_time=71.675, end_time=72.03, label='Blink'),\n",
       " BlinkEvent(start_time=72.125, end_time=72.345, label='Blink'),\n",
       " BlinkEvent(start_time=73.92, end_time=74.195, label='Blink'),\n",
       " BlinkEvent(start_time=76.03, end_time=76.315, label='Blink'),\n",
       " BlinkEvent(start_time=76.935, end_time=77.175, label='Blink'),\n",
       " BlinkEvent(start_time=77.49, end_time=77.695, label='Blink'),\n",
       " BlinkEvent(start_time=79.405, end_time=79.755, label='Blink'),\n",
       " BlinkEvent(start_time=80.375, end_time=80.735, label='Blink'),\n",
       " BlinkEvent(start_time=81.305, end_time=81.62, label='Blink'),\n",
       " BlinkEvent(start_time=83.64, end_time=83.945, label='Blink'),\n",
       " BlinkEvent(start_time=84.595, end_time=84.955, label='Blink'),\n",
       " BlinkEvent(start_time=85.6, end_time=85.98, label='Blink')]"
      ]
     },
     "execution_count": 232,
     "metadata": {},
     "output_type": "execute_result"
    }
   ],
   "source": [
    "# define minimum blink duration\n",
    "min_len_s = 0.1\n",
    "# define label for blink events\n",
    "blink_label = 3\n",
    "\n",
    "# filter short blinks\n",
    "blink_array_pd = filter_short_events(blink_array_pd, min_len_s, blink_label)\n",
    "\n",
    "# get blink events\n",
    "blink_events = blink_array_pd.blink_events"
   ]
  },
  {
   "attachments": {},
   "cell_type": "markdown",
   "metadata": {},
   "source": [
    "**Plot mean optical flow and predicted blink events**"
   ]
  },
  {
   "cell_type": "code",
   "execution_count": 1,
   "metadata": {},
   "outputs": [
    {
     "ename": "NameError",
     "evalue": "name 'np' is not defined",
     "output_type": "error",
     "traceback": [
      "\u001b[0;31m---------------------------------------------------------------------------\u001b[0m",
      "\u001b[0;31mNameError\u001b[0m                                 Traceback (most recent call last)",
      "Cell \u001b[0;32mIn[1], line 1\u001b[0m\n\u001b[0;32m----> 1\u001b[0m np\u001b[39m.\u001b[39mmean(feature_calculator\u001b[39m.\u001b[39mof_array, axis\u001b[39m=\u001b[39m\u001b[39m1\u001b[39m)\n",
      "\u001b[0;31mNameError\u001b[0m: name 'np' is not defined"
     ]
    }
   ],
   "source": [
    "np.mean(feature_calculator.of_array, axis=1)"
   ]
  },
  {
   "cell_type": "code",
   "execution_count": null,
   "metadata": {},
   "outputs": [],
   "source": []
  }
 ],
 "metadata": {
  "kernelspec": {
   "display_name": "tom_py310",
   "language": "python",
   "name": "python3"
  },
  "language_info": {
   "codemirror_mode": {
    "name": "ipython",
    "version": 3
   },
   "file_extension": ".py",
   "mimetype": "text/x-python",
   "name": "python",
   "nbconvert_exporter": "python",
   "pygments_lexer": "ipython3",
   "version": "3.10.10"
  },
  "orig_nbformat": 4
 },
 "nbformat": 4,
 "nbformat_minor": 2
}
