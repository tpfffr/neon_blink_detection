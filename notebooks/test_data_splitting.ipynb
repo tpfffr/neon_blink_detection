{
 "cells": [
  {
   "cell_type": "code",
   "execution_count": 10,
   "metadata": {},
   "outputs": [
    {
     "name": "stdout",
     "output_type": "stream",
     "text": [
      "options 60\n",
      "\n",
      "Loading clip: 1252-2023-01-26-09-38-13-5b1af4ce\n",
      "Number of clips: 1\n",
      "\n",
      "Loading clip: 1251-2023-01-25-16-37-59-6778eeb5\n",
      "Number of clips: 1\n",
      "\n",
      "Loading clip: 1249-2023-01-25-14-29-18-e54693e4\n",
      "Number of clips: 1\n",
      "\n",
      "Loading clip: 1248-2023-01-25-12-59-30-e6407072\n",
      "Number of clips: 3\n",
      "\n",
      "Loading clip: 1328-2023-02-06-09-45-58-f56cc84e\n",
      "Number of clips: 2\n",
      "\n",
      "Loading clip: 1327-2023-02-06-09-40-56-d5cf1243\n",
      "Number of clips: 1\n",
      "\n",
      "Loading clip: 1326-2023-02-03-17-45-57-8a41f628\n",
      "Number of clips: 1\n",
      "\n",
      "Loading clip: 1325-2023-02-03-17-46-35-11ad4b90\n",
      "Number of clips: 1\n",
      "\n",
      "Loading clip: 1322-2023-02-03-14-25-41-7883a14f\n",
      "Number of clips: 2\n",
      "\n",
      "Loading clip: 1318-2023-02-03-10-41-29-03c72c25\n",
      "Number of clips: 1\n",
      "\n",
      "Loading clip: 1317-2023-02-03-09-41-14-30f69b87\n",
      "Number of clips: 2\n",
      "\n",
      "Loading clip: 1316-2023-02-03-09-34-09-31ef7938\n",
      "Number of clips: 4\n",
      "\n",
      "Loading clip: 1311-2023-02-02-14-30-40-96be0928\n",
      "Number of clips: 1\n",
      "\n",
      "Loading clip: 1312-2023-02-02-16-21-47-cd28e8e0\n",
      "Number of clips: 1\n",
      "\n",
      "Loading clip: 1313-2023-02-02-16-31-53-67b1bdbe\n",
      "Number of clips: 1\n",
      "\n",
      "Loading clip: 1329-2023-02-06-10-40-29-c4308424\n",
      "Number of clips: 2\n",
      "\n",
      "Loading clip: 1332-2023-02-06-11-58-03-8fc75e25\n",
      "Number of clips: 1\n",
      "\n",
      "Loading clip: 1333-2023-02-06-13-17-50-ebc1e021\n",
      "Number of clips: 1\n",
      "\n",
      "Loading clip: 1336-2023-02-06-15-28-30-adb9dbfb\n",
      "Number of clips: 2\n",
      "\n",
      "Loading clip: 1337-2023-02-06-15-36-31-211278ea\n",
      "Number of clips: 1\n"
     ]
    }
   ],
   "source": [
    "import sys\n",
    "\n",
    "sys.path.append(\"/users/tom/git/neon_blink_detection/\")\n",
    "sys.path.append(\"/users/tom/git/neon_blink_detection/src\")\n",
    "\n",
    "from training.evaluation import evaluate\n",
    "from training.helper import ClassifierParams, Results\n",
    "from sklearn.metrics import f1_score, precision_score, recall_score, accuracy_score\n",
    "from sklearn.model_selection import cross_validate\n",
    "from copy import copy\n",
    "from functions.classifiers import Classifier, load_predictions, save_predictions\n",
    "from src.post_processing import classify\n",
    "of_params, pp_params, _ = get_params()\n",
    "\n",
    "from src.neon_blink_detector import get_params\n",
    "from src.features_calculator import create_grids\n",
    "from pathlib import Path\n",
    "import numpy as np\n",
    "from random import choices\n",
    "from training.datasets_loader import (\n",
    "    concatenate,\n",
    "    concatenate_all_samples,\n",
    ")\n",
    "from training.helper import (\n",
    "    get_augmentation_options,\n",
    "    get_export_dir,\n",
    "    get_training_dir,\n",
    ")\n",
    "from src.event_array import Samples\n",
    "from src.helper import OfParams, PPParams, AugParams\n",
    "from training.helper import get_experiment_name_new\n",
    "from training.video_loader import video_loader\n",
    "\n",
    "clip_names = np.load(\"/users/tom/git/neon_blink_detection/clip_list.npy\")\n",
    "\n",
    "of_params = OfParams(n_layers=7, layer_interval=7, average=False, img_shape=(64, 64), grid_size=4, step_size=7, window_size=11, stop_steps=3)\n",
    "\n",
    "aug_params_options = get_augmentation_options()\n",
    "aug_params = aug_params_options[0]\n",
    "\n",
    "rec = video_loader(of_params, aug_params)\n",
    "\n",
    "rec.collect(clip_names, bg_ratio=1, augment=False, idx=0)"
   ]
  },
  {
   "cell_type": "code",
   "execution_count": 5,
   "metadata": {},
   "outputs": [],
   "source": [
    "def compute_clf_scores(predictions, labels):\n",
    "\n",
    "    pred = copy(predictions)\n",
    "    pred[pred == 1] = 0\n",
    "    pred[pred == 2] = 1\n",
    "    lab = copy(labels)\n",
    "    lab[lab == 1] = 0\n",
    "    lab[lab == 2] = 1\n",
    "\n",
    "    scores = {}\n",
    "\n",
    "    scores[\"recall_off\"] = recall_score(lab, pred)\n",
    "    scores[\"precision_off\"] = precision_score(lab, pred)\n",
    "    scores[\"f1_off\"] = f1_score(lab, pred)\n",
    "\n",
    "    pred = copy(predictions)\n",
    "    pred[pred == 2] = 0\n",
    "    pred[pred == 1] = 1\n",
    "    lab = copy(labels)\n",
    "    lab[lab == 2] = 0\n",
    "    lab[lab == 1] = 1\n",
    "\n",
    "    scores[\"recall_on\"] = recall_score(lab, pred)\n",
    "    scores[\"precision_on\"] = precision_score(lab, pred)\n",
    "    scores[\"f1_on\"] = f1_score(lab, pred)\n",
    "\n",
    "    pred = copy(predictions)\n",
    "    pred[pred > 0] = 1\n",
    "    lab = copy(labels)\n",
    "    lab[lab > 0] = 1\n",
    "\n",
    "    scores[\"recall_all\"] = recall_score(lab, pred)\n",
    "    scores[\"precision_all\"] = precision_score(lab, pred)\n",
    "    scores[\"f1_all\"] = f1_score(lab, pred)\n",
    "\n",
    "    return scores\n"
   ]
  },
  {
   "cell_type": "code",
   "execution_count": 6,
   "metadata": {},
   "outputs": [],
   "source": [
    "from functions.pipeline import get_classifier_params\n",
    "\n",
    "classifier_params = get_classifier_params()\n",
    "\n",
    "training_dir = get_training_dir(classifier_params.name, False)\n",
    "export_dir = get_export_dir(classifier_params.name, False)\n",
    "\n",
    "experiment_name = get_experiment_name_new(of_params, aug_params)\n",
    "save_path = training_dir / experiment_name\n",
    "export_path = export_dir / experiment_name"
   ]
  },
  {
   "cell_type": "code",
   "execution_count": null,
   "metadata": {},
   "outputs": [],
   "source": [
    "from sklearn.model_selection import KFold\n",
    "\n",
    "kf = KFold(n_splits=5)\n",
    "\n",
    "features = concatenate(rec.all_features, clip_names)\n",
    "samples_gt = concatenate_all_samples(rec.all_samples, clip_names)\n",
    "labels = samples_gt.labels\n",
    "X = features\n",
    "y = labels\n",
    "\n",
    "scores_train = []\n",
    "scores_test = []\n",
    "i = 0\n",
    "\n",
    "for train, test in kf.split(X):\n",
    "\n",
    "    print(i)\n",
    "\n",
    "    x_train, x_test = X[train], X[test]\n",
    "    y_train, y_test = y[train], y[test]\n",
    "\n",
    "    classifier = Classifier(classifier_params, export_path)\n",
    "    classifier.on_fit(x_train, y_train)\n",
    "\n",
    "    predictions = classifier.predict(x_train)\n",
    "    predictions = classify(predictions, pp_params)\n",
    "\n",
    "    scores_train.append(f1_score(y_train, predictions, average=None))\n",
    "\n",
    "    predictions = classifier.predict(x_test)\n",
    "    predictions = classify(predictions, pp_params)\n",
    "\n",
    "    scores_test.append(f1_score(y_test, predictions, average=None))\n",
    "\n",
    "    i += 1\n"
   ]
  },
  {
   "cell_type": "code",
   "execution_count": 117,
   "metadata": {},
   "outputs": [
    {
     "name": "stdout",
     "output_type": "stream",
     "text": [
      "---------------- Training F1 scores ----------------\n",
      "['Bg: 0.97, ', 'Bg: 0.98, ', 'Bg: 0.97, ', 'Bg: 0.97, ', 'Bg: 0.97, ']\n",
      "['On: 0.91, ', 'On: 0.91, ', 'On: 0.92, ', 'On: 0.91, ', 'On: 0.91, ']\n",
      "['Off: 0.91, ', 'Off: 0.92, ', 'Off: 0.91, ', 'Off: 0.91, ', 'Off: 0.91, ']\n",
      "---------------- Test F1 scores ----------------\n",
      "['Bg: 0.95, ', 'Bg: 0.94, ', 'Bg: 0.94, ', 'Bg: 0.95, ', 'Bg: 0.95, ']\n",
      "['On: 0.81, ', 'On: 0.84, ', 'On: 0.79, ', 'On: 0.80, ', 'On: 0.83, ']\n",
      "['Off: 0.85, ', 'Off: 0.82, ', 'Off: 0.83, ', 'Off: 0.83, ', 'Off: 0.82, ']\n"
     ]
    }
   ],
   "source": [
    "print(\"---------------- Training F1 scores ----------------\")\n",
    "print([f\"Bg: {np.array(scores_train)[x, 0]:.2f}, \" for x in range(0, 5)])\n",
    "print([f\"On: {np.array(scores_train)[x, 1]:.2f}, \" for x in range(0, 5)])\n",
    "print([f\"Off: {np.array(scores_train)[x, 2]:.2f}, \" for x in range(0, 5)])\n",
    "\n",
    "print(\"---------------- Test F1 scores ----------------\")\n",
    "print([f\"Bg: {np.array(scores_test)[x, 0]:.2f}, \" for x in range(0, 5)])\n",
    "print([f\"On: {np.array(scores_test)[x, 1]:.2f}, \" for x in range(0, 5)])\n",
    "print([f\"Off: {np.array(scores_test)[x, 2]:.2f}, \" for x in range(0, 5)])"
   ]
  },
  {
   "attachments": {},
   "cell_type": "markdown",
   "metadata": {},
   "source": [
    "**Small training set (20%) and large validation set (80%)**"
   ]
  },
  {
   "cell_type": "code",
   "execution_count": null,
   "metadata": {},
   "outputs": [],
   "source": [
    "from sklearn.model_selection import KFold\n",
    "\n",
    "kf = KFold(n_splits=5)\n",
    "\n",
    "features = concatenate(rec.all_features, clip_names)\n",
    "samples_gt = concatenate_all_samples(rec.all_samples, clip_names)\n",
    "labels = samples_gt.labels\n",
    "X = features\n",
    "y = labels\n",
    "\n",
    "scores_train = []\n",
    "scores_test = []\n",
    "i = 0\n",
    "\n",
    "for test, train in kf.split(X):\n",
    "\n",
    "    print(i)\n",
    "\n",
    "    x_train, x_test = X[train], X[test]\n",
    "    y_train, y_test = y[train], y[test]\n",
    "\n",
    "    classifier = Classifier(classifier_params, export_path)\n",
    "    classifier.on_fit(x_train, y_train)\n",
    "\n",
    "    predictions = classifier.predict(x_train)\n",
    "    predictions = classify(predictions, pp_params)\n",
    "\n",
    "    scores_train.append(f1_score(y_train, predictions, average=None))\n",
    "\n",
    "    predictions = classifier.predict(x_test)\n",
    "    predictions = classify(predictions, pp_params)\n",
    "\n",
    "    scores_test.append(f1_score(y_test, predictions, average=None))\n",
    "\n",
    "    i += 1\n",
    "\n"
   ]
  },
  {
   "attachments": {},
   "cell_type": "markdown",
   "metadata": {},
   "source": [
    "**Scores for small training (20%) and large validation set**"
   ]
  },
  {
   "cell_type": "code",
   "execution_count": 114,
   "metadata": {},
   "outputs": [
    {
     "name": "stdout",
     "output_type": "stream",
     "text": [
      "---------------- Training F1 scores ----------------\n",
      "['Bg: 1.00, ', 'Bg: 0.99, ', 'Bg: 0.99, ', 'Bg: 0.99, ', 'Bg: 1.00, ']\n",
      "['On: 0.98, ', 'On: 0.98, ', 'On: 0.98, ', 'On: 0.98, ', 'On: 0.99, ']\n",
      "['Off: 0.98, ', 'Off: 0.98, ', 'Off: 0.98, ', 'Off: 0.98, ', 'Off: 0.99, ']\n",
      "---------------- Test F1 scores ----------------\n",
      "['Bg: 0.94, ', 'Bg: 0.93, ', 'Bg: 0.94, ', 'Bg: 0.92, ', 'Bg: 0.93, ']\n",
      "['On: 0.76, ', 'On: 0.73, ', 'On: 0.81, ', 'On: 0.77, ', 'On: 0.74, ']\n",
      "['Off: 0.78, ', 'Off: 0.73, ', 'Off: 0.82, ', 'Off: 0.78, ', 'Off: 0.78, ']\n"
     ]
    }
   ],
   "source": [
    "print(\"---------------- Training F1 scores ----------------\")\n",
    "print([f\"Bg: {np.array(scores_train)[x, 0]:.2f}, \" for x in range(0, 5)])\n",
    "print([f\"On: {np.array(scores_train)[x, 1]:.2f}, \" for x in range(0, 5)])\n",
    "print([f\"Off: {np.array(scores_train)[x, 2]:.2f}, \" for x in range(0, 5)])\n",
    "\n",
    "print(\"---------------- Test F1 scores ----------------\")\n",
    "print([f\"Bg: {np.array(scores_test)[x, 0]:.2f}, \" for x in range(0, 5)])\n",
    "print([f\"On: {np.array(scores_test)[x, 1]:.2f}, \" for x in range(0, 5)])\n",
    "print([f\"Off: {np.array(scores_test)[x, 2]:.2f}, \" for x in range(0, 5)])\n"
   ]
  },
  {
   "attachments": {},
   "cell_type": "markdown",
   "metadata": {},
   "source": [
    "**Even smaller training (10%) and larger validation set (90%)**"
   ]
  },
  {
   "cell_type": "code",
   "execution_count": null,
   "metadata": {},
   "outputs": [],
   "source": [
    "from sklearn.model_selection import KFold\n",
    "\n",
    "kf = KFold(n_splits=10)\n",
    "\n",
    "features = concatenate(rec.all_features, clip_names)\n",
    "samples_gt = concatenate_all_samples(rec.all_samples, clip_names)\n",
    "labels = samples_gt.labels\n",
    "X = features\n",
    "y = labels\n",
    "\n",
    "scores_train = []\n",
    "scores_test = []\n",
    "i = 0\n",
    "\n",
    "for test, train in kf.split(X):\n",
    "\n",
    "    print(i)\n",
    "\n",
    "    x_train, x_test = X[train], X[test]\n",
    "    y_train, y_test = y[train], y[test]\n",
    "\n",
    "    classifier = Classifier(classifier_params, export_path)\n",
    "    classifier.on_fit(x_train, y_train)\n",
    "\n",
    "    predictions = classifier.predict(x_train)\n",
    "    predictions = classify(predictions, pp_params)\n",
    "\n",
    "    scores_train.append(f1_score(y_train, predictions, average=None))\n",
    "\n",
    "    predictions = classifier.predict(x_test)\n",
    "    predictions = classify(predictions, pp_params)\n",
    "\n",
    "    scores_test.append(f1_score(y_test, predictions, average=None))\n",
    "\n",
    "    i += 1"
   ]
  },
  {
   "cell_type": "code",
   "execution_count": 120,
   "metadata": {},
   "outputs": [
    {
     "name": "stdout",
     "output_type": "stream",
     "text": [
      "---------------- Training F1 scores ----------------\n",
      "['Bg: 1.00, ', 'Bg: 1.00, ', 'Bg: 1.00, ', 'Bg: 1.00, ', 'Bg: 1.00, ', 'Bg: 1.00, ', 'Bg: 1.00, ', 'Bg: 1.00, ', 'Bg: 1.00, ', 'Bg: 1.00, ']\n",
      "['On: 1.00, ', 'On: 1.00, ', 'On: 1.00, ', 'On: 1.00, ', 'On: 1.00, ', 'On: 1.00, ', 'On: 1.00, ', 'On: 1.00, ', 'On: 1.00, ', 'On: 1.00, ']\n",
      "['Off: 1.00, ', 'Off: 1.00, ', 'Off: 1.00, ', 'Off: 1.00, ', 'Off: 1.00, ', 'Off: 1.00, ', 'Off: 1.00, ', 'Off: 1.00, ', 'Off: 1.00, ', 'Off: 1.00, ']\n",
      "---------------- Test F1 scores ----------------\n",
      "['Bg: 0.93, ', 'Bg: 0.93, ', 'Bg: 0.93, ', 'Bg: 0.93, ', 'Bg: 0.93, ', 'Bg: 0.94, ', 'Bg: 0.93, ', 'Bg: 0.92, ', 'Bg: 0.93, ', 'Bg: 0.93, ']\n",
      "['On: 0.73, ', 'On: 0.71, ', 'On: 0.73, ', 'On: 0.73, ', 'On: 0.73, ', 'On: 0.79, ', 'On: 0.76, ', 'On: 0.74, ', 'On: 0.70, ', 'On: 0.74, ']\n",
      "['Off: 0.75, ', 'Off: 0.75, ', 'Off: 0.73, ', 'Off: 0.74, ', 'Off: 0.76, ', 'Off: 0.81, ', 'Off: 0.76, ', 'Off: 0.76, ', 'Off: 0.77, ', 'Off: 0.76, ']\n"
     ]
    }
   ],
   "source": [
    "print(\"---------------- Training F1 scores ----------------\")\n",
    "print([f\"Bg: {np.array(scores_train)[x, 0]:.2f}, \" for x in range(0, 10)])\n",
    "print([f\"On: {np.array(scores_train)[x, 1]:.2f}, \" for x in range(0, 10)])\n",
    "print([f\"Off: {np.array(scores_train)[x, 2]:.2f}, \" for x in range(0, 10)])\n",
    "\n",
    "print(\"---------------- Test F1 scores ----------------\")\n",
    "print([f\"Bg: {np.array(scores_test)[x, 0]:.2f}, \" for x in range(0, 10)])\n",
    "print([f\"On: {np.array(scores_test)[x, 1]:.2f}, \" for x in range(0, 10)])\n",
    "print([f\"Off: {np.array(scores_test)[x, 2]:.2f}, \" for x in range(0, 10)])\n"
   ]
  },
  {
   "cell_type": "code",
   "execution_count": null,
   "metadata": {},
   "outputs": [],
   "source": [
    "from sklearn.model_selection import KFold\n",
    "from sklearn.metrics import accuracy_score\n",
    "from sklearn.model_selection import StratifiedKFold\n",
    "kf = StratifiedKFold(n_splits=2000)\n",
    "\n",
    "features = concatenate(rec.all_features, clip_names)\n",
    "samples_gt = concatenate_all_samples(rec.all_samples, clip_names)\n",
    "labels = samples_gt.labels\n",
    "X = features\n",
    "y = labels\n",
    "\n",
    "scores_train = []\n",
    "scores_test = []\n",
    "i = 0\n",
    "\n",
    "for test, train in kf.split(X, y):\n",
    "\n",
    "    print(i)\n",
    "\n",
    "    x_train, x_test = X[train], X[test]\n",
    "    y_train, y_test = y[train], y[test]\n",
    "\n",
    "    classifier = Classifier(classifier_params, export_path)\n",
    "    classifier.on_fit(x_train, y_train)\n",
    "\n",
    "    predictions = classifier.predict(x_train)\n",
    "    predictions = classify(predictions, pp_params)\n",
    "\n",
    "    scores_train.append(f1_score(y_train, predictions, average=None))\n",
    "\n",
    "    predictions = classifier.predict(x_test)\n",
    "    predictions = classify(predictions, pp_params)\n",
    "\n",
    "    scores_test.append(f1_score(y_test, predictions, average=None))\n",
    "\n",
    "    i += 1"
   ]
  },
  {
   "cell_type": "code",
   "execution_count": 73,
   "metadata": {},
   "outputs": [
    {
     "name": "stdout",
     "output_type": "stream",
     "text": [
      "---------------- Training F1 scores ----------------\n",
      "['Bg: 1.00, ', 'Bg: 1.00, ', 'Bg: 1.00, ', 'Bg: 1.00, ', 'Bg: 1.00, ', 'Bg: 1.00, ', 'Bg: 1.00, ', 'Bg: 1.00, ', 'Bg: 1.00, ', 'Bg: 1.00, ']\n",
      "['On: 1.00, ', 'On: 1.00, ', 'On: 1.00, ', 'On: 1.00, ', 'On: 1.00, ', 'On: 1.00, ', 'On: 1.00, ', 'On: 1.00, ', 'On: 1.00, ', 'On: 1.00, ']\n",
      "['Off: 1.00, ', 'Off: 1.00, ', 'Off: 1.00, ', 'Off: 1.00, ', 'Off: 1.00, ', 'Off: 1.00, ', 'Off: 1.00, ', 'Off: 1.00, ', 'Off: 1.00, ', 'Off: 1.00, ']\n",
      "---------------- Test F1 scores ----------------\n",
      "['Bg: 0.86, ', 'Bg: 0.87, ', 'Bg: 0.74, ', 'Bg: 0.87, ', 'Bg: 0.85, ', 'Bg: 0.83, ', 'Bg: 0.82, ', 'Bg: 0.87, ', 'Bg: 0.82, ', 'Bg: 0.87, ']\n",
      "['On: 0.37, ', 'On: 0.33, ', 'On: 0.39, ', 'On: 0.43, ', 'On: 0.36, ', 'On: 0.12, ', 'On: 0.34, ', 'On: 0.32, ', 'On: 0.37, ', 'On: 0.37, ']\n",
      "['Off: 0.57, ', 'Off: 0.45, ', 'Off: 0.50, ', 'Off: 0.50, ', 'Off: 0.50, ', 'Off: 0.33, ', 'Off: 0.48, ', 'Off: 0.41, ', 'Off: 0.45, ', 'Off: 0.37, ']\n"
     ]
    }
   ],
   "source": [
    "print(\"---------------- Training F1 scores ----------------\")\n",
    "print([f\"Bg: {np.array(scores_train)[x, 0]:.2f}, \" for x in range(0, 10)])\n",
    "print([f\"On: {np.array(scores_train)[x, 1]:.2f}, \" for x in range(0, 10)])\n",
    "print([f\"Off: {np.array(scores_train)[x, 2]:.2f}, \" for x in range(0, 10)])\n",
    "\n",
    "print(\"---------------- Test F1 scores ----------------\")\n",
    "print([f\"Bg: {np.array(scores_test)[x, 0]:.2f}, \" for x in range(0, 10)])\n",
    "print([f\"On: {np.array(scores_test)[x, 1]:.2f}, \" for x in range(0, 10)])\n",
    "print([f\"Off: {np.array(scores_test)[x, 2]:.2f}, \" for x in range(0, 10)])"
   ]
  },
  {
   "cell_type": "code",
   "execution_count": 51,
   "metadata": {},
   "outputs": [
    {
     "data": {
      "text/plain": [
       "[0.7592609023557074,\n",
       " 0.7562552681779868,\n",
       " 0.6243068186859501,\n",
       " 0.7716494388004081,\n",
       " 0.739008917084424,\n",
       " 0.6790847788474336,\n",
       " 0.7069007586176301,\n",
       " 0.7363360099374473,\n",
       " 0.6994698549310145,\n",
       " 0.7573089037753427,\n",
       " 0.6759793265604898,\n",
       " 0.5673772237256555,\n",
       " 0.7028082161394792,\n",
       " 0.6808482321103766,\n",
       " 0.6589104298833237,\n",
       " 0.6673284237611463]"
      ]
     },
     "execution_count": 51,
     "metadata": {},
     "output_type": "execute_result"
    }
   ],
   "source": [
    "scores_test"
   ]
  },
  {
   "cell_type": "code",
   "execution_count": 63,
   "metadata": {},
   "outputs": [
    {
     "name": "stdout",
     "output_type": "stream",
     "text": [
      "on_fit took 166 ms\n"
     ]
    }
   ],
   "source": [
    "classifier = Classifier(classifier_params, export_path)\n",
    "classifier.on_fit(x_train, y_train)\n",
    "\n",
    "predictions = classifier.predict(x_test)\n",
    "predictions = classify(predictions, pp_params)"
   ]
  },
  {
   "cell_type": "code",
   "execution_count": 79,
   "metadata": {},
   "outputs": [
    {
     "data": {
      "text/plain": [
       "array([ 0,  0,  0,  0,  0,  0,  0,  0,  0,  0,  0,  0,  0,  0,  0,  0,  0,\n",
       "        0,  0,  0,  0,  0,  0,  0,  0,  0,  0,  0,  0,  0,  0,  0,  0,  0,\n",
       "        0,  0,  0,  0,  0,  0,  0,  0,  0,  0,  0,  0,  0,  0,  0,  0,  0,\n",
       "        0,  0,  0,  0,  0,  0, -1,  0,  0,  0,  0,  0,  0,  0,  0,  0,  0,\n",
       "        0,  0,  0, -1, -1, -1, -1, -1, -1, -1, -1, -1,  0,  0,  0,  0,  0,\n",
       "        0,  0,  0,  0,  0,  0,  0,  0,  0,  0,  0,  0,  0,  0,  0,  0,  0,\n",
       "        0,  0,  0,  0,  0,  0,  0,  0,  0,  0,  0,  0,  0,  0,  0,  0,  0,\n",
       "        0,  0,  0,  0,  0,  0,  0,  0,  0,  0,  0,  0,  0,  0,  0,  0,  0,\n",
       "        0,  0,  0,  0,  0,  0,  0,  0,  0,  0,  0,  0,  0,  0,  0,  0,  0,\n",
       "        0,  0,  0,  1,  1,  0,  0,  1,  0,  0,  0,  1,  1,  1,  1,  1,  0,\n",
       "        0,  0,  0,  0,  0,  0,  0,  0,  0,  0,  0,  0,  0,  0,  0,  0,  0,\n",
       "        0,  0,  0,  0,  0,  0,  0,  0,  0,  0,  0,  0,  0,  0,  0,  0,  0,\n",
       "        0, -1,  1,  1,  1,  1,  1,  0,  1,  0,  0,  0,  0,  0,  0,  0,  0,\n",
       "        0,  0, -1, -1, -1, -1, -1, -1, -1, -1,  0,  0,  0,  0,  0,  0,  0,\n",
       "        0, -2, -2, -2, -2, -2, -2, -2,  0,  0,  0,  0,  0,  0,  0,  0,  0,\n",
       "        0,  0,  0,  0,  0,  0,  0,  0,  0,  0,  0,  0,  0,  0,  0,  0,  0,\n",
       "        0,  0,  0,  0,  0,  0,  0,  0,  0,  0,  0,  0,  0,  0,  0,  0,  0,\n",
       "        0,  1,  1,  1,  0,  0,  0,  0,  0,  0,  0,  0,  0,  0,  0, -1, -1,\n",
       "       -1, -1, -1, -1, -1, -1, -1, -1, -1, -1,  0,  0,  0,  0,  0,  0,  0,\n",
       "        0,  0, -2, -2, -2, -2, -2, -2, -2,  0,  0,  0,  0,  0,  0,  0,  0,\n",
       "        0,  0,  0,  0,  0,  0,  0,  0,  0,  0,  0,  0,  0,  0,  0,  0,  0,\n",
       "        0,  0,  0,  0,  0,  0,  0,  0,  0,  0,  0,  0,  0,  1,  0,  0,  0,\n",
       "        0,  0,  0,  0,  0,  0,  0,  0,  0,  0,  0,  0,  0,  0,  0,  0,  0,\n",
       "        0,  1,  0,  0,  0,  0,  0,  0,  0,  0,  0,  0,  0,  0, -1, -1, -1,\n",
       "       -1, -1, -1, -1, -1,  0, -1, -1,  0, -2, -2, -2, -2, -2, -2, -2, -2,\n",
       "       -2, -2, -2, -2, -2, -2, -2, -2, -2, -2,  0,  0,  0,  0,  0,  0,  0,\n",
       "        0,  0,  0,  0,  0,  0,  0,  0,  0,  0,  1,  0,  0,  0,  0,  0,  0,\n",
       "        0,  0,  0,  0,  0,  1,  1,  0,  1,  0,  0,  0,  0,  0,  0,  0,  0,\n",
       "        0,  0,  0,  0,  0,  0,  1, -1, -1,  0,  0,  0,  0,  0,  0,  0,  0,\n",
       "        0,  0,  0,  0,  0, -1, -1])"
      ]
     },
     "execution_count": 79,
     "metadata": {},
     "output_type": "execute_result"
    }
   ],
   "source": [
    "predictions[0:500]-y_test[0:500]"
   ]
  },
  {
   "cell_type": "code",
   "execution_count": 76,
   "metadata": {},
   "outputs": [
    {
     "data": {
      "text/plain": [
       "array([0, 0, 0, 0, 0, 0, 0, 0, 0, 0, 0, 0, 0, 0, 0, 0, 0, 0, 0, 0, 0, 0,\n",
       "       0, 0, 0, 0, 0, 0, 0, 0, 0, 0, 0, 0, 0, 0, 0, 0, 0, 0, 0, 0, 0, 0,\n",
       "       0, 0, 0, 0, 0, 0, 0, 0, 0, 0, 0, 0, 0, 1, 1, 1, 1, 1, 1, 1, 1, 1,\n",
       "       1, 1, 1, 1, 1, 2, 2, 2, 2, 2, 2, 2, 2, 2, 2, 2, 2, 2, 2, 2, 2, 2,\n",
       "       2, 0, 0, 0, 0, 0, 0, 0, 0, 0, 0, 0, 0, 0, 0, 0, 0, 0, 0, 0, 0, 0,\n",
       "       0, 0, 0, 0, 0, 0, 0, 0, 0, 0, 0, 0, 0, 0, 0, 0, 0, 0, 0, 0, 0, 0,\n",
       "       0, 0, 0, 0, 0, 0, 0, 0, 0, 0, 0, 0, 0, 0, 0, 0, 0, 0, 0, 0, 0, 0,\n",
       "       0, 0, 0, 0, 0, 0, 0, 0, 0, 0, 0, 0, 0, 0, 0, 0, 0, 0, 0, 0, 0, 0,\n",
       "       0, 0, 0, 0, 0, 0, 0, 0, 0, 0, 0, 0, 0, 0, 0, 0, 0, 0, 0, 0, 0, 0,\n",
       "       0, 0, 0, 0, 0, 0, 0, 1, 1, 1, 1, 1, 1, 1, 1, 1, 1, 1, 1, 1, 1, 1,\n",
       "       1, 1, 1, 2, 2, 2, 2, 2, 2, 2, 2, 2, 2, 2, 2, 2, 2, 2, 2, 2, 2, 2,\n",
       "       2, 2, 2, 2, 0, 0, 0, 0, 0, 0, 0, 0, 0, 0, 0, 0, 0, 0, 0, 0, 0, 0,\n",
       "       0, 0, 0, 0, 0, 0, 0, 0, 0, 0, 0, 0, 0, 0, 0, 0, 0, 0, 0, 0, 0, 0,\n",
       "       0, 0, 0, 0, 0, 0, 0, 1, 1, 1, 1, 1, 1, 1, 1, 1, 1, 1, 2, 2, 2, 2,\n",
       "       2, 2, 2, 2, 2, 2, 2, 2, 2, 2, 2, 2, 2, 2, 2, 2, 2, 2, 2, 2, 2, 2,\n",
       "       2, 2, 0, 0, 0, 0, 0, 0, 0, 0, 0, 0, 0, 0, 0, 0, 0, 0, 0, 0, 0, 0,\n",
       "       0, 0, 0, 0, 0, 0, 0, 0, 0, 0, 0, 0, 0, 0, 0, 0, 0, 0, 0, 0, 0, 0,\n",
       "       0, 0, 0, 0, 0, 0, 0, 0, 0, 0, 0, 0, 0, 0, 0, 0, 0, 0, 0, 1, 1, 1,\n",
       "       1, 1, 1, 1, 1, 1, 1, 1, 1, 2, 2, 2, 2, 2, 2, 2, 2, 2, 2, 2, 2, 2,\n",
       "       2, 2, 2, 2, 2, 2, 2, 2, 2, 2, 2, 2, 2, 2, 2, 2, 2, 0, 0, 0, 0, 0,\n",
       "       0, 0, 0, 0, 0, 0, 0, 0, 0, 0, 0, 0, 0, 0, 0, 0, 0, 0, 0, 0, 0, 0,\n",
       "       0, 0, 0, 0, 0, 0, 0, 0, 0, 0, 0, 0, 0, 0, 0, 0, 0, 0, 0, 0, 0, 1,\n",
       "       1, 1, 1, 1, 1, 1, 1, 1, 1, 1, 1, 1, 1, 1, 2, 2])"
      ]
     },
     "execution_count": 76,
     "metadata": {},
     "output_type": "execute_result"
    }
   ],
   "source": [
    "y_test[0:500]"
   ]
  },
  {
   "cell_type": "code",
   "execution_count": 66,
   "metadata": {},
   "outputs": [
    {
     "data": {
      "text/plain": [
       "46"
      ]
     },
     "execution_count": 66,
     "metadata": {},
     "output_type": "execute_result"
    }
   ],
   "source": [
    "len(train)"
   ]
  }
 ],
 "metadata": {
  "kernelspec": {
   "display_name": "tom_py310",
   "language": "python",
   "name": "python3"
  },
  "language_info": {
   "codemirror_mode": {
    "name": "ipython",
    "version": 3
   },
   "file_extension": ".py",
   "mimetype": "text/x-python",
   "name": "python",
   "nbconvert_exporter": "python",
   "pygments_lexer": "ipython3",
   "version": "3.10.9"
  },
  "orig_nbformat": 4
 },
 "nbformat": 4,
 "nbformat_minor": 2
}
