{
 "cells": [
  {
   "cell_type": "code",
   "execution_count": 1,
   "metadata": {},
   "outputs": [],
   "source": [
    "# import pandas as pd\n",
    "# from pathlib import Path\n",
    "# import typing as T\n",
    "# import av\n",
    "# import numpy as np\n",
    "\n",
    "# video_path = \"/home/tom/experiments/neon_blink_detection/datasets/test_data/2023-01-27_15-59-54-49a115d5/Neon Sensor Module v1 ps1.mp4\"\n",
    "\n",
    "# container = av.open(video_path)\n",
    "\n",
    "# frames1 = []\n",
    "# for idx, pkt in enumerate(container.demux(video=0)):\n",
    "#     try:\n",
    "#         frames1.append(pkt.decode()[0].to_ndarray())\n",
    "#     except:\n",
    "#         print(\"End of file\")\n",
    "#     # tmp = container.streams.video[0].decode(pkt)\n",
    "#     # frame = tmp.to_ndarray()\n",
    "\n",
    "# frames1 = np.array(frames1)\n",
    "\n",
    "# container = av.open(video_path)\n",
    "\n",
    "# frames2 = []\n",
    "# for frame in container.decode(video=0):\n",
    "#     y_plane = frame.planes[0]\n",
    "#     gray_data = np.frombuffer(y_plane, np.uint8)\n",
    "#     img_np = gray_data.reshape(y_plane.height, y_plane.line_size, 1)\n",
    "#     img_np = img_np[:, : frame.width]\n",
    "#     frames2.append(img_np)\n"
   ]
  },
  {
   "cell_type": "code",
   "execution_count": 4,
   "metadata": {},
   "outputs": [],
   "source": [
    "import sys\n",
    "\n",
    "sys.path.append(\"/cluster/users/tom/git/neon_blink_detection/\")\n",
    "sys.path.append(\"/cluster/users/tom/git/neon_blink_detection/src\")\n",
    "\n",
    "import pandas as pd\n",
    "from pathlib import Path\n",
    "import typing as T\n",
    "import av\n",
    "import numpy as np\n",
    "from src.features_calculator import concatenate_features, calculate_optical_flow\n",
    "from src.helper import OfParams\n",
    "from src.utils import resize_images\n",
    "from functions.utils import random_sample\n",
    "from training.helper import get_feature_dir_name_new\n",
    "from src.event_array import Samples\n",
    "from src.helper import OfParams, PPParams\n",
    "from training.datasets_loader import (\n",
    "    Datasets,\n",
    "    concatenate,\n",
    "    concatenate_all_samples,\n",
    "    load_samples,\n",
    "    save_samples,\n",
    ")\n",
    "from functions.classifiers import Classifier, load_predictions, save_predictions\n",
    "from functions.pipeline import get_classifier_params\n",
    "from training.helper import ClassifierParams, Results\n",
    "from training.helper import (\n",
    "    get_experiment_name_new,\n",
    "    get_export_dir,\n",
    "    get_of_params_options,\n",
    "    get_test_recording_ids,\n",
    "    get_training_dir,\n",
    ")\n",
    "\n",
    "clip_names = np.array(\n",
    "    [\n",
    "        \"2023-01-27_16-24-04-eb4305b1\",\n",
    "        \"2023-01-27_16-31-52-5f743ed0\",\n",
    "        \"1000-2022-12-14-09-43-56-0fcac6d3\",\n",
    "        \"1002-2022-12-14-11-43-58-23e05b8c\",\n",
    "        \"1004-2022-12-14-13-14-14-c8a509b9\",\n",
    "        \"1005-2022-12-14-15-07-31-ba8d94d5\",\n",
    "        \"1010-2022-12-15-13-27-31-f46dcdd8\",\n",
    "        \"1140-2023-01-12-13-15-56-2f0172d2\",\n",
    "        \"1141-2023-01-12-14-17-58-470c61da\",\n",
    "        \"1142-2023-01-12-14-27-07-34f1fccf\",\n",
    "        \"1144-2023-01-12-16-36-04-2c1ecc99\",\n",
    "        \"1151-2023-01-13-12-03-16-bca271ec\",\n",
    "        \"1152-2023-01-13-13-03-33-ddabe2a5\",\n",
    "        \"1156-2023-01-13-15-15-36-93d791d5\",\n",
    "        \"1167-2023-01-16-15-28-05-761a32fb\",\n",
    "        \"1287-2023-01-31-11-44-32-c6118754\",\n",
    "        \"1190-2023-01-18-11-47-36-4663855c\",\n",
    "        \"1199-2023-01-19-10-39-37-cbad3d47\",\n",
    "        \"1201-2023-01-19-11-43-16-41f36271\",\n",
    "        \"1202-2023-01-19-13-17-50-3651315a\",\n",
    "        \"1219-2023-01-23-10-52-53-f0f1506f\",\n",
    "        \"1230-2023-01-24-10-34-24-8e573035\",\n",
    "        \"1235-2023-01-24-14-34-41-961229b5\",\n",
    "        \"1250-2023-01-25-15-28-28-e49f5c02\",\n",
    "        \"1253-2023-01-26-11-39-39-c0de66cb\",\n",
    "        \"1280-2023-01-30-14-24-40-d879dc2a\",\n",
    "        \"1306-2023-02-02-10-44-25-4fec6abd\",\n",
    "    ]\n",
    ")\n",
    "\n",
    "from functions.pipeline import post_process_debug\n",
    "from src.metrics import Scores, ScoresList\n",
    "from training.evaluation import evaluate\n",
    "\n",
    "\n",
    "video_path = Path(\"/cluster/users/tom/experiments/neon_blink_detection/datasets/train_data\")\n",
    "of_path = Path(\"/cluster/users/tom/experiments/neon_blink_detection/datasets/train_data/optical_flow\")\n",
    "\n",
    "class video_loader:\n",
    "\n",
    "    def __init__(\n",
    "        self, of_params: OfParams\n",
    "    ):\n",
    "        self.rec_folder = Path(video_path)\n",
    "        self._of_params = of_params\n",
    "        self._of_path = of_path\n",
    "\n",
    "        self.all_samples = {}\n",
    "        self.all_features = {}\n",
    "\n",
    "    def collect(self, clip_names, bg_ratio=None) -> None:\n",
    "        for clip_name in clip_names:\n",
    "            self._load(clip_name, bg_ratio)\n",
    "\n",
    "    def _load(self, clip_name: str, bg_ratio: int) -> None:\n",
    "\n",
    "        all_timestamps = self._get_timestamps(clip_name)\n",
    "        n_frames = len(all_timestamps)\n",
    "\n",
    "        # LOAD FEATURES OR COMPUTE THEM\n",
    "        feature_array = self._load_features(clip_name, self._of_params)\n",
    "\n",
    "        onset_indices, offset_indices, all_indices = self._find_indices(\n",
    "            feature_array, clip_name, n_frames, bg_ratio, half=True\n",
    "        )\n",
    "\n",
    "        gt_labels = np.full(n_frames, 0)\n",
    "        if len(offset_indices):\n",
    "            gt_labels[offset_indices] = 2\n",
    "        if len(onset_indices):\n",
    "            gt_labels[onset_indices] = 1\n",
    "        gt_labels = gt_labels[all_indices]\n",
    "\n",
    "        timestamps = all_timestamps[all_indices]\n",
    "        features = concatenate_features(feature_array, self._of_params, all_indices)\n",
    "\n",
    "        self.all_samples[clip_name] = Samples(timestamps, gt_labels)\n",
    "        self.all_features[clip_name] = features\n",
    "\n",
    "    def _make_video_generator_mp4(self, clip_name, convert_to_gray: bool):\n",
    "\n",
    "        container = av.open(\n",
    "            str(self.rec_folder / clip_name / \"Neon Sensor Module v1 ps1.mp4\")\n",
    "        )\n",
    "\n",
    "        for frame in container.decode(video=0):\n",
    "            if convert_to_gray:\n",
    "                y_plane = frame.planes[0]\n",
    "                gray_data = np.frombuffer(y_plane, np.uint8)\n",
    "                img_np = gray_data.reshape(y_plane.height, y_plane.line_size, 1)\n",
    "                img_np = img_np[:, : frame.width]\n",
    "            else:\n",
    "                img_np = frame.to_rgb().to_ndarray()\n",
    "            yield img_np\n",
    "\n",
    "    def _load_features(self, clip_name, of_params):\n",
    "\n",
    "        dir_name = get_feature_dir_name_new(of_params)\n",
    "        path = self._of_path / dir_name / f\"{clip_name}.npz\"\n",
    "\n",
    "        try:\n",
    "            feature_array = np.load(path)[\"arr_0\"]\n",
    "        except FileNotFoundError:\n",
    "            print(f\"cannot load from {path}\")\n",
    "            _, left_images, right_images = self._get_frames(\n",
    "                clip_name, convert_to_gray=True\n",
    "            )\n",
    "            feature_array = self._compute_optical_flow(\n",
    "                of_params, left_images, right_images\n",
    "            )\n",
    "            path.parent.mkdir(parents=True, exist_ok=True)\n",
    "            np.savez_compressed(path, feature_array)\n",
    "            print(f\"saved optical flow ({feature_array.shape}) to {path}\")\n",
    "\n",
    "        return feature_array\n",
    "\n",
    "    def _get_frames(self, clip_name, convert_to_gray=True):\n",
    "\n",
    "        # load blink labels to isolate relevant clip segments\n",
    "        blink_labels = self.get_blink_labels(clip_name)\n",
    "\n",
    "        gen = self._make_video_generator_mp4(clip_name, convert_to_gray)\n",
    "\n",
    "        frames = []\n",
    "        for i, x in enumerate(gen):\n",
    "            frames.append(x)\n",
    "\n",
    "        all_frames = np.array(frames)\n",
    "\n",
    "        eye_left_images = all_frames[:, :, 0:192, :]\n",
    "        eye_right_images = all_frames[:, :, 192:, :]\n",
    "\n",
    "        timestamps = self._get_timestamps(clip_name)\n",
    "\n",
    "        assert len(timestamps) == all_frames.shape[0], \"Timestamps and video stream are not equal length.\"\n",
    "\n",
    "        return timestamps, eye_left_images, eye_right_images\n",
    "\n",
    "    def _get_timestamps(self, clip_name: str):\n",
    "\n",
    "        file = self.rec_folder / clip_name / \"Neon Sensor Module v1 ps1.time\"\n",
    "        timestamps = np.array(np.fromfile(file, dtype=\"int64\"))\n",
    "        return timestamps\n",
    "\n",
    "    def _load_gt_labels(self, clip_name):\n",
    "\n",
    "        blink_df = pd.read_json(\n",
    "            self.rec_folder / clip_name / (\"annotations-%s.json\" % clip_name)\n",
    "        ).transpose()\n",
    "\n",
    "        # C/D: on/offset half blinks\n",
    "        # E: clip onset and offset\n",
    "        blink_df[\"label\"].replace(\n",
    "            {\"A\": \"onset\", \"B\": \"offset\", \"C\": \"onset\", \"D\": \"offset\", \"E\": \"clip_trigger\", \"F\": \"frame_trigger\"},\n",
    "            inplace=True,\n",
    "        )\n",
    "\n",
    "        return blink_df\n",
    "\n",
    "    def get_blink_labels(self, clip_name):\n",
    "\n",
    "        blink_df = self._load_gt_labels(clip_name)\n",
    "\n",
    "        ts = self._get_timestamps(clip_name)\n",
    "        n_frames = ts.shape[0]\n",
    "\n",
    "        n_blink_events = np.sum(blink_df[\"label\"].str.startswith(\"onset\"))\n",
    "\n",
    "        on_start = blink_df[blink_df[\"label\"] == \"onset\"][\"start_ts\"]\n",
    "        on_start_idc = np.where(np.isin(ts, on_start))[0]\n",
    "\n",
    "        on_end = blink_df[blink_df[\"label\"] == \"onset\"][\"end_ts\"]\n",
    "        on_end_idc = np.where(np.isin(ts, on_end))[0]\n",
    "\n",
    "        off_start = blink_df[blink_df[\"label\"] == \"offset\"][\"start_ts\"]\n",
    "        off_start_idc = np.where(np.isin(ts, off_start))[0]\n",
    "\n",
    "        off_end = blink_df[blink_df[\"label\"] == \"offset\"][\"end_ts\"]\n",
    "        off_end_idc = np.where(np.isin(ts, off_end))[0]\n",
    "\n",
    "        clip_trigger = blink_df[blink_df[\"label\"] == \"clip_trigger\"][\"start_ts\"]\n",
    "        clip_start = []\n",
    "        clip_end = []\n",
    "\n",
    "        for i_clips in range(0, len(clip_trigger)):\n",
    "            if i_clips%2 == 1:\n",
    "                clip_start.append(int(np.where(np.isin(ts, clip_trigger.iloc[i_clips]))[0]))\n",
    "                # Sanity check: clip start always followed by blink onset, not offset)\n",
    "                \n",
    "            else:\n",
    "                clip_end.append(int(np.where(np.isin(ts, clip_trigger.iloc[i_clips]))[0]))\n",
    "                # Sanity check: clip start always followed by blink offset, not onset)\n",
    "        \n",
    "        if not all(clip_start < clip_end):  \n",
    "            raise ValueError(\"Some 'clip end' triggers precede the 'clip start' triggers.\")\n",
    "\n",
    "        blink_vec = np.zeros(ts.shape[0])\n",
    "\n",
    "        for iblink in range(0, n_blink_events):\n",
    "\n",
    "            blink_vec[on_start_idc[iblink] : on_end_idc[iblink]] = 1\n",
    "            blink_vec[off_start_idc[iblink] : off_end_idc[iblink]] = 2\n",
    "\n",
    "        blink_labels = dict()\n",
    "        blink_labels[\"onset_indices\"] = np.where(blink_vec == 1)[0]\n",
    "        blink_labels[\"offset_indices\"] = np.where(blink_vec == 2)[0]\n",
    "        blink_labels[\"blink_indices\"] = np.where(blink_vec == 2)[0]\n",
    "        blink_labels[\"clip_onsets\"] = np.array(clip_start)\n",
    "        blink_labels[\"clip_offsets\"] = np.array(clip_end)\n",
    "\n",
    "        return blink_labels\n",
    "\n",
    "    def _compute_optical_flow(self, of_params: OfParams(), left_images: np.ndarray, right_images: np.ndarray):\n",
    "\n",
    "        left_images, right_images = resize_images(\n",
    "            left_images, right_images, img_shape=(64, 64)\n",
    "        )\n",
    "\n",
    "        feature_array = calculate_optical_flow(of_params, left_images, right_images)\n",
    "\n",
    "        return feature_array\n",
    "\n",
    "    def _find_indices(\n",
    "        self, feature_array, clip_name: str, n_frames: int, bg_ratio, half: bool\n",
    "    ) -> T.Tuple[np.ndarray, np.ndarray, np.ndarray]:\n",
    "\n",
    "        blink_labels = self.get_blink_labels(clip_name)\n",
    "\n",
    "        onset_indices = blink_labels[\"onset_indices\"]\n",
    "        offset_indices = blink_labels[\"offset_indices\"]\n",
    "        blink_indices = blink_labels[\"blink_indices\"]\n",
    "\n",
    "        bg_indices = self._get_background_indices(blink_indices, n_frames, bg_ratio)\n",
    "        pulse_indices = np.where(np.abs(np.mean(feature_array, axis=1)[:, 1]) > 0.05)[0]\n",
    "        all_indices = np.hstack([blink_indices, bg_indices, pulse_indices])\n",
    "        all_indices = np.unique(all_indices)\n",
    "        all_indices = all_indices.astype(np.int64)\n",
    "        return np.array(onset_indices), np.array(offset_indices), all_indices\n",
    "\n",
    "    @staticmethod\n",
    "    def _get_background_indices(on_indices: list, n_frames: int, bg_ratio) -> T.List:\n",
    "        bg_indices = list(set(np.arange(n_frames)) - set(on_indices))\n",
    "\n",
    "        if bg_ratio is not None:\n",
    "            n_bg = len(on_indices) * bg_ratio if len(on_indices) else 300\n",
    "            bg_indices = random_sample(bg_indices, n_bg)\n",
    "        return bg_indices\n",
    "\n",
    "def evaluate_clips(\n",
    "    clip_names: T.List[str],\n",
    "    all_samples: T.Dict[str, Samples],\n",
    "    predictions: T.Dict[str, np.ndarray],\n",
    "    pp_params: PPParams,\n",
    ") -> T.Tuple[Scores, Scores, Scores, int]:\n",
    "    samples_gt = concatenate_all_samples(all_samples, clip_names)\n",
    "    proba = concatenate(predictions, clip_names)\n",
    "\n",
    "    blink_array_pd_pp, samples_pd = post_process_debug(\n",
    "        samples_gt.timestamps, proba, pp_params\n",
    "    )\n",
    "    metrics_sample, metrics_ml, metrics_pp = evaluate(\n",
    "        samples_gt, samples_pd, blink_array_pd_pp\n",
    "    )\n",
    "    n_samples = len(samples_gt)\n",
    "    return metrics_sample, metrics_ml, metrics_pp, n_samples\n",
    "\n",
    "\n",
    "\n",
    "    # def train_classifier(\n",
    "    #     clip_names: T.List[str],\n",
    "    #     classifier_params: ClassifierParams,\n",
    "    #     export_path: Path,\n",
    "    #     idx: int,\n",
    "    # ):\n",
    "    #     # These are all features concatenated in one array (e.g. 1107312 x 96)\n",
    "    #     features = concatenate(datasets.all_features, clip_names)\n",
    "    #     samples_gt = concatenate_all_samples(datasets.all_samples, clip_names)\n",
    "    #     classifier = Classifier(classifier_params, export_path)\n",
    "    #     # samples_gt are all labels: 0 = bg, 1 = on, 2 = off\n",
    "    #     classifier.on_fit(features, samples_gt.labels)\n",
    "    #     classifier.save_base_classifier(idx)\n",
    "    #     return classifier\n",
    "\n",
    "    # def save_blink_labels():\n",
    "\n",
    "    #     blink_labels = get_blink_labels\n",
    "\n",
    "    # onset_indices, offset_indices, all_indices = self._find_indices(\n",
    "    # feature_array, clip_name, n_frames, bg_ratio, half=True\n",
    "    # )\n",
    "    # gt_labels = np.full(n_frames, label_mapping.bg)\n",
    "    # if len(offset_indices):\n",
    "    #     gt_labels[offset_indices] = label_mapping.offset\n",
    "    # if len(onset_indices):\n",
    "    #     gt_labels[onset_indices] = label_mapping.onset\n",
    "    # gt_labels = gt_labels[all_indices]\n",
    "\n",
    "    # timestamps = all_timestamps[all_indices]\n",
    "    # features = concatenate_features(feature_array, self._of_params, all_indices)\n",
    "\n",
    "    # self.all_samples[clip_name] = Samples(timestamps, gt_labels)\n",
    "    # self.all_features[clip_name] = features\n"
   ]
  },
  {
   "cell_type": "code",
   "execution_count": 102,
   "metadata": {},
   "outputs": [
    {
     "data": {
      "text/plain": [
       "False"
      ]
     },
     "execution_count": 102,
     "metadata": {},
     "output_type": "execute_result"
    }
   ],
   "source": []
  },
  {
   "cell_type": "code",
   "execution_count": 23,
   "metadata": {},
   "outputs": [],
   "source": [
    "video_path = Path(\"/cluster/users/tom/experiments/neon_blink_detection/datasets/train_data\")\n",
    "of_path = Path(\"/cluster/users/tom/experiments/neon_blink_detection/datasets/train_data/optical_flow\")\n",
    "\n",
    "of_params = OfParams()\n",
    "rec = video_loader(of_params)\n",
    "# of_params = OfParams()\n",
    "# rec.collect(clip_names, bg_ratio=3) \n"
   ]
  },
  {
   "cell_type": "code",
   "execution_count": 7,
   "metadata": {},
   "outputs": [
    {
     "data": {
      "text/plain": [
       "(509892,)"
      ]
     },
     "execution_count": 7,
     "metadata": {},
     "output_type": "execute_result"
    }
   ],
   "source": [
    "rec._get_timestamps(clip_names[0]).shape"
   ]
  },
  {
   "cell_type": "code",
   "execution_count": 29,
   "metadata": {},
   "outputs": [],
   "source": [
    "count = {}\n",
    "for i in range(0, 27):\n",
    "    blink_df = rec._load_gt_labels(clip_names[i])\n",
    "    count[clip_names[i]]=sum(blink_df[\"label\"]==\"onset\")\n"
   ]
  },
  {
   "cell_type": "code",
   "execution_count": 31,
   "metadata": {},
   "outputs": [
    {
     "data": {
      "text/plain": [
       "{'2023-01-27_16-24-04-eb4305b1': 148,\n",
       " '2023-01-27_16-31-52-5f743ed0': 122,\n",
       " '1000-2022-12-14-09-43-56-0fcac6d3': 34,\n",
       " '1002-2022-12-14-11-43-58-23e05b8c': 14,\n",
       " '1004-2022-12-14-13-14-14-c8a509b9': 108,\n",
       " '1005-2022-12-14-15-07-31-ba8d94d5': 132,\n",
       " '1010-2022-12-15-13-27-31-f46dcdd8': 17,\n",
       " '1140-2023-01-12-13-15-56-2f0172d2': 29,\n",
       " '1141-2023-01-12-14-17-58-470c61da': 61,\n",
       " '1142-2023-01-12-14-27-07-34f1fccf': 18,\n",
       " '1144-2023-01-12-16-36-04-2c1ecc99': 19,\n",
       " '1151-2023-01-13-12-03-16-bca271ec': 36,\n",
       " '1152-2023-01-13-13-03-33-ddabe2a5': 110,\n",
       " '1156-2023-01-13-15-15-36-93d791d5': 149,\n",
       " '1167-2023-01-16-15-28-05-761a32fb': 75,\n",
       " '1287-2023-01-31-11-44-32-c6118754': 100,\n",
       " '1190-2023-01-18-11-47-36-4663855c': 54,\n",
       " '1199-2023-01-19-10-39-37-cbad3d47': 48,\n",
       " '1201-2023-01-19-11-43-16-41f36271': 56,\n",
       " '1202-2023-01-19-13-17-50-3651315a': 81,\n",
       " '1219-2023-01-23-10-52-53-f0f1506f': 183,\n",
       " '1230-2023-01-24-10-34-24-8e573035': 108,\n",
       " '1235-2023-01-24-14-34-41-961229b5': 109,\n",
       " '1250-2023-01-25-15-28-28-e49f5c02': 55,\n",
       " '1253-2023-01-26-11-39-39-c0de66cb': 37,\n",
       " '1280-2023-01-30-14-24-40-d879dc2a': 90,\n",
       " '1306-2023-02-02-10-44-25-4fec6abd': 75}"
      ]
     },
     "execution_count": 31,
     "metadata": {},
     "output_type": "execute_result"
    }
   ],
   "source": [
    "count"
   ]
  },
  {
   "cell_type": "code",
   "execution_count": 67,
   "metadata": {},
   "outputs": [],
   "source": [
    "ts = rec._get_timestamps(clip_names[0])\n",
    "n_frames = ts.shape[0]\n",
    "\n",
    "n_blink_events = np.sum(blink_df[\"label\"].str.startswith(\"onset\"))\n",
    "\n",
    "on_start = blink_df[blink_df[\"label\"] == \"onset\"][\"start_ts\"]\n",
    "on_start_idc = np.where(np.isin(ts, on_start))[0]\n",
    "\n",
    "on_end = blink_df[blink_df[\"label\"] == \"onset\"][\"end_ts\"]\n",
    "on_end_idc = np.where(np.isin(ts, on_end))[0]\n",
    "\n",
    "off_start = blink_df[blink_df[\"label\"] == \"offset\"][\"start_ts\"]\n",
    "off_start_idc = np.where(np.isin(ts, off_start))[0]\n",
    "\n",
    "off_end = blink_df[blink_df[\"label\"] == \"offset\"][\"end_ts\"]\n",
    "off_end_idc = np.where(np.isin(ts, off_end))[0]"
   ]
  },
  {
   "cell_type": "code",
   "execution_count": 126,
   "metadata": {},
   "outputs": [
    {
     "ename": "ValueError",
     "evalue": "Some 'clip end' triggers precede the 'clip start' triggers.",
     "output_type": "error",
     "traceback": [
      "\u001b[0;31m---------------------------------------------------------------------------\u001b[0m",
      "\u001b[0;31mValueError\u001b[0m                                Traceback (most recent call last)",
      "Cell \u001b[0;32mIn[126], line 14\u001b[0m\n\u001b[1;32m     11\u001b[0m clip_end \u001b[39m=\u001b[39m np\u001b[39m.\u001b[39marray(clip_end)\n\u001b[1;32m     13\u001b[0m \u001b[39mif\u001b[39;00m \u001b[39mall\u001b[39m(clip_start \u001b[39m<\u001b[39m clip_end):\n\u001b[0;32m---> 14\u001b[0m     \u001b[39mraise\u001b[39;00m \u001b[39mValueError\u001b[39;00m(\u001b[39m\"\u001b[39m\u001b[39mSome \u001b[39m\u001b[39m'\u001b[39m\u001b[39mclip end\u001b[39m\u001b[39m'\u001b[39m\u001b[39m triggers precede the \u001b[39m\u001b[39m'\u001b[39m\u001b[39mclip start\u001b[39m\u001b[39m'\u001b[39m\u001b[39m triggers.\u001b[39m\u001b[39m\"\u001b[39m)\n",
      "\u001b[0;31mValueError\u001b[0m: Some 'clip end' triggers precede the 'clip start' triggers."
     ]
    }
   ],
   "source": [
    "clip_trigger = blink_df[blink_df[\"label\"] == \"clip_trigger\"][\"start_ts\"]\n",
    "clip_start = []\n",
    "clip_end = []\n",
    "for i_clips in range(0, len(clip_trigger)):\n",
    "    if i_clips%2 == 0:\n",
    "        clip_start.append(int(np.where(np.isin(ts, clip_trigger.iloc[i_clips]))[0]))\n",
    "\n",
    "        dist_to_next_onset = min(abs(clip_start[-1] - on_start_idc))\n",
    "        dist_to_next_offset = min(abs(clip_start[-1] - off_start_idc))\n",
    "\n",
    "        if not(dist_to_next_onset)\n",
    "        \n",
    "\n",
    "    else:\n",
    "        clip_end.append(int(np.where(np.isin(ts, clip_trigger.iloc[i_clips]))[0]))\n",
    "\n",
    "clip_start = np.array(clip_start)\n",
    "clip_end = np.array(clip_end)\n",
    "\n",
    "if not all(clip_start < clip_end):\n",
    "    raise ValueError(\"Some 'clip end' triggers precede the 'clip start' triggers.\")\n",
    "\n",
    "    \n",
    "\n"
   ]
  },
  {
   "cell_type": "code",
   "execution_count": 148,
   "metadata": {},
   "outputs": [
    {
     "data": {
      "text/plain": [
       "False"
      ]
     },
     "execution_count": 148,
     "metadata": {},
     "output_type": "execute_result"
    }
   ],
   "source": [
    "# def _check_trigger_validity(clip_start, clip_end, on_start_idc, off_start_idc):\n",
    "\n"
   ]
  },
  {
   "cell_type": "code",
   "execution_count": 154,
   "metadata": {},
   "outputs": [
    {
     "data": {
      "text/plain": [
       "[array([    68,    296,    490,    586,    735,   1031,   1113,   1246,\n",
       "          1335,   1386,   1441,   1560,   1916,   2067,   2221,   2595,\n",
       "          2639,   2744,   3082,   3392,   3710,   4044,   4714,   5059,\n",
       "          5161,   5265,   5374,   5475,   5534,   5808,   5909,   6133,\n",
       "          6482,   6866,   7262,   7552,   7683,   8272,   8429, 144496,\n",
       "        144636, 145648, 146016, 146222, 146524, 146775, 146986, 147036,\n",
       "        147124, 147214, 147572, 147771, 147966, 148142, 148232, 148389,\n",
       "        148498, 148678, 148817, 148928, 149032, 149255, 149524, 149824,\n",
       "        149916, 150196, 150433, 150488, 150707, 150879, 151042, 151176,\n",
       "        151276, 151438, 151646, 151899, 152135, 152227, 152337, 152443,\n",
       "        152522, 152690, 152789, 153086, 153248, 153665, 153707, 153939,\n",
       "        154023, 154057, 154504, 154653, 154932, 155065, 155467, 155905,\n",
       "        155996, 156140, 156277, 156317, 156452, 156509, 156675, 156764,\n",
       "        157128, 157306, 157437, 157586]),\n",
       " array([144263, 144035, 143841, 143745, 143596, 143300, 143218, 143085,\n",
       "        142996, 142945, 142890, 142771, 142415, 142264, 142110, 141736,\n",
       "        141692, 141587, 141249, 140939, 140621, 140287, 139617, 139272,\n",
       "        139170, 139066, 138957, 138856, 138797, 138523, 138422, 138198,\n",
       "        137849, 137465, 137069, 136779, 136648, 136059, 135902,    165,\n",
       "           305,   1317,   1685,   1891,   2193,   2444,   2655,   2705,\n",
       "          2793,   2883,   3241,   3440,   3635,   3811,   3901,   4058,\n",
       "          4167,   4347,   4486,   4597,   4701,   4924,   5193,   5493,\n",
       "          5585,   5865,   6102,   6157,   6376,   6548,   6711,   6845,\n",
       "          6945,   7107,   7315,   7568,   7804,   7896,   8006,   8112,\n",
       "          8191,   8359,   8458,   8755,   8917,   9334,   9376,   9608,\n",
       "          9692,   9726,  10173,  10322,  10601,  10734,  11136,  11574,\n",
       "         11665,  11809,  11946,  11986,  12121,  12178,  12344,  12433,\n",
       "         12797,  12975,  13106,  13255])]"
      ]
     },
     "execution_count": 154,
     "metadata": {},
     "output_type": "execute_result"
    }
   ],
   "source": []
  },
  {
   "cell_type": "code",
   "execution_count": 170,
   "metadata": {},
   "outputs": [],
   "source": [
    "classifier_params = get_classifier_params()\n",
    "\n",
    "of_params = OfParams()\n",
    "export_dir = get_export_dir(classifier_params.name, False)\n",
    "training_dir = get_training_dir(classifier_params.name, False)\n",
    "experiment_name = get_experiment_name_new(of_params)\n",
    "save_path = training_dir / experiment_name\n",
    "export_path = export_dir / experiment_name\n",
    "\n",
    "features = concatenate(rec.all_features, clip_names[0:4])\n",
    "samples_gt = concatenate_all_samples(rec.all_samples, clip_names[0:4])\n",
    "classifier = Classifier(classifier_params, export_path)\n",
    "# classifier.save_base_classifier(idx)"
   ]
  },
  {
   "cell_type": "code",
   "execution_count": 173,
   "metadata": {},
   "outputs": [
    {
     "name": "stdout",
     "output_type": "stream",
     "text": [
      "on_fit took 1 m 45 s\n"
     ]
    }
   ],
   "source": [
    "classifier.on_fit(features, samples_gt.labels)"
   ]
  },
  {
   "cell_type": "code",
   "execution_count": 192,
   "metadata": {},
   "outputs": [
    {
     "name": "stdout",
     "output_type": "stream",
     "text": [
      "predict_all_clips took 260 ms\n"
     ]
    }
   ],
   "source": [
    "predictions = classifier.predict_all_clips(rec.all_features)"
   ]
  },
  {
   "cell_type": "code",
   "execution_count": 198,
   "metadata": {},
   "outputs": [],
   "source": [
    "from src.blink_detector import get_params\n",
    "of_params, pp_params = get_params()\n",
    "\n",
    "all_samples = rec.all_samples\n",
    "\n",
    "metrics_sample_train, metrics_ml_train, metrics_pp_train, n_samples = evaluate_clips(\n",
    "            clip_names[0:4], all_samples, predictions, pp_params\n",
    "        )\n",
    "\n",
    "metrics_sample_val, metrics_ml_val, metrics_pp_val, n_samples = evaluate_clips(\n",
    "            [clip_names[4]], all_samples, predictions, pp_params\n",
    "        )\n"
   ]
  },
  {
   "cell_type": "code",
   "execution_count": 200,
   "metadata": {},
   "outputs": [
    {
     "data": {
      "text/plain": [
       "0.8613138686131387"
      ]
     },
     "execution_count": 200,
     "metadata": {},
     "output_type": "execute_result"
    }
   ],
   "source": [
    "metrics_pp_val.F1"
   ]
  },
  {
   "cell_type": "code",
   "execution_count": 13,
   "metadata": {},
   "outputs": [
    {
     "ename": "NameError",
     "evalue": "name 'pp_params' is not defined",
     "output_type": "error",
     "traceback": [
      "\u001b[0;31m---------------------------------------------------------------------------\u001b[0m",
      "\u001b[0;31mNameError\u001b[0m                                 Traceback (most recent call last)",
      "Cell \u001b[0;32mIn[13], line 16\u001b[0m\n\u001b[1;32m     13\u001b[0m features \u001b[39m=\u001b[39m concatenate_features(feature_array, of_params)\n\u001b[1;32m     14\u001b[0m proba \u001b[39m=\u001b[39m classifier\u001b[39m.\u001b[39mclf\u001b[39m.\u001b[39mpredict_proba(features)\n\u001b[0;32m---> 16\u001b[0m blink_events \u001b[39m=\u001b[39m post_process(ts, proba, pp_params)\n",
      "\u001b[0;31mNameError\u001b[0m: name 'pp_params' is not defined"
     ]
    }
   ],
   "source": [
    "from post_processing import post_process\n",
    "\n",
    "clip_name = \"2023-01-27_16-31-52-5f743ed0\"\n",
    "video_path = Path(\"/home/tom/experiments/neon_blink_detection/datasets/test_data\")\n",
    "of_path = Path(\"/home/tom/experiments/neon_blink_detection/datasets/optical_flow\")\n",
    "of_params = OfParams()\n",
    "rec = video_loader(video_path, clip_name, of_path, of_params)\n",
    "\n",
    "\n",
    "ts, left_images, right_images = rec._get_frames(clip_name, convert_to_gray=True)\n",
    "\n",
    "feature_array = rec._compute_optical_flow(of_params, left_images, right_images)\n",
    "features = concatenate_features(feature_array, of_params)\n",
    "proba = classifier.clf.predict_proba(features)\n",
    "\n",
    "blink_events = post_process(ts, proba, pp_params)"
   ]
  },
  {
   "cell_type": "code",
   "execution_count": 18,
   "metadata": {},
   "outputs": [],
   "source": [
    "blink_events = post_process(ts, proba, pp_params)"
   ]
  },
  {
   "cell_type": "code",
   "execution_count": 27,
   "metadata": {},
   "outputs": [],
   "source": [
    "blinks = pd.read_json(\"/home/tom/experiments/neon_blink_detection/datasets/test_data/2023-01-27_16-31-52-5f743ed0/annotations.json\").transpose()"
   ]
  },
  {
   "cell_type": "code",
   "execution_count": 28,
   "metadata": {},
   "outputs": [
    {
     "data": {
      "text/html": [
       "<div>\n",
       "<style scoped>\n",
       "    .dataframe tbody tr th:only-of-type {\n",
       "        vertical-align: middle;\n",
       "    }\n",
       "\n",
       "    .dataframe tbody tr th {\n",
       "        vertical-align: top;\n",
       "    }\n",
       "\n",
       "    .dataframe thead th {\n",
       "        text-align: right;\n",
       "    }\n",
       "</style>\n",
       "<table border=\"1\" class=\"dataframe\">\n",
       "  <thead>\n",
       "    <tr style=\"text-align: right;\">\n",
       "      <th></th>\n",
       "      <th>id</th>\n",
       "      <th>label</th>\n",
       "      <th>start_t</th>\n",
       "      <th>end_t</th>\n",
       "      <th>start_ts</th>\n",
       "      <th>end_ts</th>\n",
       "    </tr>\n",
       "  </thead>\n",
       "  <tbody>\n",
       "    <tr>\n",
       "      <th>1</th>\n",
       "      <td>1</td>\n",
       "      <td>A</td>\n",
       "      <td>6.711595</td>\n",
       "      <td>6.834606</td>\n",
       "      <td>1674833520523197696</td>\n",
       "      <td>1674833520648197696</td>\n",
       "    </tr>\n",
       "    <tr>\n",
       "      <th>2</th>\n",
       "      <td>2</td>\n",
       "      <td>B</td>\n",
       "      <td>6.834606</td>\n",
       "      <td>7.016302</td>\n",
       "      <td>1674833520648197696</td>\n",
       "      <td>1674833520828447696</td>\n",
       "    </tr>\n",
       "    <tr>\n",
       "      <th>3</th>\n",
       "      <td>3</td>\n",
       "      <td>A</td>\n",
       "      <td>7.428222</td>\n",
       "      <td>7.528663</td>\n",
       "      <td>1674833521238822696</td>\n",
       "      <td>1674833521338822696</td>\n",
       "    </tr>\n",
       "    <tr>\n",
       "      <th>4</th>\n",
       "      <td>4</td>\n",
       "      <td>B</td>\n",
       "      <td>7.528663</td>\n",
       "      <td>7.701331</td>\n",
       "      <td>1674833521338822696</td>\n",
       "      <td>1674833521514072696</td>\n",
       "    </tr>\n",
       "    <tr>\n",
       "      <th>5</th>\n",
       "      <td>5</td>\n",
       "      <td>A</td>\n",
       "      <td>8.223848</td>\n",
       "      <td>8.315261</td>\n",
       "      <td>1674833522034572696</td>\n",
       "      <td>1674833522129572696</td>\n",
       "    </tr>\n",
       "    <tr>\n",
       "      <th>6</th>\n",
       "      <td>6</td>\n",
       "      <td>B</td>\n",
       "      <td>8.315261</td>\n",
       "      <td>8.468743</td>\n",
       "      <td>1674833522129572696</td>\n",
       "      <td>1674833522279697696</td>\n",
       "    </tr>\n",
       "    <tr>\n",
       "      <th>7</th>\n",
       "      <td>7</td>\n",
       "      <td>A</td>\n",
       "      <td>8.674139</td>\n",
       "      <td>8.737337</td>\n",
       "      <td>1674833522484947696</td>\n",
       "      <td>1674833522549947696</td>\n",
       "    </tr>\n",
       "    <tr>\n",
       "      <th>8</th>\n",
       "      <td>8</td>\n",
       "      <td>B</td>\n",
       "      <td>8.737337</td>\n",
       "      <td>8.86712</td>\n",
       "      <td>1674833522549947696</td>\n",
       "      <td>1674833522680072696</td>\n",
       "    </tr>\n",
       "    <tr>\n",
       "      <th>9</th>\n",
       "      <td>9</td>\n",
       "      <td>A</td>\n",
       "      <td>10.632168</td>\n",
       "      <td>10.782265</td>\n",
       "      <td>1674833524441697696</td>\n",
       "      <td>1674833524591822696</td>\n",
       "    </tr>\n",
       "    <tr>\n",
       "      <th>10</th>\n",
       "      <td>10</td>\n",
       "      <td>B</td>\n",
       "      <td>10.782265</td>\n",
       "      <td>10.996689</td>\n",
       "      <td>1674833524591822696</td>\n",
       "      <td>1674833524807072696</td>\n",
       "    </tr>\n",
       "  </tbody>\n",
       "</table>\n",
       "</div>"
      ],
      "text/plain": [
       "    id label    start_t      end_t             start_ts               end_ts\n",
       "1    1     A   6.711595   6.834606  1674833520523197696  1674833520648197696\n",
       "2    2     B   6.834606   7.016302  1674833520648197696  1674833520828447696\n",
       "3    3     A   7.428222   7.528663  1674833521238822696  1674833521338822696\n",
       "4    4     B   7.528663   7.701331  1674833521338822696  1674833521514072696\n",
       "5    5     A   8.223848   8.315261  1674833522034572696  1674833522129572696\n",
       "6    6     B   8.315261   8.468743  1674833522129572696  1674833522279697696\n",
       "7    7     A   8.674139   8.737337  1674833522484947696  1674833522549947696\n",
       "8    8     B   8.737337    8.86712  1674833522549947696  1674833522680072696\n",
       "9    9     A  10.632168  10.782265  1674833524441697696  1674833524591822696\n",
       "10  10     B  10.782265  10.996689  1674833524591822696  1674833524807072696"
      ]
     },
     "execution_count": 28,
     "metadata": {},
     "output_type": "execute_result"
    }
   ],
   "source": [
    "blinks.head(10)"
   ]
  },
  {
   "cell_type": "code",
   "execution_count": 112,
   "metadata": {},
   "outputs": [
    {
     "data": {
      "text/plain": [
       "[<matplotlib.collections.LineCollection at 0x7f5690239ea0>,\n",
       " <matplotlib.collections.LineCollection at 0x7f56927a8a90>,\n",
       " <matplotlib.collections.LineCollection at 0x7f56927a8df0>,\n",
       " <matplotlib.collections.LineCollection at 0x7f56927a9150>,\n",
       " <matplotlib.collections.LineCollection at 0x7f56927a94b0>,\n",
       " <matplotlib.collections.LineCollection at 0x7f56927a9810>,\n",
       " <matplotlib.collections.LineCollection at 0x7f56927a9b70>,\n",
       " <matplotlib.collections.LineCollection at 0x7f56927a9ed0>,\n",
       " <matplotlib.collections.LineCollection at 0x7f56927aa230>,\n",
       " <matplotlib.collections.LineCollection at 0x7f56927aa590>,\n",
       " <matplotlib.collections.LineCollection at 0x7f56927aa8f0>,\n",
       " <matplotlib.collections.LineCollection at 0x7f56927aac50>,\n",
       " <matplotlib.collections.LineCollection at 0x7f56927aafb0>,\n",
       " <matplotlib.collections.LineCollection at 0x7f56927ab340>,\n",
       " <matplotlib.collections.LineCollection at 0x7f56927ab6a0>,\n",
       " <matplotlib.collections.LineCollection at 0x7f56927aba00>,\n",
       " <matplotlib.collections.LineCollection at 0x7f56927abd60>,\n",
       " <matplotlib.collections.LineCollection at 0x7f56902f7310>,\n",
       " <matplotlib.collections.LineCollection at 0x7f5690308340>,\n",
       " <matplotlib.collections.LineCollection at 0x7f56903086a0>,\n",
       " <matplotlib.collections.LineCollection at 0x7f5690308a00>,\n",
       " <matplotlib.collections.LineCollection at 0x7f5690308d60>,\n",
       " <matplotlib.collections.LineCollection at 0x7f56903090c0>,\n",
       " <matplotlib.collections.LineCollection at 0x7f5690309420>,\n",
       " <matplotlib.collections.LineCollection at 0x7f5690309780>,\n",
       " <matplotlib.collections.LineCollection at 0x7f5690309ae0>,\n",
       " <matplotlib.collections.LineCollection at 0x7f5690309e40>,\n",
       " <matplotlib.collections.LineCollection at 0x7f569030a1a0>,\n",
       " <matplotlib.collections.LineCollection at 0x7f569030a500>,\n",
       " <matplotlib.collections.LineCollection at 0x7f569030a860>]"
      ]
     },
     "execution_count": 112,
     "metadata": {},
     "output_type": "execute_result"
    },
    {
     "data": {
      "image/png": "[encoded data removed]",
      "text/plain": [
       "<Figure size 640x480 with 1 Axes>"
      ]
     },
     "metadata": {},
     "output_type": "display_data"
    }
   ],
   "source": [
    "plt.plot(ts[0:12000], features[0:12000].mean(axis=1))\n",
    "\n",
    "# [plt.vlines(blink_events[x].start_time, -10, 10, color=\"k\") for x in range(0, len(blink_events))]\n",
    "\n",
    "[plt.vlines(blink_events[x].start_time, -10, 10, color=\"k\") for x in range(0, 30)]\n",
    "\n",
    "[plt.vlines(blinks[blinks[\"label\"]==\"A\"][\"start_ts\"].iloc[x], -10, 7, color=\"r\") for x in range(0, 30)]\n"
   ]
  },
  {
   "cell_type": "code",
   "execution_count": 37,
   "metadata": {},
   "outputs": [
    {
     "data": {
      "text/plain": [
       "1674833520523197696"
      ]
     },
     "execution_count": 37,
     "metadata": {},
     "output_type": "execute_result"
    }
   ],
   "source": [
    "from src.blink_detector import get_params\n",
    "of_params, pp_params = get_params()\n",
    "\n",
    "all_samples = rec.all_samples\n",
    "\n",
    "metrics_sample, metrics_ml, metrics_pp, n_samples = evaluate_clips(\n",
    "            clip_names, all_samples, predictions, pp_params\n",
    "        )"
   ]
  },
  {
   "cell_type": "code",
   "execution_count": 77,
   "metadata": {},
   "outputs": [],
   "source": [
    "\n",
    "clip_name = [\"2023-01-27_16-31-52-5f743ed0\"]\n",
    "metrics_sample, metrics_ml, metrics_pp, n_samples = evaluate_clips(clip_name, all_samples, predictions, pp_params)"
   ]
  },
  {
   "cell_type": "code",
   "execution_count": 140,
   "metadata": {},
   "outputs": [
    {
     "data": {
      "text/plain": [
       "[<matplotlib.lines.Line2D at 0x7f55ee0963b0>]"
      ]
     },
     "execution_count": 140,
     "metadata": {},
     "output_type": "execute_result"
    },
    {
     "data": {
      "image/png": "[encoded data removed]",
      "text/plain": [
       "<Figure size 640x480 with 1 Axes>"
      ]
     },
     "metadata": {},
     "output_type": "display_data"
    }
   ],
   "source": [
    "blinks = pd.read_json(\"/home/tom/experiments/neon_blink_detection/datasets/test_data/2023-01-27_16-31-52-5f743ed0/annotations.json\").transpose()\n",
    "\n",
    "plt.plot(ts[2000:3000], predictions[clip_name[0]][2000:3000, 1:3])\n",
    "plt.plot(ts[2000:3000], s.labels[2000:3000])\n"
   ]
  },
  {
   "cell_type": "code",
   "execution_count": 106,
   "metadata": {},
   "outputs": [],
   "source": [
    "ts, _, _ = rec._get_frames(\"2023-01-27_16-31-52-5f743ed0\", convert_to_gray=True)"
   ]
  },
  {
   "cell_type": "code",
   "execution_count": 109,
   "metadata": {},
   "outputs": [
    {
     "data": {
      "text/plain": [
       "['2023-01-27_16-31-52-5f743ed0']"
      ]
     },
     "execution_count": 109,
     "metadata": {},
     "output_type": "execute_result"
    }
   ],
   "source": [
    "clip_name"
   ]
  },
  {
   "cell_type": "code",
   "execution_count": 116,
   "metadata": {},
   "outputs": [
    {
     "data": {
      "text/plain": [
       "(28065, 3)"
      ]
     },
     "execution_count": 116,
     "metadata": {},
     "output_type": "execute_result"
    }
   ],
   "source": []
  },
  {
   "cell_type": "code",
   "execution_count": 117,
   "metadata": {},
   "outputs": [
    {
     "data": {
      "text/plain": [
       "(35972,)"
      ]
     },
     "execution_count": 117,
     "metadata": {},
     "output_type": "execute_result"
    }
   ],
   "source": [
    "ts.shape"
   ]
  },
  {
   "cell_type": "code",
   "execution_count": 118,
   "metadata": {},
   "outputs": [
    {
     "data": {
      "text/plain": [
       "['2023-01-27_16-31-52-5f743ed0']"
      ]
     },
     "execution_count": 118,
     "metadata": {},
     "output_type": "execute_result"
    }
   ],
   "source": [
    "clip_name"
   ]
  },
  {
   "cell_type": "code",
   "execution_count": 119,
   "metadata": {},
   "outputs": [
    {
     "data": {
      "text/plain": [
       "(35972, 200)"
      ]
     },
     "execution_count": 119,
     "metadata": {},
     "output_type": "execute_result"
    }
   ],
   "source": [
    "features.shape"
   ]
  },
  {
   "cell_type": "code",
   "execution_count": 128,
   "metadata": {},
   "outputs": [],
   "source": [
    "s=all_samples[clip_name[0]]"
   ]
  },
  {
   "cell_type": "code",
   "execution_count": 138,
   "metadata": {},
   "outputs": [
    {
     "data": {
      "text/plain": [
       "4130"
      ]
     },
     "execution_count": 138,
     "metadata": {},
     "output_type": "execute_result"
    }
   ],
   "source": [
    "sum(s.labels==2)"
   ]
  },
  {
   "cell_type": "code",
   "execution_count": 211,
   "metadata": {},
   "outputs": [],
   "source": []
  },
  {
   "cell_type": "code",
   "execution_count": 218,
   "metadata": {},
   "outputs": [
    {
     "name": "stdout",
     "output_type": "stream",
     "text": [
      "/home/tom/experiments/neon_blink_detection/datasets/test_data/2023-01-27_15-59-54-49a115d5/Neon Scene Camera v1 ps1.time\n"
     ]
    }
   ],
   "source": [
    "a=Path(\"/home/tom/experiments/neon_blink_detection/datasets/test_data/2023-01-27_15-59-54-49a115d5\")\n",
    "b=next(a.glob(\"*.time\"))\n",
    "print(b)"
   ]
  },
  {
   "cell_type": "code",
   "execution_count": null,
   "metadata": {},
   "outputs": [],
   "source": []
  },
  {
   "cell_type": "code",
   "execution_count": 27,
   "metadata": {},
   "outputs": [],
   "source": [
    "# import video_loader\n",
    "video_path = Path(\"/cluster/users/tom/experiments/neon_blink_detection/datasets/train_data\")\n",
    "of_path = Path(\"/cluster/users/tom/experiments/neon_blink_detection/datasets/train_data/optical_flow\")\n",
    "\n",
    "of_params = OfParams()\n",
    "rec = video_loader(of_params)\n",
    "# of_params = OfParams()\n",
    "# rec.collect(clip_names, bg_ratio=3) \n"
   ]
  },
  {
   "cell_type": "code",
   "execution_count": 28,
   "metadata": {},
   "outputs": [
    {
     "ename": "TypeError",
     "evalue": "'bool' object is not iterable",
     "output_type": "error",
     "traceback": [
      "\u001b[0;31m---------------------------------------------------------------------------\u001b[0m",
      "\u001b[0;31mTypeError\u001b[0m                                 Traceback (most recent call last)",
      "Cell \u001b[0;32mIn[28], line 1\u001b[0m\n\u001b[0;32m----> 1\u001b[0m ts, _, _ \u001b[39m=\u001b[39m rec\u001b[39m.\u001b[39;49m_get_frames(\u001b[39m\"\u001b[39;49m\u001b[39m2023-01-27_16-31-52-5f743ed0\u001b[39;49m\u001b[39m\"\u001b[39;49m, convert_to_gray\u001b[39m=\u001b[39;49m\u001b[39mTrue\u001b[39;49;00m)\n",
      "Cell \u001b[0;32mIn[4], line 157\u001b[0m, in \u001b[0;36mvideo_loader._get_frames\u001b[0;34m(self, clip_name, convert_to_gray)\u001b[0m\n\u001b[1;32m    154\u001b[0m \u001b[39mdef\u001b[39;00m \u001b[39m_get_frames\u001b[39m(\u001b[39mself\u001b[39m, clip_name, convert_to_gray\u001b[39m=\u001b[39m\u001b[39mTrue\u001b[39;00m):\n\u001b[1;32m    155\u001b[0m \n\u001b[1;32m    156\u001b[0m     \u001b[39m# load blink labels to isolate relevant clip segments\u001b[39;00m\n\u001b[0;32m--> 157\u001b[0m     blink_labels \u001b[39m=\u001b[39m \u001b[39mself\u001b[39;49m\u001b[39m.\u001b[39;49mget_blink_labels(clip_name)\n\u001b[1;32m    159\u001b[0m     gen \u001b[39m=\u001b[39m \u001b[39mself\u001b[39m\u001b[39m.\u001b[39m_make_video_generator_mp4(clip_name, convert_to_gray)\n\u001b[1;32m    161\u001b[0m     frames \u001b[39m=\u001b[39m []\n",
      "Cell \u001b[0;32mIn[4], line 231\u001b[0m, in \u001b[0;36mvideo_loader.get_blink_labels\u001b[0;34m(self, clip_name)\u001b[0m\n\u001b[1;32m    228\u001b[0m         clip_end\u001b[39m.\u001b[39mappend(\u001b[39mint\u001b[39m(np\u001b[39m.\u001b[39mwhere(np\u001b[39m.\u001b[39misin(ts, clip_trigger\u001b[39m.\u001b[39miloc[i_clips]))[\u001b[39m0\u001b[39m]))\n\u001b[1;32m    229\u001b[0m         \u001b[39m# Sanity check: clip start always followed by blink offset, not onset)\u001b[39;00m\n\u001b[0;32m--> 231\u001b[0m \u001b[39mif\u001b[39;00m \u001b[39mnot\u001b[39;00m \u001b[39mall\u001b[39;49m(clip_start \u001b[39m<\u001b[39;49m clip_end):  \n\u001b[1;32m    232\u001b[0m     \u001b[39mraise\u001b[39;00m \u001b[39mValueError\u001b[39;00m(\u001b[39m\"\u001b[39m\u001b[39mSome \u001b[39m\u001b[39m'\u001b[39m\u001b[39mclip end\u001b[39m\u001b[39m'\u001b[39m\u001b[39m triggers precede the \u001b[39m\u001b[39m'\u001b[39m\u001b[39mclip start\u001b[39m\u001b[39m'\u001b[39m\u001b[39m triggers.\u001b[39m\u001b[39m\"\u001b[39m)\n\u001b[1;32m    234\u001b[0m blink_vec \u001b[39m=\u001b[39m np\u001b[39m.\u001b[39mzeros(ts\u001b[39m.\u001b[39mshape[\u001b[39m0\u001b[39m])\n",
      "\u001b[0;31mTypeError\u001b[0m: 'bool' object is not iterable"
     ]
    }
   ],
   "source": [
    "ts, _, _ = rec._get_frames(\"2023-01-27_16-31-52-5f743ed0\", convert_to_gray=True)"
   ]
  },
  {
   "cell_type": "code",
   "execution_count": null,
   "metadata": {},
   "outputs": [],
   "source": []
  }
 ],
 "metadata": {
  "kernelspec": {
   "display_name": "tom_py310",
   "language": "python",
   "name": "python3"
  },
  "language_info": {
   "codemirror_mode": {
    "name": "ipython",
    "version": 3
   },
   "file_extension": ".py",
   "mimetype": "text/x-python",
   "name": "python",
   "nbconvert_exporter": "python",
   "pygments_lexer": "ipython3",
   "version": "3.10.9"
  },
  "orig_nbformat": 4,
  "vscode": {
   "interpreter": {
    "hash": "feb805377acc0c3126af32ed46b7fdc97926b253a83f7d8d0e8455803270882f"
   }
  }
 },
 "nbformat": 4,
 "nbformat_minor": 2
}
