{
 "cells": [
  {
   "cell_type": "code",
   "execution_count": 3,
   "metadata": {},
   "outputs": [
    {
     "name": "stdout",
     "output_type": "stream",
     "text": [
      "Number of clips: 2\n"
     ]
    }
   ],
   "source": [
    "import sys \n",
    "from scipy.interpolate import RegularGridInterpolator\n",
    "\n",
    "\n",
    "sys.path.append(\"/users/tom/git/neon_blink_detection/\")\n",
    "sys.path.append(\"/users/tom/git/neon_blink_detection/src\")\n",
    "\n",
    "from src.features_calculator import create_grids\n",
    "import numpy as np\n",
    "\n",
    "from training.video_loader import video_loader\n",
    "from src.helper import OfParams, AugParams\n",
    "of_params = OfParams()\n",
    "aug_params = AugParams()\n",
    "\n",
    "clip_name = \"1322-2023-02-03-14-25-41-7883a14f\"\n",
    "\n",
    "of_params = OfParams(n_layers=3, layer_interval=7, average=False, img_shape=(64, 64), grid_size=15, step_size=5, window_size=11, stop_steps=3)\n",
    "\n",
    "rec = video_loader(of_params, aug_params)\n",
    "\n",
    "rec._load_legacy(clip_name, bg_ratio=3)\n"
   ]
  },
  {
   "cell_type": "code",
   "execution_count": 4,
   "metadata": {},
   "outputs": [
    {
     "name": "stdout",
     "output_type": "stream",
     "text": [
      "Number of clips: 2\n"
     ]
    }
   ],
   "source": [
    "feature_array, all_timestamps, clip_transitions = rec._load_features(\n",
    "            clip_name, rec._of_params)\n",
    "\n",
    "# Add random sampling of some indicies\n",
    "n_clips = clip_transitions.shape[0] + 1\n",
    "clip_feature_array = np.split(feature_array, clip_transitions + 1, axis=0)\n",
    "clip_timestamps = np.split(all_timestamps, clip_transitions + 1, axis=0)\n",
    "\n",
    "# only take y direction\n",
    "feature_array = clip_feature_array[0][:, :, 1]\n",
    "timestamps = clip_timestamps[0]\n",
    "t = (timestamps - timestamps[0]) / 1e9\n",
    "\n",
    "of_left = np.reshape(feature_array[:, :400], (-1,20,20))\n",
    "of_right = np.reshape(feature_array[:, 400:], (-1,20,20))"
   ]
  },
  {
   "cell_type": "code",
   "execution_count": 5,
   "metadata": {},
   "outputs": [
    {
     "name": "stderr",
     "output_type": "stream",
     "text": [
      "deprecated pixel format used, make sure you did set range correctly\n",
      "deprecated pixel format used, make sure you did set range correctly\n"
     ]
    },
    {
     "name": "stdout",
     "output_type": "stream",
     "text": [
      "Clip 1 of 2\r"
     ]
    },
    {
     "name": "stderr",
     "output_type": "stream",
     "text": [
      "deprecated pixel format used, make sure you did set range correctly\n",
      " (repeated 11834 more times)\n",
      "deprecated pixel format used, make sure you did set range correctly\n"
     ]
    },
    {
     "name": "stdout",
     "output_type": "stream",
     "text": [
      "Clip 2 of 2\r"
     ]
    }
   ],
   "source": [
    "timestamps, eye_left_images, eye_right_images = rec._get_frames(clip_name, convert_to_gray=True)\n",
    "\n",
    "t = (timestamps - timestamps[0]) / 1e9\n",
    "\n",
    "# where difference in frames is larger than 100 ms\n",
    "clip_transitions = np.where(np.diff(timestamps) > 1e8)[0]\n",
    "\n",
    "n_clips = clip_transitions.shape[0] + 1\n",
    "clip_left_images = np.split(eye_left_images, clip_transitions + 1)\n",
    "clip_right_images = np.split(eye_right_images, clip_transitions + 1)\n",
    "\n",
    "feature_array = []\n",
    "\n",
    "for iclip in range(0, n_clips):\n",
    "\n",
    "    clip_feature_array, grid = rec._compute_optical_flow(\n",
    "        of_params, clip_left_images[iclip], clip_right_images[iclip]\n",
    "    )\n",
    "\n",
    "    feature_array.append(clip_feature_array)\n",
    "\n",
    "feature_array = np.vstack(feature_array)"
   ]
  },
  {
   "cell_type": "code",
   "execution_count": 157,
   "metadata": {},
   "outputs": [],
   "source": [
    "feature_array = feature_array[:, :, 1]\n",
    "\n",
    "of_left = np.reshape(feature_array[:, :400], (-1,20,20))\n",
    "of_right = np.reshape(feature_array[:, 400:], (-1,20,20))"
   ]
  },
  {
   "cell_type": "code",
   "execution_count": 10,
   "metadata": {},
   "outputs": [
    {
     "name": "stdout",
     "output_type": "stream",
     "text": [
      "Number of clips: 2\n"
     ]
    },
    {
     "data": {
      "text/plain": [
       "array([[[ 0.        ,  0.        ],\n",
       "        [ 0.        ,  0.        ],\n",
       "        [ 0.        ,  0.        ],\n",
       "        ...,\n",
       "        [ 0.        ,  0.        ],\n",
       "        [ 0.        ,  0.        ],\n",
       "        [ 0.        ,  0.        ]],\n",
       "\n",
       "       [[ 0.        ,  0.        ],\n",
       "        [ 0.        ,  0.        ],\n",
       "        [ 0.        ,  0.        ],\n",
       "        ...,\n",
       "        [-0.16474533, -0.0471611 ],\n",
       "        [-0.14723206, -0.1602974 ],\n",
       "        [ 0.13716125, -0.3570366 ]],\n",
       "\n",
       "       [[ 0.        ,  0.        ],\n",
       "        [ 0.        ,  0.        ],\n",
       "        [ 0.        ,  0.        ],\n",
       "        ...,\n",
       "        [-0.02874756,  0.08181763],\n",
       "        [ 0.18031693, -0.14967346],\n",
       "        [ 0.55955505, -0.6081848 ]],\n",
       "\n",
       "       ...,\n",
       "\n",
       "       [[ 0.04804516, -0.141963  ],\n",
       "        [ 0.07432699,  0.01540279],\n",
       "        [ 0.0310607 ,  0.07298088],\n",
       "        ...,\n",
       "        [ 0.38268661, -0.61286545],\n",
       "        [ 0.5335121 , -0.5540314 ],\n",
       "        [ 0.10185242, -0.34669876]],\n",
       "\n",
       "       [[ 0.2539587 , -0.4475913 ],\n",
       "        [ 0.1213541 , -0.27861023],\n",
       "        [ 0.06561661, -0.06971073],\n",
       "        ...,\n",
       "        [ 0.33880234, -0.3099556 ],\n",
       "        [ 0.43234634, -0.29011536],\n",
       "        [ 0.3045349 , -0.1053772 ]],\n",
       "\n",
       "       [[ 0.2970605 , -0.31817913],\n",
       "        [ 0.11255527, -0.2611208 ],\n",
       "        [ 0.03352833, -0.21438694],\n",
       "        ...,\n",
       "        [ 0.34124756, -0.30846405],\n",
       "        [ 0.43602753, -0.29399872],\n",
       "        [ 0.2956848 , -0.09981537]]], dtype=float32)"
      ]
     },
     "execution_count": 10,
     "metadata": {},
     "output_type": "execute_result"
    }
   ],
   "source": [
    "feature_array, all_timestamps, clip_transitions = rec._load_features(\n",
    "            clip_name, rec._of_params)\n",
    "\n",
    "feature_array"
   ]
  },
  {
   "cell_type": "code",
   "execution_count": 8,
   "metadata": {},
   "outputs": [],
   "source": [
    "import typing as T\n",
    "\n",
    "def new_concatenate_features(\n",
    "    feature_array: np.ndarray, of_params: OfParams, indices: np.ndarray = None\n",
    ") -> np.ndarray:\n",
    "    \n",
    "    def get_layers(n, layer_interval):\n",
    "        return np.arange(-(n // 2), (n + 1) // 2) * layer_interval\n",
    "    \n",
    "    interp_left, interp_right = _create_interpolater(feature_array)\n",
    "    \n",
    "    print(of_params)\n",
    "    print(of_params.layer_interval)\n",
    "    layer_interval = of_params.layer_interval / 200 # sampling rate to convert to ms\n",
    "\n",
    "    n_frame = len(feature_array)\n",
    "\n",
    "    if indices is None:\n",
    "        indices = np.arange(n_frame) / 200\n",
    "\n",
    "    n_grids = of_params.grid_size * of_params.grid_size * 2\n",
    "    layers = get_layers(of_params.n_layers, layer_interval)\n",
    "\n",
    "    indices_layers = np.array([[indices + i] for i in layers]).reshape(len(layers), -1)\n",
    "    indices_layers = np.clip(indices_layers, 0, len(feature_array) - 1)\n",
    "\n",
    "    features_left = np.concatenate([interpolate_spacetime(interp_left, indices, grid_size=of_params.grid_size).reshape(-1, of_params.grid_size**2) for indices in indices_layers], axis=-1)\n",
    "\n",
    "    features_right = np.concatenate([interpolate_spacetime(interp_right, indices, grid_size=of_params.grid_size).reshape(-1, of_params.grid_size**2) for indices in indices_layers], axis=-1)\n",
    "\n",
    "    return np.concatenate((features_left, features_right), axis=-1)\n",
    "\n",
    "def _create_interpolater(feature_array: np.ndarray, grid_size=20):\n",
    "\n",
    "    length = grid_size ** 2\n",
    "\n",
    "    of_left = np.reshape(feature_array[:, :length], (-1, grid_size, grid_size))\n",
    "    of_right = np.reshape(feature_array[:, length:], (-1, grid_size, grid_size))\n",
    "\n",
    "    x = np.linspace(0, 64, grid_size, dtype=np.float32)\n",
    "    y = np.linspace(0, 64, grid_size, dtype=np.float32)\n",
    "\n",
    "    interpolator_left = RegularGridInterpolator((t, x, y), of_left, bounds_error=False, fill_value=None, method=\"linear\")\n",
    "    \n",
    "    interpolator_right = RegularGridInterpolator((t, x, y), of_right, bounds_error=False, fill_value=None, method=\"linear\")\n",
    "\n",
    "    return interpolator_left, interpolator_right\n",
    "\n",
    "\n",
    "def interpolate_spacetime(interpolator, time_points: T.List[int], grid_size: int, augmentation: T.Dict[str, int] = None):\n",
    "    \n",
    "    x = np.linspace(0, 64, grid_size + 2, dtype=np.float32)[1:-1]\n",
    "    y = np.linspace(0, 64, grid_size + 2, dtype=np.float32)[1:-1]\n",
    "\n",
    "    tt, xx, yy = np.meshgrid(time_points, x, y)\n",
    "\n",
    "    txy_grid = np.concatenate((tt.reshape(-1, 1), xx.reshape(-1, 1), yy.reshape(-1, 1)), axis=1)\n",
    "\n",
    "    if augmentation is not None:\n",
    "\n",
    "        augm_params = get_augmentation_pars()\n",
    "\n",
    "        grid_trans = np.zeros_like(txy_grid)\n",
    "\n",
    "        grid_trans = txy_grid[:, 0]\n",
    "        grid_trans[:, 1:] = (augm_params[\"linear_distort\"] @ (augm_params[\"scale\"] * (txy_grid[:, 1:] - 32.)).T).T + 32 + augm_params[\"translation\"]\n",
    "\n",
    "        txy_grid = grid_trans\n",
    "    \n",
    "    return interpolator(txy_grid).reshape(grid_size, len(time_points), grid_size).transpose(1, 0, 2)\n",
    "    \n",
    "def get_augmentation_pars(n_augmentations):\n",
    "    \n",
    "    augmentation_params = {}\n",
    "    \n",
    "    std_speed = 0.2\n",
    "    std_translation = 3\n",
    "    std_scale = 0.15\n",
    "    std_linear = 0.03\n",
    "    \n",
    "    augmentation_params[\"speed\"] = np.random.normal(1, std_speed, n_augmentations)\n",
    "    augmentation_params[\"translation\"] = np.random.normal(0, std_translation, (n_augmentations, 2))\n",
    "    augmentation_params[\"scale\"] = np.random.normal(1, std_scale, n_augmentations)\n",
    "    augmentation_params[\"linear_distort\"] = np.squeeze(np.dstack([np.eye(2)]*n_augmentations) + np.random.normal(0, std_linear, (2, 2, n_augmentations)))\n",
    "    \n",
    "    return augmentation_params\n"
   ]
  },
  {
   "cell_type": "code",
   "execution_count": 9,
   "metadata": {},
   "outputs": [
    {
     "data": {
      "text/plain": [
       "1.0620881393362114"
      ]
     },
     "execution_count": 9,
     "metadata": {},
     "output_type": "execute_result"
    }
   ],
   "source": [
    "np.random.normal(1, 0.1)"
   ]
  },
  {
   "attachments": {},
   "cell_type": "markdown",
   "metadata": {},
   "source": [
    "**Interpolate to 50x50 grid for 3 points in time**"
   ]
  },
  {
   "attachments": {},
   "cell_type": "markdown",
   "metadata": {},
   "source": [
    "*Plot result*"
   ]
  },
  {
   "cell_type": "code",
   "execution_count": null,
   "metadata": {},
   "outputs": [],
   "source": [
    "# import matplotlib.pyplot as plt\n",
    "\n",
    "# interp_left, interp_right = _create_interpolater(feature_array)\n",
    "\n",
    "# of_interp = interpolate_spacetime(interp_left, t, grid_size=20)\n",
    "\n",
    "# f, ax = plt.subplots(1, 2, figsize=(10, 5))\n",
    "\n",
    "# ax[0].imshow(of_interp[5,:, :])\n",
    "# ax[0].set_title(\"Interpolated\")\n",
    "                \n",
    "\n",
    "# augm_params = get_augmentation_pars()\n",
    "\n",
    "# p_grid = create_grids((64,64), 20 + 2, full_grid=False) \n",
    "# p_grid_trans = np.empty_like(p_grid)\n",
    "# p_grid_trans = (linear_distort @ (scale * (p_grid - 32.)).T).T + 32 + translation\n",
    "\n",
    "# of_interp = interpolate_spacetime(interp_left, t, grid_size=20, x=p_grid_trans[:, 0], y=p_grid_trans[:, 1])\n",
    "\n",
    "\n",
    "# ax[1].imshow(of_interp[5, :, :])\n",
    "# ax[1].set_title(\"Distorted\")\n",
    "\n"
   ]
  },
  {
   "cell_type": "code",
   "execution_count": 248,
   "metadata": {},
   "outputs": [],
   "source": [
    "x = np.linspace(0, 64, 20 + 2, dtype=np.float32)[1:-1]\n",
    "y = np.linspace(0, 64, 20 + 2, dtype=np.float32)[1:-1]\n",
    "\n",
    "tt, xx, yy = np.meshgrid(t, x, y)\n",
    "\n",
    "txy_grid = np.concatenate((tt.reshape(-1, 1), xx.reshape(-1, 1), yy.reshape(-1, 1)), axis=1)"
   ]
  },
  {
   "cell_type": "code",
   "execution_count": 7,
   "metadata": {},
   "outputs": [
    {
     "name": "stdout",
     "output_type": "stream",
     "text": [
      "Number of clips: 2\n"
     ]
    }
   ],
   "source": [
    "import matplotlib.pyplot as plt\n",
    "from src.features_calculator import (\n",
    "    new_concatenate_features,\n",
    "    get_augmentation_pars,\n",
    ")\n",
    "\n",
    "rec._of_params.grid_size = 4\n",
    "rec._of_params.n_layers = 7\n",
    "\n",
    "feature_array, all_timestamps, clip_transitions = rec._load_features(\n",
    "            clip_name, rec._of_params)\n",
    "\n",
    "# Add random sampling of some indicies\n",
    "\n",
    "n_clips = clip_transitions.shape[0] + 1\n",
    "clip_feature_array = np.split(feature_array, clip_transitions + 1, axis=0)\n",
    "clip_timestamps = np.split(all_timestamps, clip_transitions + 1, axis=0)\n"
   ]
  },
  {
   "attachments": {},
   "cell_type": "markdown",
   "metadata": {},
   "source": [
    "**Generate artificial feature array**"
   ]
  },
  {
   "cell_type": "code",
   "execution_count": 9,
   "metadata": {},
   "outputs": [],
   "source": [
    "of_left = np.zeros([3490, 20, 20, 2])\n",
    "of_left[:, 6:14, 6:14, :] = 1\n",
    "\n",
    "of_right = np.zeros([3490, 20, 20, 2])\n",
    "of_right[:, 6:14, 6:14, :] = 1\n",
    "\n",
    "of_left = of_left.reshape(-1, 20*20, 2)\n",
    "of_right = of_right.reshape(-1, 20*20, 2)\n",
    "\n",
    "feature_array = np.concatenate((of_left, of_right), axis=1)"
   ]
  },
  {
   "attachments": {},
   "cell_type": "markdown",
   "metadata": {},
   "source": [
    "**Plot features with and without augmentation**"
   ]
  },
  {
   "cell_type": "code",
   "execution_count": 38,
   "metadata": {},
   "outputs": [
    {
     "name": "stdout",
     "output_type": "stream",
     "text": [
      "options 100\n"
     ]
    },
    {
     "data": {
      "text/plain": [
       "<matplotlib.image.AxesImage at 0x7f178a3b7cd0>"
      ]
     },
     "execution_count": 38,
     "metadata": {},
     "output_type": "execute_result"
    },
    {
     "data": {
      "image/png": "[encoded data removed]",
      "text/plain": [
       "<Figure size 1000x500 with 4 Axes>"
      ]
     },
     "metadata": {},
     "output_type": "display_data"
    }
   ],
   "source": [
    "rec._of_params.grid_size = 10\n",
    "rec._of_params.n_layers = 7\n",
    "\n",
    "from src.features_calculator import (\n",
    "    new_concatenate_features,\n",
    "    get_augmentation_pars,\n",
    "    create_interpolater\n",
    ")\n",
    "from training.helper import get_augmentation_options\n",
    "import matplotlib.pyplot as plt\n",
    "\n",
    "iclip = 1\n",
    "\n",
    "all_times = (all_timestamps[0:10000] - all_timestamps[0]) / 1e9 \n",
    "indc_times = [2, 500, 1000, 2000, 5000, 10000]\n",
    "\n",
    "interp_left, interp_right = create_interpolater(feature_array[:, :, 1], all_times)\n",
    "n_clip_frames = clip_feature_array[iclip].shape[0]\n",
    "\n",
    "aug_params_options = get_augmentation_options()\n",
    "aug_options = aug_params_options[0]\n",
    "aug_params = get_augmentation_pars(aug_options)\n",
    "\n",
    "aug_params[\"speed\"] = 1\n",
    "aug_params[\"translation\"] = np.zeros((1, 2))\n",
    "aug_params[\"scale\"] = 1\n",
    "aug_params[\"linear_distort\"] = np.eye(2)\n",
    "\n",
    "aug_feat = new_concatenate_features(\n",
    "    interp_left,\n",
    "    interp_right,\n",
    "    n_clip_frames,\n",
    "    of_params,\n",
    "    indc_times[0],\n",
    "    aug_params,\n",
    ")\n",
    "\n",
    "# print(aug_feat.shape)\n",
    "left = aug_feat[0, :700].reshape(7, 10, 10)\n",
    "right = aug_feat[0, 700:].reshape(7, 10, 10)\n",
    "\n",
    "# for aug_params in aug_params_options:\n",
    "    \n",
    "aug_params = {}\n",
    "aug_params[\"speed\"] = 1\n",
    "aug_params[\"translation\"] = [-10, 10]\n",
    "aug_params[\"scale\"] = 1.5\n",
    "aug_params[\"linear_distort\"] = np.eye(2) + [[0, 0], [0, 0]]\n",
    "\n",
    "aug_feat = new_concatenate_features(\n",
    "    interp_left,\n",
    "    interp_right,\n",
    "    n_clip_frames,\n",
    "    of_params,\n",
    "    indc_times[0],\n",
    "    aug_params,\n",
    ")\n",
    "\n",
    "left_aug = aug_feat[0, :700].reshape(7, 10, 10)\n",
    "right_aug = aug_feat[0, 700:].reshape(7, 10, 10)\n",
    "\n",
    "\n",
    "f, ax = plt.subplots(2, 2, figsize=(10, 5))\n",
    "\n",
    "ax[0, 0].imshow(left[0, :, :], vmin=-3, vmax=1)\n",
    "ax[0, 1].imshow(right[0, :, :], vmin=-3, vmax=1)\n",
    "ax[1, 0].imshow(left_aug[0, :, :], vmin=-3, vmax=1)\n",
    "ax[1, 1].imshow(right_aug[0, :, :], vmin=-3, vmax=1)"
   ]
  },
  {
   "cell_type": "code",
   "execution_count": 26,
   "metadata": {},
   "outputs": [
    {
     "data": {
      "text/plain": [
       "(1, 1400)"
      ]
     },
     "execution_count": 26,
     "metadata": {},
     "output_type": "execute_result"
    }
   ],
   "source": []
  },
  {
   "cell_type": "code",
   "execution_count": null,
   "metadata": {},
   "outputs": [],
   "source": []
  },
  {
   "cell_type": "code",
   "execution_count": null,
   "metadata": {},
   "outputs": [],
   "source": []
  },
  {
   "cell_type": "code",
   "execution_count": 51,
   "metadata": {},
   "outputs": [],
   "source": []
  },
  {
   "cell_type": "code",
   "execution_count": 10,
   "metadata": {},
   "outputs": [
    {
     "name": "stdout",
     "output_type": "stream",
     "text": [
      "Number of clips: 2\n"
     ]
    }
   ],
   "source": [
    "import matplotlib.pyplot as plt\n",
    "from src.features_calculator import (\n",
    "    new_concatenate_features,\n",
    "    get_augmentation_pars,\n",
    ")\n",
    "\n",
    "rec._of_params.grid_size = 4\n",
    "rec._of_params.n_layers = 7\n",
    "\n",
    "feature_array, all_timestamps, clip_transitions = rec._load_features(\n",
    "            clip_name, rec._of_params)\n",
    "\n",
    "# Add random sampling of some indicies\n",
    "\n",
    "n_clips = clip_transitions.shape[0] + 1\n",
    "clip_feature_array = np.split(feature_array, clip_transitions + 1, axis=0)\n",
    "clip_timestamps = np.split(all_timestamps, clip_transitions + 1, axis=0)\n"
   ]
  },
  {
   "cell_type": "code",
   "execution_count": 36,
   "metadata": {},
   "outputs": [],
   "source": [
    "from src.features_calculator import (\n",
    "    new_concatenate_features,\n",
    "    get_augmentation_pars,\n",
    "    create_interpolater\n",
    ")\n",
    "from training.helper import get_augmentation_options\n",
    "import matplotlib.pyplot as plt\n",
    "\n",
    "all_times = (all_timestamps[0:10000] - all_timestamps[0]) / 1e9 \n",
    "indc_times = [2, 500, 1000, 2000, 5000, 10000]\n",
    "\n",
    "interp_left, interp_right = create_interpolater(feature_array[:, :, 1], all_times)\n",
    "n_clip_frames = clip_feature_array[iclip].shape[0]\n",
    "\n",
    "# aug_params_options = get_augmentation_options()\n",
    "# aug_options = aug_params_options[0]\n",
    "# aug_params = get_augmentation_pars(aug_options)\n",
    "\n",
    "vec = np.zeros([224, 24])\n",
    "aug_params = {}\n",
    "\n",
    "aug_params[\"speed\"] = 1\n",
    "aug_params[\"translation\"] = np.zeros((1, 2))\n",
    "aug_params[\"scale\"] = 1\n",
    "aug_params[\"linear_distort\"] = np.eye(2)\n",
    "\n",
    "aug_feat = new_concatenate_features(\n",
    "    interp_left,\n",
    "    interp_right,\n",
    "    n_clip_frames,\n",
    "    of_params,\n",
    "    indc_times[2],\n",
    "    aug_params,\n",
    ")\n",
    "\n",
    "# print(aug_feat.shape)\n",
    "# left = aug_feat[0, :112].reshape(7, 4, 4)\n",
    "# right = aug_feat[0, 112:].reshape(7, 4, 4)\n",
    "\n",
    "vec[:, 0] = aug_feat\n",
    "\n",
    "for i, all_aug_params in enumerate(aug_params_options):\n",
    "\n",
    "    aug_params[\"speed\"] = 1\n",
    "    aug_params[\"translation\"] = [0, all_aug_params.std_translation]\n",
    "    aug_params[\"scale\"] = 1 + all_aug_params.std_scale\n",
    "    aug_params[\"linear_distort\"] = np.eye(2) + [[0, 0], [0, 0]]\n",
    "\n",
    "    aug_feat = new_concatenate_features(\n",
    "        interp_left,\n",
    "        interp_right,\n",
    "        n_clip_frames,\n",
    "        of_params,\n",
    "        indc_times[0],\n",
    "        aug_params,\n",
    "    )\n",
    "    \n",
    "    vec[:, i] = aug_feat\n",
    "\n",
    "    # left_aug = aug_feat[0, :112].reshape(7, 4, 4)\n",
    "    # right_aug = aug_feat[0, 112:].reshape(7, 4, 4)\n",
    "\n",
    "\n",
    "    # f, ax = plt.subplots(2, 2, figsize=(10, 5))\n",
    "\n",
    "    # ax[0, 0].imshow(left[0, :, :], vmin=-3, vmax=1)\n",
    "    # ax[0, 1].imshow(right[0, :, :], vmin=-3, vmax=1)\n",
    "    # ax[1, 0].imshow(left_aug[0, :, :], vmin=-3, vmax=1)\n",
    "    # ax[1, 1].imshow(right_aug[0, :, :], vmin=-3, vmax=1)"
   ]
  },
  {
   "cell_type": "code",
   "execution_count": 41,
   "metadata": {},
   "outputs": [
    {
     "data": {
      "text/plain": [
       "<matplotlib.image.AxesImage at 0x7f8a4c6282e0>"
      ]
     },
     "execution_count": 41,
     "metadata": {},
     "output_type": "execute_result"
    },
    {
     "data": {
      "image/png": "[encoded data removed]",
      "text/plain": [
       "<Figure size 2000x3000 with 1 Axes>"
      ]
     },
     "metadata": {},
     "output_type": "display_data"
    }
   ],
   "source": [
    "fig, ax = plt.subplots(1, 1, figsize=(10, 5))\n",
    "fig.set_size_inches(20, 30)\n",
    "plt.imshow(vec.transpose())\n"
   ]
  },
  {
   "cell_type": "code",
   "execution_count": 45,
   "metadata": {},
   "outputs": [
    {
     "data": {
      "text/plain": [
       "[<matplotlib.lines.Line2D at 0x7f8a4c251390>,\n",
       " <matplotlib.lines.Line2D at 0x7f8a4c2513f0>,\n",
       " <matplotlib.lines.Line2D at 0x7f8a4c251420>,\n",
       " <matplotlib.lines.Line2D at 0x7f8a4c251510>,\n",
       " <matplotlib.lines.Line2D at 0x7f8a4c251600>]"
      ]
     },
     "execution_count": 45,
     "metadata": {},
     "output_type": "execute_result"
    },
    {
     "data": {
      "image/png": "[encoded data removed]",
      "text/plain": [
       "<Figure size 1000x500 with 1 Axes>"
      ]
     },
     "metadata": {},
     "output_type": "display_data"
    }
   ],
   "source": [
    "fig, ax = plt.subplots(1, 1, figsize=(10, 5))\n",
    "plt.plot(vec[[0, 50, 100, 150, 200], :].transpose())"
   ]
  },
  {
   "cell_type": "code",
   "execution_count": 123,
   "metadata": {},
   "outputs": [
    {
     "data": {
      "text/plain": [
       "array([-4.17367137, -2.38078565, -4.5744855 , -1.55344403, -0.93807524,\n",
       "       -0.13177542, -0.90270045, -0.33760561, -0.790868  , -4.8060915 ])"
      ]
     },
     "execution_count": 123,
     "metadata": {},
     "output_type": "execute_result"
    }
   ],
   "source": []
  },
  {
   "cell_type": "code",
   "execution_count": 122,
   "metadata": {},
   "outputs": [
    {
     "data": {
      "text/plain": [
       "(1, 224)"
      ]
     },
     "execution_count": 122,
     "metadata": {},
     "output_type": "execute_result"
    }
   ],
   "source": [
    "aug_feat.shape"
   ]
  },
  {
   "cell_type": "code",
   "execution_count": 21,
   "metadata": {},
   "outputs": [
    {
     "data": {
      "text/plain": [
       "0.3"
      ]
     },
     "execution_count": 21,
     "metadata": {},
     "output_type": "execute_result"
    }
   ],
   "source": []
  },
  {
   "cell_type": "code",
   "execution_count": null,
   "metadata": {},
   "outputs": [],
   "source": []
  }
 ],
 "metadata": {
  "kernelspec": {
   "display_name": "tom_py310",
   "language": "python",
   "name": "python3"
  },
  "language_info": {
   "codemirror_mode": {
    "name": "ipython",
    "version": 3
   },
   "file_extension": ".py",
   "mimetype": "text/x-python",
   "name": "python",
   "nbconvert_exporter": "python",
   "pygments_lexer": "ipython3",
   "version": "3.10.9"
  },
  "orig_nbformat": 4,
  "vscode": {
   "interpreter": {
    "hash": "feb805377acc0c3126af32ed46b7fdc97926b253a83f7d8d0e8455803270882f"
   }
  }
 },
 "nbformat": 4,
 "nbformat_minor": 2
}
