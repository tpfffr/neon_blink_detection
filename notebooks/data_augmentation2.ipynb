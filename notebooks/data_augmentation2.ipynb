{
 "cells": [
  {
   "cell_type": "code",
   "execution_count": 1,
   "metadata": {},
   "outputs": [
    {
     "name": "stderr",
     "output_type": "stream",
     "text": [
      "/cluster/anaconda3/envs/tom_py310/lib/python3.10/site-packages/tqdm/auto.py:22: TqdmWarning: IProgress not found. Please update jupyter and ipywidgets. See https://ipywidgets.readthedocs.io/en/stable/user_install.html\n",
      "  from .autonotebook import tqdm as notebook_tqdm\n"
     ]
    }
   ],
   "source": [
    "import sys \n",
    "from scipy.interpolate import RegularGridInterpolator\n",
    "\n",
    "\n",
    "sys.path.append(\"/cluster/users/tom/git/neon_blink_detection/\")\n",
    "sys.path.append(\"/cluster/users/tom/git/neon_blink_detection/src\")\n",
    "\n",
    "from src.features_calculator import create_grids\n",
    "import numpy as np\n",
    "\n",
    "from training.video_loader import video_loader\n",
    "from src.helper import OfParams, AugParams\n",
    "of_params = OfParams()\n",
    "aug_params = AugParams()\n",
    "\n",
    "clip_name = \"1004-2022-12-14-13-14-14-c8a509b9\"\n",
    "\n",
    "of_params = OfParams(n_layers=3, layer_interval=7, average=False, img_shape=(64, 64), grid_size=4, step_size=5, window_size=11, stop_steps=3)\n",
    "\n",
    "rec = video_loader(of_params, aug_params)\n",
    "\n",
    "rec._load(clip_name, bg_ratio=3, augment=False)\n"
   ]
  },
  {
   "cell_type": "code",
   "execution_count": 143,
   "metadata": {},
   "outputs": [],
   "source": [
    "feature_array, all_timestamps, clip_transitions = rec._load_features(\n",
    "            clip_name, rec._of_params)\n",
    "\n",
    "# Add random sampling of some indicies\n",
    "\n",
    "n_clips = clip_transitions.shape[0] + 1\n",
    "clip_feature_array = np.split(feature_array, clip_transitions + 1, axis=0)\n",
    "clip_timestamps = np.split(all_timestamps, clip_transitions + 1, axis=0)\n",
    "\n",
    "# only take y direction\n",
    "feature_array = clip_feature_array[0][:, :, 1]\n",
    "timestamps = clip_timestamps[0]\n",
    "t = (timestamps - timestamps[0]) / 1e9\n",
    "\n",
    "of_left = np.reshape(feature_array[:, :400], (-1,20,20))\n",
    "of_right = np.reshape(feature_array[:, 400:], (-1,20,20))\n",
    "\n",
    "\n",
    "\n"
   ]
  },
  {
   "attachments": {},
   "cell_type": "markdown",
   "metadata": {},
   "source": [
    "**Interpolate to 50x50 grid for 3 points in time**"
   ]
  },
  {
   "cell_type": "code",
   "execution_count": 251,
   "metadata": {},
   "outputs": [
    {
     "data": {
      "text/plain": [
       "(50, 3, 50)"
      ]
     },
     "execution_count": 251,
     "metadata": {},
     "output_type": "execute_result"
    }
   ],
   "source": []
  },
  {
   "attachments": {},
   "cell_type": "markdown",
   "metadata": {},
   "source": [
    "*Plot result*"
   ]
  },
  {
   "cell_type": "code",
   "execution_count": 321,
   "metadata": {},
   "outputs": [
    {
     "data": {
      "text/plain": [
       "<matplotlib.image.AxesImage at 0x7fbc7465be20>"
      ]
     },
     "execution_count": 321,
     "metadata": {},
     "output_type": "execute_result"
    },
    {
     "data": {
      "image/png": "[encoded data removed]",
      "text/plain": [
       "<Figure size 1000x500 with 2 Axes>"
      ]
     },
     "metadata": {},
     "output_type": "display_data"
    }
   ],
   "source": [
    "\n",
    "\n",
    "\n",
    "\n",
    "\n",
    "of_interp = space_time_grid(interpolator_left, 5*t[1:7], grid_size=20)\n",
    "\n",
    "f, ax = plt.subplots(1, 2, figsize=(10, 5))\n",
    "\n",
    "ax[0].imshow(of_interp[0,:, :])\n",
    "ax[1].imshow(of_left[5, :, :])"
   ]
  },
  {
   "cell_type": "code",
   "execution_count": 291,
   "metadata": {},
   "outputs": [],
   "source": [
    "\n",
    "n_layers = rec._of_params.n_layers\n",
    "t_layer_interval = rec._of_params.layer_interval / 200\n",
    "\n",
    "n_frame = len(feature_array)\n",
    "indices = t\n",
    "n_grids = of_params.grid_size * of_params.grid_size * 2\n",
    "layers = get_layers(of_params.n_layers, t_layer_interval)\n",
    "\n",
    "indices_layers = np.array([[indices + i] for i in layers]).reshape(len(layers), -1)\n",
    "indices_layers = np.clip(indices_layers, 0, len(feature_array) - 1)\n",
    "\n",
    "features = np.concatenate([space_time_grid(interpolator_left, indices, grid_size=of_params.grid_size).reshape(-1, of_params.grid_size**2) for indices in indices_layers], axis=-1)\n",
    "\n",
    "n_features = (\n",
    "        of_params.n_layers if of_params.average else of_params.n_layers * n_grids\n",
    "    )\n",
    "\n"
   ]
  },
  {
   "cell_type": "code",
   "execution_count": 293,
   "metadata": {},
   "outputs": [
    {
     "data": {
      "text/plain": [
       "OfParams(n_layers=3, layer_interval=7, average=False, img_shape=(64, 64), grid_size=4, step_size=5, window_size=11, stop_steps=3)"
      ]
     },
     "execution_count": 293,
     "metadata": {},
     "output_type": "execute_result"
    }
   ],
   "source": [
    "of_params"
   ]
  },
  {
   "cell_type": "code",
   "execution_count": 17,
   "metadata": {},
   "outputs": [],
   "source": [
    "import typing as T\n",
    "\n",
    "def new_concatenate_features(\n",
    "    feature_array: np.ndarray, of_params: OfParams, indices: np.ndarray = None\n",
    ") -> np.ndarray:\n",
    "    \n",
    "    def get_layers(n, layer_interval):\n",
    "        return np.arange(-(n // 2), (n + 1) // 2) * layer_interval\n",
    "    \n",
    "    interp_left, interp_right = _create_interpolater(feature_array)\n",
    "    \n",
    "    layer_interval = of_params.layer_interval / 200 # sampling rate to convert to ms\n",
    "\n",
    "    n_frame = len(feature_array)\n",
    "\n",
    "    if indices is None:\n",
    "        indices = np.arange(n_frame) / 200\n",
    "\n",
    "    n_grids = of_params.grid_size * of_params.grid_size * 2\n",
    "    layers = get_layers(of_params.n_layers, layer_interval)\n",
    "\n",
    "    indices_layers = np.array([[indices + i] for i in layers]).reshape(len(layers), -1)\n",
    "    indices_layers = np.clip(indices_layers, 0, len(feature_array) - 1)\n",
    "\n",
    "    features_left = np.concatenate([interpolate_spacetime(interp_left, indices, grid_size=of_params.grid_size).reshape(-1, of_params.grid_size**2) for indices in indices_layers], axis=-1)\n",
    "\n",
    "    features_right = np.concatenate([interpolate_spacetime(interp_right, indices, grid_size=of_params.grid_size).reshape(-1, of_params.grid_size**2) for indices in indices_layers], axis=-1)\n",
    "\n",
    "    return np.concatenate((features_left, features_right), axis=-1)\n",
    "\n",
    "def _create_interpolater(feature_array: np.ndarray, grid_size=20):\n",
    "\n",
    "    length = grid_size ** 2\n",
    "\n",
    "    of_left = np.reshape(feature_array[:, :length], (-1, grid_size, grid_size))\n",
    "    of_right = np.reshape(feature_array[:, length:], (-1, grid_size, grid_size))\n",
    "\n",
    "    x = np.linspace(0, 64, grid_size + 2, dtype=np.float32)[1:-1]\n",
    "    y = np.linspace(0, 64, grid_size + 2, dtype=np.float32)[1:-1]\n",
    "\n",
    "    interpolator_left = RegularGridInterpolator((t, x, y), of_left, bounds_error=False, fill_value=None, method=\"linear\")\n",
    "    interpolator_right = RegularGridInterpolator((t, x, y), of_right, bounds_error=False, fill_value=None, method=\"linear\")\n",
    "\n",
    "    return interpolator_left, interpolator_right\n",
    "\n",
    "\n",
    "def interpolate_spacetime(interpolator, time_points: T.List[int], grid_size: int):\n",
    "    \n",
    "    x = np.linspace(0, 64, grid_size + 2, dtype=np.float32)[1:-1]\n",
    "    y = np.linspace(0, 64, grid_size + 2, dtype=np.float32)[1:-1]\n",
    "\n",
    "    tt, xx, yy = np.meshgrid(time_points, x, y)\n",
    "\n",
    "    txy_grid = np.concatenate((tt.reshape(-1, 1), xx.reshape(-1, 1), yy.reshape(-1, 1)), axis=1)\n",
    "    \n",
    "    return interpolator(txy_grid).reshape(grid_size, len(time_points), grid_size).transpose(1, 0, 2)\n",
    "\n"
   ]
  },
  {
   "cell_type": "code",
   "execution_count": 18,
   "metadata": {},
   "outputs": [
    {
     "ename": "NameError",
     "evalue": "name 'feature_array' is not defined",
     "output_type": "error",
     "traceback": [
      "\u001b[0;31m---------------------------------------------------------------------------\u001b[0m",
      "\u001b[0;31mNameError\u001b[0m                                 Traceback (most recent call last)",
      "Cell \u001b[0;32mIn[18], line 1\u001b[0m\n\u001b[0;32m----> 1\u001b[0m interp_left, interp_right \u001b[39m=\u001b[39m _create_interpolater(feature_array)\n\u001b[1;32m      3\u001b[0m features_left \u001b[39m=\u001b[39m np\u001b[39m.\u001b[39mconcatenate([interpolate_spacetime(interp_left, indices, grid_size\u001b[39m=\u001b[39mof_params\u001b[39m.\u001b[39mgrid_size)\u001b[39m.\u001b[39mreshape(\u001b[39m-\u001b[39m\u001b[39m1\u001b[39m, of_params\u001b[39m.\u001b[39mgrid_size\u001b[39m*\u001b[39m\u001b[39m*\u001b[39m\u001b[39m2\u001b[39m) \u001b[39mfor\u001b[39;00m indices \u001b[39min\u001b[39;00m indices_layers], axis\u001b[39m=\u001b[39m\u001b[39m-\u001b[39m\u001b[39m1\u001b[39m)\n\u001b[1;32m      5\u001b[0m features_right \u001b[39m=\u001b[39m np\u001b[39m.\u001b[39mconcatenate([interpolate_spacetime(interp_right, indices, grid_size\u001b[39m=\u001b[39mof_params\u001b[39m.\u001b[39mgrid_size)\u001b[39m.\u001b[39mreshape(\u001b[39m-\u001b[39m\u001b[39m1\u001b[39m, of_params\u001b[39m.\u001b[39mgrid_size\u001b[39m*\u001b[39m\u001b[39m*\u001b[39m\u001b[39m2\u001b[39m) \u001b[39mfor\u001b[39;00m indices \u001b[39min\u001b[39;00m indices_layers], axis\u001b[39m=\u001b[39m\u001b[39m-\u001b[39m\u001b[39m1\u001b[39m)\n",
      "\u001b[0;31mNameError\u001b[0m: name 'feature_array' is not defined"
     ]
    }
   ],
   "source": [
    "interp_left, interp_right = _create_interpolater(feature_array)\n",
    "\n",
    "features_left = np.concatenate([interpolate_spacetime(interp_left, indices, grid_size=of_params.grid_size).reshape(-1, of_params.grid_size**2) for indices in indices_layers], axis=-1)\n",
    "\n",
    "features_right = np.concatenate([interpolate_spacetime(interp_right, indices, grid_size=of_params.grid_size).reshape(-1, of_params.grid_size**2) for indices in indices_layers], axis=-1)"
   ]
  },
  {
   "cell_type": "code",
   "execution_count": 334,
   "metadata": {},
   "outputs": [
    {
     "data": {
      "text/plain": [
       "(8619, 96)"
      ]
     },
     "execution_count": 334,
     "metadata": {},
     "output_type": "execute_result"
    }
   ],
   "source": []
  },
  {
   "cell_type": "code",
   "execution_count": 58,
   "metadata": {},
   "outputs": [],
   "source": [
    "def concatenate_features(\n",
    "    feature_array: np.ndarray, of_params: OfParams, indices: np.ndarray = None\n",
    ") -> np.ndarray:\n",
    "    def get_layers(n, layer_interval):\n",
    "        return np.arange(-(n // 2), (n + 1) // 2) * layer_interval\n",
    "\n",
    "\n",
    "    features = np.concatenate(\n",
    "        [feature_array_y[indices] for indices in indices_layers], axis=1\n",
    "    )\n",
    "    n_features = (\n",
    "        of_params.n_layers if of_params.average else of_params.n_layers * n_grids\n",
    "    )\n",
    "    # if features.shape != (len(indices), n_features):\n",
    "    #     raise RuntimeError(\n",
    "    #         f\"feature shape should be {(len(indices), n_features)}, but get {features.shape}\"\n",
    "    #     )\n",
    "    return features"
   ]
  },
  {
   "cell_type": "code",
   "execution_count": 63,
   "metadata": {},
   "outputs": [],
   "source": []
  },
  {
   "cell_type": "code",
   "execution_count": 64,
   "metadata": {},
   "outputs": [
    {
     "data": {
      "text/plain": [
       "<matplotlib.image.AxesImage at 0x7f5f6b809270>"
      ]
     },
     "execution_count": 64,
     "metadata": {},
     "output_type": "execute_result"
    },
    {
     "data": {
      "image/png": "[encoded data removed]",
      "text/plain": [
       "<Figure size 640x480 with 6 Axes>"
      ]
     },
     "metadata": {},
     "output_type": "display_data"
    }
   ],
   "source": [
    "iframe = 2000\n",
    "\n",
    "grid_size = 6 # grid_size we want to interpolate to\n",
    "p_grid = create_grids((64,64), grid_size, 0)\n",
    "time_ = t[iframe] # timestamp belonging to the frame\n",
    "t_p_grid  = np.concatenate((time_ * np.ones((p_grid.shape[0],1)), p_grid), axis=1) \n",
    "# of_interp = np.reshape(interpolator_left(t_p_grid),(grid_size, grid_size))\n",
    "\n",
    "p_grid.shape\n",
    "interp = interpolator_left(t_p_grid).reshape(grid_size-2, grid_size-2, 6)\n",
    "\n",
    "import matplotlib.pyplot as plt\n",
    "f, ax = plt.subplots(3, 2)\n",
    "ax[0, 0].imshow(interp[:, :, 0])\n",
    "ax[0, 1].imshow(features_per_layer[iframe, :, :, 0].transpose())\n",
    "ax[1, 0].imshow(interp[:, :, 2])\n",
    "ax[1, 1].imshow(features_per_layer[iframe, :, :, 2].transpose())\n",
    "ax[2, 0].imshow(interp[:, :, 4])\n",
    "ax[2, 1].imshow(features_per_layer[iframe, :, :, 4].transpose())\n"
   ]
  },
  {
   "cell_type": "code",
   "execution_count": 16,
   "metadata": {},
   "outputs": [
    {
     "data": {
      "text/plain": [
       "(43284, 4, 4, 6)"
      ]
     },
     "execution_count": 16,
     "metadata": {},
     "output_type": "execute_result"
    }
   ],
   "source": [
    "features_per_layer.shape"
   ]
  },
  {
   "cell_type": "code",
   "execution_count": 33,
   "metadata": {},
   "outputs": [
    {
     "data": {
      "text/plain": [
       "array([200., 200., 200., 200., 200., 200.])"
      ]
     },
     "execution_count": 33,
     "metadata": {},
     "output_type": "execute_result"
    }
   ],
   "source": [
    "fea"
   ]
  },
  {
   "cell_type": "code",
   "execution_count": 84,
   "metadata": {},
   "outputs": [
    {
     "data": {
      "text/plain": [
       "(37145, 4, 4, 6)"
      ]
     },
     "execution_count": 84,
     "metadata": {},
     "output_type": "execute_result"
    }
   ],
   "source": [
    "features_per_layer.shape"
   ]
  },
  {
   "cell_type": "code",
   "execution_count": 117,
   "metadata": {},
   "outputs": [],
   "source": [
    "x, y = np.array([-2, 0, 4, 6]), np.array([-2, 0, 2, 5])\n",
    "\n",
    "def ff(x, y):\n",
    "    return x**2 + y**2\n",
    "\n",
    "xg, yg = np.meshgrid(x, y, indexing='ij')\n",
    "data = ff(xg, yg)\n",
    "data\n",
    "\n",
    "interp = RegularGridInterpolator((x, y), data,\n",
    "                                 bounds_error=False, fill_value=None)\n",
    "# import matplotlib.pyplot as plt\n",
    "# fig = plt.figure()\n",
    "# ax = fig.add_subplot(projection='3d')\n",
    "# ax.scatter(xg.ravel(), yg.ravel(), data.ravel(),\n",
    "#            s=60, c='k', label='data')"
   ]
  },
  {
   "cell_type": "code",
   "execution_count": 116,
   "metadata": {},
   "outputs": [
    {
     "ename": "NameError",
     "evalue": "name 'xy' is not defined",
     "output_type": "error",
     "traceback": [
      "\u001b[0;31m---------------------------------------------------------------------------\u001b[0m",
      "\u001b[0;31mNameError\u001b[0m                                 Traceback (most recent call last)",
      "Cell \u001b[0;32mIn[116], line 1\u001b[0m\n\u001b[0;32m----> 1\u001b[0m xy\n",
      "\u001b[0;31mNameError\u001b[0m: name 'xy' is not defined"
     ]
    }
   ],
   "source": []
  },
  {
   "cell_type": "code",
   "execution_count": 124,
   "metadata": {},
   "outputs": [
    {
     "data": {
      "text/plain": [
       "array(0.31941931)"
      ]
     },
     "execution_count": 124,
     "metadata": {},
     "output_type": "execute_result"
    }
   ],
   "source": [
    "data = np.random.rand(10,10)\n",
    "\n",
    "x = np.linspace(0, 10, 10 + 2, dtype=np.float32)[1:-1]\n",
    "y = np.linspace(0, 10, 10 + 2, dtype=np.float32)[1:-1]\n",
    "\n",
    "interp = RegularGridInterpolator((x, y), data, bounds_error=False, fill_value=None)\n",
    "\n"
   ]
  },
  {
   "cell_type": "code",
   "execution_count": 2,
   "metadata": {},
   "outputs": [],
   "source": [
    "new_features = rec.new_features[\"1004-2022-12-14-13-14-14-c8a509b9\"]\n",
    "old_features = rec.all_features[\"1004-2022-12-14-13-14-14-c8a509b9\"]"
   ]
  },
  {
   "cell_type": "code",
   "execution_count": 3,
   "metadata": {},
   "outputs": [
    {
     "name": "stdout",
     "output_type": "stream",
     "text": [
      "[  897238.57960349    29299.4136557    -74354.60146731  -857659.02317561\n",
      "    11764.08889777   148864.78718239   259803.90381624   287929.26745059\n",
      " -1122009.76868973]\n",
      "[0.51631909 0.45102272 0.62906522 0.42964915 0.46481016 0.25257796\n",
      " 0.3764367  0.31030465 0.27330767]\n"
     ]
    }
   ],
   "source": [
    "print(new_features[10, 16:25])\n",
    "print(old_features[10, 16:25])"
   ]
  },
  {
   "cell_type": "code",
   "execution_count": null,
   "metadata": {},
   "outputs": [],
   "source": []
  }
 ],
 "metadata": {
  "kernelspec": {
   "display_name": "tom_py310",
   "language": "python",
   "name": "python3"
  },
  "language_info": {
   "codemirror_mode": {
    "name": "ipython",
    "version": 3
   },
   "file_extension": ".py",
   "mimetype": "text/x-python",
   "name": "python",
   "nbconvert_exporter": "python",
   "pygments_lexer": "ipython3",
   "version": "3.10.9"
  },
  "orig_nbformat": 4,
  "vscode": {
   "interpreter": {
    "hash": "feb805377acc0c3126af32ed46b7fdc97926b253a83f7d8d0e8455803270882f"
   }
  }
 },
 "nbformat": 4,
 "nbformat_minor": 2
}
