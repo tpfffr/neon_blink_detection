{
 "cells": [
  {
   "cell_type": "code",
   "execution_count": 1,
   "metadata": {},
   "outputs": [
    {
     "name": "stderr",
     "output_type": "stream",
     "text": [
      "/cluster/anaconda3/envs/tom_py310/lib/python3.10/site-packages/tqdm/auto.py:22: TqdmWarning: IProgress not found. Please update jupyter and ipywidgets. See https://ipywidgets.readthedocs.io/en/stable/user_install.html\n",
      "  from .autonotebook import tqdm as notebook_tqdm\n"
     ]
    },
    {
     "name": "stdout",
     "output_type": "stream",
     "text": [
      "\n",
      "Number of clips: 2\n"
     ]
    }
   ],
   "source": [
    "import sys \n",
    "from scipy.interpolate import RegularGridInterpolator\n",
    "\n",
    "\n",
    "sys.path.append(\"/users/tom/git/neon_blink_detection/\")\n",
    "sys.path.append(\"/users/tom/git/neon_blink_detection/src\")\n",
    "\n",
    "from src.features_calculator import create_grids\n",
    "import numpy as np\n",
    "\n",
    "from training.video_loader import video_loader\n",
    "from src.helper import OfParams, AugParams\n",
    "of_params = OfParams()\n",
    "aug_params = AugParams()\n",
    "\n",
    "clip_name = \"1322-2023-02-03-14-25-41-7883a14f\"\n",
    "\n",
    "of_params = OfParams(n_layers=3, layer_interval=7, average=False, img_shape=(64, 64), grid_size=15, step_size=5, window_size=11, stop_steps=3)\n",
    "\n",
    "rec = video_loader(of_params, aug_params)\n",
    "\n",
    "rec._load(clip_name, bg_ratio=3, augment=False)\n"
   ]
  },
  {
   "cell_type": "code",
   "execution_count": 168,
   "metadata": {},
   "outputs": [],
   "source": [
    "feature_array, all_timestamps, clip_transitions = rec._load_features(\n",
    "            clip_name, rec._of_params)\n",
    "\n",
    "# Add random sampling of some indicies\n",
    "\n",
    "n_clips = clip_transitions.shape[0] + 1\n",
    "clip_feature_array = np.split(feature_array, clip_transitions + 1, axis=0)\n",
    "clip_timestamps = np.split(all_timestamps, clip_transitions + 1, axis=0)\n",
    "\n",
    "# only take y direction\n",
    "feature_array = clip_feature_array[0][:, :, 1]\n",
    "timestamps = clip_timestamps[0]\n",
    "t = (timestamps - timestamps[0]) / 1e9\n",
    "\n",
    "of_left = np.reshape(feature_array[:, :400], (-1,20,20))\n",
    "of_right = np.reshape(feature_array[:, 400:], (-1,20,20))"
   ]
  },
  {
   "cell_type": "code",
   "execution_count": 146,
   "metadata": {},
   "outputs": [
    {
     "name": "stderr",
     "output_type": "stream",
     "text": [
      "deprecated pixel format used, make sure you did set range correctly\n",
      " (repeated 294857 more times)\n",
      "deprecated pixel format used, make sure you did set range correctly\n",
      "deprecated pixel format used, make sure you did set range correctly\n"
     ]
    },
    {
     "name": "stdout",
     "output_type": "stream",
     "text": [
      "Clip 1 of 2\r"
     ]
    },
    {
     "name": "stderr",
     "output_type": "stream",
     "text": [
      "deprecated pixel format used, make sure you did set range correctly\n",
      " (repeated 11834 more times)\n",
      "deprecated pixel format used, make sure you did set range correctly\n"
     ]
    },
    {
     "name": "stdout",
     "output_type": "stream",
     "text": [
      "Clip 2 of 2\r"
     ]
    },
    {
     "name": "stderr",
     "output_type": "stream",
     "text": [
      "deprecated pixel format used, make sure you did set range correctly\n",
      " (repeated 142145 more times)\n",
      "deprecated pixel format used, make sure you did set range correctly\n"
     ]
    }
   ],
   "source": [
    "timestamps, eye_left_images, eye_right_images = rec._get_frames(clip_name, convert_to_gray=True)\n",
    "\n",
    "t = (timestamps - timestamps[0]) / 1e9\n",
    "\n",
    "# where difference in frames is larger than 100 ms\n",
    "clip_transitions = np.where(np.diff(timestamps) > 1e8)[0]\n",
    "\n",
    "n_clips = clip_transitions.shape[0] + 1\n",
    "clip_left_images = np.split(eye_left_images, clip_transitions + 1)\n",
    "clip_right_images = np.split(eye_right_images, clip_transitions + 1)\n",
    "\n",
    "feature_array = []\n",
    "\n",
    "for iclip in range(0, n_clips):\n",
    "\n",
    "    clip_feature_array, grid = rec._compute_optical_flow(\n",
    "        of_params, clip_left_images[iclip], clip_right_images[iclip]\n",
    "    )\n",
    "\n",
    "    feature_array.append(clip_feature_array)\n",
    "\n",
    "feature_array = np.vstack(feature_array)"
   ]
  },
  {
   "cell_type": "code",
   "execution_count": 157,
   "metadata": {},
   "outputs": [],
   "source": [
    "feature_array = feature_array[:, :, 1]\n",
    "\n",
    "of_left = np.reshape(feature_array[:, :400], (-1,20,20))\n",
    "of_right = np.reshape(feature_array[:, 400:], (-1,20,20))"
   ]
  },
  {
   "cell_type": "code",
   "execution_count": 166,
   "metadata": {},
   "outputs": [
    {
     "data": {
      "text/plain": [
       "(3490, 800, 2)"
      ]
     },
     "execution_count": 166,
     "metadata": {},
     "output_type": "execute_result"
    }
   ],
   "source": [
    "feature_array, all_timestamps, clip_transitions = rec._load_features(\n",
    "            clip_name, rec._of_params)\n",
    "\n",
    "feature_array"
   ]
  },
  {
   "cell_type": "code",
   "execution_count": 291,
   "metadata": {},
   "outputs": [],
   "source": [
    "import typing as T\n",
    "\n",
    "def new_concatenate_features(\n",
    "    feature_array: np.ndarray, of_params: OfParams, indices: np.ndarray = None\n",
    ") -> np.ndarray:\n",
    "    \n",
    "    def get_layers(n, layer_interval):\n",
    "        return np.arange(-(n // 2), (n + 1) // 2) * layer_interval\n",
    "    \n",
    "    interp_left, interp_right = _create_interpolater(feature_array)\n",
    "    \n",
    "    layer_interval = of_params.layer_interval / 200 # sampling rate to convert to ms\n",
    "\n",
    "    n_frame = len(feature_array)\n",
    "\n",
    "    if indices is None:\n",
    "        indices = np.arange(n_frame) / 200\n",
    "\n",
    "    n_grids = of_params.grid_size * of_params.grid_size * 2\n",
    "    layers = get_layers(of_params.n_layers, layer_interval)\n",
    "\n",
    "    indices_layers = np.array([[indices + i] for i in layers]).reshape(len(layers), -1)\n",
    "    indices_layers = np.clip(indices_layers, 0, len(feature_array) - 1)\n",
    "\n",
    "    features_left = np.concatenate([interpolate_spacetime(interp_left, indices, grid_size=of_params.grid_size).reshape(-1, of_params.grid_size**2) for indices in indices_layers], axis=-1)\n",
    "\n",
    "    features_right = np.concatenate([interpolate_spacetime(interp_right, indices, grid_size=of_params.grid_size).reshape(-1, of_params.grid_size**2) for indices in indices_layers], axis=-1)\n",
    "\n",
    "    return np.concatenate((features_left, features_right), axis=-1)\n",
    "\n",
    "def _create_interpolater(feature_array: np.ndarray, grid_size=20):\n",
    "\n",
    "    length = grid_size ** 2\n",
    "\n",
    "    of_left = np.reshape(feature_array[:, :length], (-1, grid_size, grid_size))\n",
    "    of_right = np.reshape(feature_array[:, length:], (-1, grid_size, grid_size))\n",
    "\n",
    "    x = np.linspace(0, 64, grid_size, dtype=np.float32)\n",
    "    y = np.linspace(0, 64, grid_size, dtype=np.float32)\n",
    "\n",
    "    interpolator_left = RegularGridInterpolator((t, x, y), of_left, bounds_error=False, fill_value=None, method=\"linear\")\n",
    "    \n",
    "    interpolator_right = RegularGridInterpolator((t, x, y), of_right, bounds_error=False, fill_value=None, method=\"linear\")\n",
    "\n",
    "    return interpolator_left, interpolator_right\n",
    "\n",
    "\n",
    "def interpolate_spacetime(interpolator, time_points: T.List[int], grid_size: int, augmentation: T.Dict[str, int] = None):\n",
    "    \n",
    "    x = np.linspace(0, 64, grid_size + 2, dtype=np.float32)[1:-1]\n",
    "    y = np.linspace(0, 64, grid_size + 2, dtype=np.float32)[1:-1]\n",
    "\n",
    "    tt, xx, yy = np.meshgrid(time_points, x, y)\n",
    "\n",
    "    txy_grid = np.concatenate((tt.reshape(-1, 1), xx.reshape(-1, 1), yy.reshape(-1, 1)), axis=1)\n",
    "\n",
    "    if augmentation is not None:\n",
    "\n",
    "        augm_params = get_augmentation_pars()\n",
    "\n",
    "        grid_trans = np.zeros_like(txy_grid)\n",
    "\n",
    "        grid_trans = txy_grid[:, 0]\n",
    "        grid_trans[:, 1:] = (augm_params[\"linear_distort\"] @ (augm_params[\"scale\"] * (txy_grid[:, 1:] - 32.)).T).T + 32 + augm_params[\"translation\"]\n",
    "\n",
    "        txy_grid = grid_trans\n",
    "    \n",
    "    return interpolator(txy_grid).reshape(grid_size, len(time_points), grid_size).transpose(1, 0, 2)\n",
    "    \n",
    "def get_augmentation_pars(n_augmentations):\n",
    "    \n",
    "    augmentation_params = {}\n",
    "    \n",
    "    std_speed = 0.2\n",
    "    std_translation = 3\n",
    "    std_scale = 0.15\n",
    "    std_linear = 0.03\n",
    "    \n",
    "    augmentation_params[\"speed\"] = np.random.normal(1, std_speed, n_augmentations)\n",
    "    augmentation_params[\"translation\"] = np.random.normal(0, std_translation, (n_augmentations, 2))\n",
    "    augmentation_params[\"scale\"] = np.random.normal(1, std_scale, n_augmentations)\n",
    "    augmentation_params[\"linear_distort\"] = np.squeeze(np.dstack([np.eye(2)]*n_augmentations) + np.random.normal(0, std_linear, (2, 2, n_augmentations)))\n",
    "    \n",
    "    return augmentation_params\n"
   ]
  },
  {
   "cell_type": "code",
   "execution_count": 292,
   "metadata": {},
   "outputs": [
    {
     "data": {
      "text/plain": [
       "array(1.15027843)"
      ]
     },
     "execution_count": 292,
     "metadata": {},
     "output_type": "execute_result"
    }
   ],
   "source": [
    "get_augmentation_pars(1)[\"scale\"]"
   ]
  },
  {
   "attachments": {},
   "cell_type": "markdown",
   "metadata": {},
   "source": [
    "**Interpolate to 50x50 grid for 3 points in time**"
   ]
  },
  {
   "attachments": {},
   "cell_type": "markdown",
   "metadata": {},
   "source": [
    "*Plot result*"
   ]
  },
  {
   "cell_type": "code",
   "execution_count": 235,
   "metadata": {},
   "outputs": [
    {
     "ename": "KeyboardInterrupt",
     "evalue": "",
     "output_type": "error",
     "traceback": [
      "\u001b[0;31m---------------------------------------------------------------------------\u001b[0m",
      "\u001b[0;31mKeyboardInterrupt\u001b[0m                         Traceback (most recent call last)",
      "Cell \u001b[0;32mIn[235], line 19\u001b[0m\n\u001b[1;32m     16\u001b[0m p_grid_trans \u001b[39m=\u001b[39m np\u001b[39m.\u001b[39mempty_like(p_grid)\n\u001b[1;32m     17\u001b[0m p_grid_trans \u001b[39m=\u001b[39m (linear_distort \u001b[39m@\u001b[39m (scale \u001b[39m*\u001b[39m (p_grid \u001b[39m-\u001b[39m \u001b[39m32.\u001b[39m))\u001b[39m.\u001b[39mT)\u001b[39m.\u001b[39mT \u001b[39m+\u001b[39m \u001b[39m32\u001b[39m \u001b[39m+\u001b[39m translation\n\u001b[0;32m---> 19\u001b[0m of_interp \u001b[39m=\u001b[39m interpolate_spacetime(interp_left, t, grid_size\u001b[39m=\u001b[39;49m\u001b[39m20\u001b[39;49m, x\u001b[39m=\u001b[39;49mp_grid_trans[:, \u001b[39m0\u001b[39;49m], y\u001b[39m=\u001b[39;49mp_grid_trans[:, \u001b[39m1\u001b[39;49m])\n\u001b[1;32m     22\u001b[0m ax[\u001b[39m1\u001b[39m]\u001b[39m.\u001b[39mimshow(of_interp[\u001b[39m5\u001b[39m, :, :])\n\u001b[1;32m     23\u001b[0m ax[\u001b[39m1\u001b[39m]\u001b[39m.\u001b[39mset_title(\u001b[39m\"\u001b[39m\u001b[39mDistorted\u001b[39m\u001b[39m\"\u001b[39m)\n",
      "Cell \u001b[0;32mIn[234], line 58\u001b[0m, in \u001b[0;36minterpolate_spacetime\u001b[0;34m(interpolator, time_points, grid_size, x, y)\u001b[0m\n\u001b[1;32m     54\u001b[0m tt, xx, yy \u001b[39m=\u001b[39m np\u001b[39m.\u001b[39mmeshgrid(time_points, x, y)\n\u001b[1;32m     56\u001b[0m txy_grid \u001b[39m=\u001b[39m np\u001b[39m.\u001b[39mconcatenate((tt\u001b[39m.\u001b[39mreshape(\u001b[39m-\u001b[39m\u001b[39m1\u001b[39m, \u001b[39m1\u001b[39m), xx\u001b[39m.\u001b[39mreshape(\u001b[39m-\u001b[39m\u001b[39m1\u001b[39m, \u001b[39m1\u001b[39m), yy\u001b[39m.\u001b[39mreshape(\u001b[39m-\u001b[39m\u001b[39m1\u001b[39m, \u001b[39m1\u001b[39m)), axis\u001b[39m=\u001b[39m\u001b[39m1\u001b[39m)\n\u001b[0;32m---> 58\u001b[0m \u001b[39mreturn\u001b[39;00m interpolator(txy_grid)\u001b[39m.\u001b[39mreshape(grid_size, \u001b[39mlen\u001b[39m(time_points), grid_size)\u001b[39m.\u001b[39mtranspose(\u001b[39m1\u001b[39m, \u001b[39m0\u001b[39m, \u001b[39m2\u001b[39m)\n",
      "File \u001b[0;32m/cluster/anaconda3/envs/tom_py310/lib/python3.10/site-packages/scipy/interpolate/_rgi.py:331\u001b[0m, in \u001b[0;36mRegularGridInterpolator.__call__\u001b[0;34m(self, xi, method)\u001b[0m\n\u001b[1;32m    328\u001b[0m xi, xi_shape, ndim, nans, out_of_bounds \u001b[39m=\u001b[39m \u001b[39mself\u001b[39m\u001b[39m.\u001b[39m_prepare_xi(xi)\n\u001b[1;32m    330\u001b[0m \u001b[39mif\u001b[39;00m method \u001b[39m==\u001b[39m \u001b[39m\"\u001b[39m\u001b[39mlinear\u001b[39m\u001b[39m\"\u001b[39m:\n\u001b[0;32m--> 331\u001b[0m     indices, norm_distances \u001b[39m=\u001b[39m \u001b[39mself\u001b[39;49m\u001b[39m.\u001b[39;49m_find_indices(xi\u001b[39m.\u001b[39;49mT)\n\u001b[1;32m    332\u001b[0m     \u001b[39mif\u001b[39;00m (ndim \u001b[39m==\u001b[39m \u001b[39m2\u001b[39m \u001b[39mand\u001b[39;00m \u001b[39mhasattr\u001b[39m(\u001b[39mself\u001b[39m\u001b[39m.\u001b[39mvalues, \u001b[39m'\u001b[39m\u001b[39mdtype\u001b[39m\u001b[39m'\u001b[39m) \u001b[39mand\u001b[39;00m\n\u001b[1;32m    333\u001b[0m             \u001b[39mself\u001b[39m\u001b[39m.\u001b[39mvalues\u001b[39m.\u001b[39mndim \u001b[39m==\u001b[39m \u001b[39m2\u001b[39m):\n\u001b[1;32m    334\u001b[0m         \u001b[39m# a fast path\u001b[39;00m\n\u001b[1;32m    335\u001b[0m         out \u001b[39m=\u001b[39m np\u001b[39m.\u001b[39mempty(indices\u001b[39m.\u001b[39mshape[\u001b[39m1\u001b[39m], dtype\u001b[39m=\u001b[39m\u001b[39mself\u001b[39m\u001b[39m.\u001b[39mvalues\u001b[39m.\u001b[39mdtype)\n",
      "File \u001b[0;32m/cluster/anaconda3/envs/tom_py310/lib/python3.10/site-packages/scipy/interpolate/_rgi.py:499\u001b[0m, in \u001b[0;36mRegularGridInterpolator._find_indices\u001b[0;34m(self, xi)\u001b[0m\n\u001b[1;32m    498\u001b[0m \u001b[39mdef\u001b[39;00m \u001b[39m_find_indices\u001b[39m(\u001b[39mself\u001b[39m, xi):\n\u001b[0;32m--> 499\u001b[0m     \u001b[39mreturn\u001b[39;00m find_indices(\u001b[39mself\u001b[39;49m\u001b[39m.\u001b[39;49mgrid, xi)\n",
      "File \u001b[0;32m_rgi_cython.pyx:88\u001b[0m, in \u001b[0;36mscipy.interpolate._rgi_cython.find_indices\u001b[0;34m()\u001b[0m\n",
      "File \u001b[0;32m<__array_function__ internals>:180\u001b[0m, in \u001b[0;36mempty_like\u001b[0;34m(*args, **kwargs)\u001b[0m\n",
      "\u001b[0;31mKeyboardInterrupt\u001b[0m: "
     ]
    },
    {
     "data": {
      "image/png": "[encoded data removed]",
      "text/plain": [
       "<Figure size 1000x500 with 2 Axes>"
      ]
     },
     "metadata": {},
     "output_type": "display_data"
    }
   ],
   "source": [
    "import matplotlib.pyplot as plt\n",
    "\n",
    "interp_left, interp_right = _create_interpolater(feature_array)\n",
    "\n",
    "of_interp = interpolate_spacetime(interp_left, t, grid_size=20)\n",
    "\n",
    "f, ax = plt.subplots(1, 2, figsize=(10, 5))\n",
    "\n",
    "ax[0].imshow(of_interp[5,:, :])\n",
    "ax[0].set_title(\"Interpolated\")\n",
    "                \n",
    "\n",
    "augm_params = get_augmentation_pars()\n",
    "\n",
    "p_grid = create_grids((64,64), 20 + 2, full_grid=False) \n",
    "p_grid_trans = np.empty_like(p_grid)\n",
    "p_grid_trans = (linear_distort @ (scale * (p_grid - 32.)).T).T + 32 + translation\n",
    "\n",
    "of_interp = interpolate_spacetime(interp_left, t, grid_size=20, x=p_grid_trans[:, 0], y=p_grid_trans[:, 1])\n",
    "\n",
    "\n",
    "ax[1].imshow(of_interp[5, :, :])\n",
    "ax[1].set_title(\"Distorted\")\n",
    "\n"
   ]
  },
  {
   "cell_type": "code",
   "execution_count": 248,
   "metadata": {},
   "outputs": [],
   "source": [
    "x = np.linspace(0, 64, 20 + 2, dtype=np.float32)[1:-1]\n",
    "y = np.linspace(0, 64, 20 + 2, dtype=np.float32)[1:-1]\n",
    "\n",
    "tt, xx, yy = np.meshgrid(t, x, y)\n",
    "\n",
    "txy_grid = np.concatenate((tt.reshape(-1, 1), xx.reshape(-1, 1), yy.reshape(-1, 1)), axis=1)"
   ]
  },
  {
   "cell_type": "code",
   "execution_count": 249,
   "metadata": {},
   "outputs": [
    {
     "data": {
      "text/plain": [
       "(223200, 3)"
      ]
     },
     "execution_count": 249,
     "metadata": {},
     "output_type": "execute_result"
    }
   ],
   "source": [
    "txy_grid.shape"
   ]
  },
  {
   "cell_type": "code",
   "execution_count": 261,
   "metadata": {},
   "outputs": [
    {
     "name": "stdout",
     "output_type": "stream",
     "text": [
      "{'speed': 0.6138818451458874, 'translation': array([ 1.20328568, -3.54200285]), 'scale': 1.0016356215375843, 'linear_distort': array([[ 1.05412514, -0.0731985 ],\n",
      "       [ 0.00287418,  0.99703526]])}\n"
     ]
    },
    {
     "data": {
      "image/png": "[encoded data removed]",
      "text/plain": [
       "<Figure size 500x500 with 1 Axes>"
      ]
     },
     "metadata": {},
     "output_type": "display_data"
    }
   ],
   "source": [
    "\n",
    "\n",
    "t_trans = augm_params[\"speed\"] * t\n",
    "\n",
    "fig = plt.figure(figsize=(5,5))\n",
    "plt.plot(p_grid[:,0], p_grid[:,1],'o')\n",
    "plt.plot(p_grid_trans[:,0], p_grid_trans[:,1],'gD')\n",
    "\n",
    "print(augm_params)\n",
    "\n"
   ]
  },
  {
   "cell_type": "code",
   "execution_count": 2,
   "metadata": {},
   "outputs": [
    {
     "name": "stdout",
     "output_type": "stream",
     "text": [
      "\n",
      "Number of clips: 2\n"
     ]
    }
   ],
   "source": [
    "import matplotlib.pyplot as plt\n",
    "\n",
    "\n",
    "from src.features_calculator import (\n",
    "    new_concatenate_features,\n",
    "    get_augmentation_pars,\n",
    ")\n",
    "\n",
    "feature_array, all_timestamps, clip_transitions = rec._load_features(\n",
    "            clip_name, rec._of_params)\n",
    "\n",
    "# Add random sampling of some indicies\n",
    "\n",
    "n_clips = clip_transitions.shape[0] + 1\n",
    "clip_feature_array = np.split(feature_array, clip_transitions + 1, axis=0)\n",
    "clip_timestamps = np.split(all_timestamps, clip_transitions + 1, axis=0)\n"
   ]
  },
  {
   "cell_type": "code",
   "execution_count": 116,
   "metadata": {},
   "outputs": [
    {
     "data": {
      "text/plain": [
       "<matplotlib.image.AxesImage at 0x7f85ff230700>"
      ]
     },
     "execution_count": 116,
     "metadata": {},
     "output_type": "execute_result"
    },
    {
     "data": {
      "image/png": "[encoded data removed]",
      "text/plain": [
       "<Figure size 1000x500 with 4 Axes>"
      ]
     },
     "metadata": {},
     "output_type": "display_data"
    }
   ],
   "source": [
    "all_times = (all_timestamps[0:10000] - all_timestamps[0]) / 1e9 \n",
    "indc_times = [2, 500, 1000, 2000, 5000, 10000]\n",
    "\n",
    "aug_params = get_augmentation_pars()\n",
    "aug_params[\"speed\"] = 1\n",
    "aug_params[\"translation\"] = np.zeros((1, 2))\n",
    "aug_params[\"scale\"] = 1\n",
    "aug_params[\"linear_distort\"] = np.eye(2)\n",
    "\n",
    "aug_feat = new_concatenate_features(\n",
    "    feature_array[0:10000],\n",
    "    rec._of_params,\n",
    "    all_times,\n",
    "    indc_times[0],\n",
    "    aug_params,\n",
    ")\n",
    "\n",
    "left = aug_feat[0, :675].reshape(3, 15, 15)\n",
    "right = aug_feat[0, 675:].reshape(3, 15, 15)\n",
    "\n",
    "\n",
    "aug_params = get_augmentation_pars()\n",
    "aug_params[\"speed\"] = 1\n",
    "aug_params[\"translation\"] = [0, 0]\n",
    "aug_params[\"scale\"] = 1\n",
    "\n",
    "\n",
    "aug_params[\"linear_distort\"] = np.eye(2) + [[0, 0], [0, 0]]\n",
    "\n",
    "aug_feat = new_concatenate_features(\n",
    "    feature_array[0:10000],\n",
    "    rec._of_params,\n",
    "    all_times,\n",
    "    indc_times[0],\n",
    "    aug_params,\n",
    ")\n",
    "\n",
    "left_aug = aug_feat[0, :675].reshape(3, 15, 15)\n",
    "right_aug = aug_feat[0, 675:].reshape(3, 15, 15)\n",
    "\n",
    "\n",
    "f, ax = plt.subplots(2, 2, figsize=(10, 5))\n",
    "\n",
    "ax[0, 0].imshow(left[0, :, :], vmin=-3, vmax=1)\n",
    "ax[0, 1].imshow(right[0, :, :], vmin=-3, vmax=1)\n",
    "ax[1, 0].imshow(left_aug[0, :, :], vmin=-3, vmax=1)\n",
    "ax[1, 1].imshow(right_aug[0, :, :], vmin=-3, vmax=1)"
   ]
  },
  {
   "cell_type": "code",
   "execution_count": 44,
   "metadata": {},
   "outputs": [
    {
     "data": {
      "text/plain": [
       "(3490, 800, 2)"
      ]
     },
     "execution_count": 44,
     "metadata": {},
     "output_type": "execute_result"
    }
   ],
   "source": [
    "feature_array[]\n"
   ]
  },
  {
   "cell_type": "code",
   "execution_count": 32,
   "metadata": {},
   "outputs": [],
   "source": [
    "of_left = np.zeros([3490, 20, 20, 2])\n",
    "of_left[:, 6:14, 6:14, :] = 1\n",
    "\n",
    "of_right = np.zeros([3490, 20, 20, 2])\n",
    "of_right[:, 6:14, 6:14, :] = 1\n",
    "\n",
    "of_left = of_left.reshape(-1, 20*20, 2)\n",
    "of_right = of_right.reshape(-1, 20*20, 2)\n",
    "\n",
    "feature_array = np.concatenate((of_left, of_right), axis=1)"
   ]
  },
  {
   "cell_type": "code",
   "execution_count": 33,
   "metadata": {},
   "outputs": [
    {
     "data": {
      "text/plain": [
       "(3490, 800, 2)"
      ]
     },
     "execution_count": 33,
     "metadata": {},
     "output_type": "execute_result"
    }
   ],
   "source": [
    "feature_array.shape"
   ]
  },
  {
   "cell_type": "code",
   "execution_count": null,
   "metadata": {},
   "outputs": [],
   "source": []
  }
 ],
 "metadata": {
  "kernelspec": {
   "display_name": "tom_py310",
   "language": "python",
   "name": "python3"
  },
  "language_info": {
   "codemirror_mode": {
    "name": "ipython",
    "version": 3
   },
   "file_extension": ".py",
   "mimetype": "text/x-python",
   "name": "python",
   "nbconvert_exporter": "python",
   "pygments_lexer": "ipython3",
   "version": "3.10.9"
  },
  "orig_nbformat": 4,
  "vscode": {
   "interpreter": {
    "hash": "feb805377acc0c3126af32ed46b7fdc97926b253a83f7d8d0e8455803270882f"
   }
  }
 },
 "nbformat": 4,
 "nbformat_minor": 2
}
