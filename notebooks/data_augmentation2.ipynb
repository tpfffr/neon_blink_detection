{
 "cells": [
  {
   "cell_type": "code",
   "execution_count": 6,
   "metadata": {},
   "outputs": [
    {
     "name": "stdout",
     "output_type": "stream",
     "text": [
      "\n",
      "Number of clips: 2\n"
     ]
    }
   ],
   "source": [
    "import sys \n",
    "from scipy.interpolate import RegularGridInterpolator\n",
    "\n",
    "\n",
    "sys.path.append(\"/users/tom/git/neon_blink_detection/\")\n",
    "sys.path.append(\"/users/tom/git/neon_blink_detection/src\")\n",
    "\n",
    "from src.features_calculator import create_grids\n",
    "import numpy as np\n",
    "\n",
    "from training.video_loader import video_loader\n",
    "from src.helper import OfParams, AugParams\n",
    "of_params = OfParams()\n",
    "aug_params = AugParams()\n",
    "\n",
    "clip_name = \"1322-2023-02-03-14-25-41-7883a14f\"\n",
    "\n",
    "of_params = OfParams(n_layers=3, layer_interval=7, average=False, img_shape=(64, 64), grid_size=15, step_size=5, window_size=11, stop_steps=3)\n",
    "\n",
    "rec = video_loader(of_params, aug_params)\n",
    "\n",
    "rec._load(clip_name, bg_ratio=3, augment=False)\n"
   ]
  },
  {
   "cell_type": "code",
   "execution_count": 168,
   "metadata": {},
   "outputs": [],
   "source": [
    "feature_array, all_timestamps, clip_transitions = rec._load_features(\n",
    "            clip_name, rec._of_params)\n",
    "\n",
    "# Add random sampling of some indicies\n",
    "\n",
    "n_clips = clip_transitions.shape[0] + 1\n",
    "clip_feature_array = np.split(feature_array, clip_transitions + 1, axis=0)\n",
    "clip_timestamps = np.split(all_timestamps, clip_transitions + 1, axis=0)\n",
    "\n",
    "# only take y direction\n",
    "feature_array = clip_feature_array[0][:, :, 1]\n",
    "timestamps = clip_timestamps[0]\n",
    "t = (timestamps - timestamps[0]) / 1e9\n",
    "\n",
    "of_left = np.reshape(feature_array[:, :400], (-1,20,20))\n",
    "of_right = np.reshape(feature_array[:, 400:], (-1,20,20))"
   ]
  },
  {
   "cell_type": "code",
   "execution_count": 146,
   "metadata": {},
   "outputs": [
    {
     "name": "stderr",
     "output_type": "stream",
     "text": [
      "deprecated pixel format used, make sure you did set range correctly\n",
      " (repeated 294857 more times)\n",
      "deprecated pixel format used, make sure you did set range correctly\n",
      "deprecated pixel format used, make sure you did set range correctly\n"
     ]
    },
    {
     "name": "stdout",
     "output_type": "stream",
     "text": [
      "Clip 1 of 2\r"
     ]
    },
    {
     "name": "stderr",
     "output_type": "stream",
     "text": [
      "deprecated pixel format used, make sure you did set range correctly\n",
      " (repeated 11834 more times)\n",
      "deprecated pixel format used, make sure you did set range correctly\n"
     ]
    },
    {
     "name": "stdout",
     "output_type": "stream",
     "text": [
      "Clip 2 of 2\r"
     ]
    },
    {
     "name": "stderr",
     "output_type": "stream",
     "text": [
      "deprecated pixel format used, make sure you did set range correctly\n",
      " (repeated 142145 more times)\n",
      "deprecated pixel format used, make sure you did set range correctly\n"
     ]
    }
   ],
   "source": [
    "timestamps, eye_left_images, eye_right_images = rec._get_frames(clip_name, convert_to_gray=True)\n",
    "\n",
    "t = (timestamps - timestamps[0]) / 1e9\n",
    "\n",
    "# where difference in frames is larger than 100 ms\n",
    "clip_transitions = np.where(np.diff(timestamps) > 1e8)[0]\n",
    "\n",
    "n_clips = clip_transitions.shape[0] + 1\n",
    "clip_left_images = np.split(eye_left_images, clip_transitions + 1)\n",
    "clip_right_images = np.split(eye_right_images, clip_transitions + 1)\n",
    "\n",
    "feature_array = []\n",
    "\n",
    "for iclip in range(0, n_clips):\n",
    "\n",
    "    clip_feature_array, grid = rec._compute_optical_flow(\n",
    "        of_params, clip_left_images[iclip], clip_right_images[iclip]\n",
    "    )\n",
    "\n",
    "    feature_array.append(clip_feature_array)\n",
    "\n",
    "feature_array = np.vstack(feature_array)"
   ]
  },
  {
   "cell_type": "code",
   "execution_count": 157,
   "metadata": {},
   "outputs": [],
   "source": [
    "feature_array = feature_array[:, :, 1]\n",
    "\n",
    "of_left = np.reshape(feature_array[:, :400], (-1,20,20))\n",
    "of_right = np.reshape(feature_array[:, 400:], (-1,20,20))"
   ]
  },
  {
   "cell_type": "code",
   "execution_count": 166,
   "metadata": {},
   "outputs": [
    {
     "data": {
      "text/plain": [
       "(3490, 800, 2)"
      ]
     },
     "execution_count": 166,
     "metadata": {},
     "output_type": "execute_result"
    }
   ],
   "source": [
    "feature_array, all_timestamps, clip_transitions = rec._load_features(\n",
    "            clip_name, rec._of_params)\n",
    "\n",
    "feature_array"
   ]
  },
  {
   "cell_type": "code",
   "execution_count": 291,
   "metadata": {},
   "outputs": [],
   "source": [
    "import typing as T\n",
    "\n",
    "def new_concatenate_features(\n",
    "    feature_array: np.ndarray, of_params: OfParams, indices: np.ndarray = None\n",
    ") -> np.ndarray:\n",
    "    \n",
    "    def get_layers(n, layer_interval):\n",
    "        return np.arange(-(n // 2), (n + 1) // 2) * layer_interval\n",
    "    \n",
    "    interp_left, interp_right = _create_interpolater(feature_array)\n",
    "    \n",
    "    layer_interval = of_params.layer_interval / 200 # sampling rate to convert to ms\n",
    "\n",
    "    n_frame = len(feature_array)\n",
    "\n",
    "    if indices is None:\n",
    "        indices = np.arange(n_frame) / 200\n",
    "\n",
    "    n_grids = of_params.grid_size * of_params.grid_size * 2\n",
    "    layers = get_layers(of_params.n_layers, layer_interval)\n",
    "\n",
    "    indices_layers = np.array([[indices + i] for i in layers]).reshape(len(layers), -1)\n",
    "    indices_layers = np.clip(indices_layers, 0, len(feature_array) - 1)\n",
    "\n",
    "    features_left = np.concatenate([interpolate_spacetime(interp_left, indices, grid_size=of_params.grid_size).reshape(-1, of_params.grid_size**2) for indices in indices_layers], axis=-1)\n",
    "\n",
    "    features_right = np.concatenate([interpolate_spacetime(interp_right, indices, grid_size=of_params.grid_size).reshape(-1, of_params.grid_size**2) for indices in indices_layers], axis=-1)\n",
    "\n",
    "    return np.concatenate((features_left, features_right), axis=-1)\n",
    "\n",
    "def _create_interpolater(feature_array: np.ndarray, grid_size=20):\n",
    "\n",
    "    length = grid_size ** 2\n",
    "\n",
    "    of_left = np.reshape(feature_array[:, :length], (-1, grid_size, grid_size))\n",
    "    of_right = np.reshape(feature_array[:, length:], (-1, grid_size, grid_size))\n",
    "\n",
    "    x = np.linspace(0, 64, grid_size, dtype=np.float32)\n",
    "    y = np.linspace(0, 64, grid_size, dtype=np.float32)\n",
    "\n",
    "    interpolator_left = RegularGridInterpolator((t, x, y), of_left, bounds_error=False, fill_value=None, method=\"linear\")\n",
    "    \n",
    "    interpolator_right = RegularGridInterpolator((t, x, y), of_right, bounds_error=False, fill_value=None, method=\"linear\")\n",
    "\n",
    "    return interpolator_left, interpolator_right\n",
    "\n",
    "\n",
    "def interpolate_spacetime(interpolator, time_points: T.List[int], grid_size: int, augmentation: T.Dict[str, int] = None):\n",
    "    \n",
    "    x = np.linspace(0, 64, grid_size + 2, dtype=np.float32)[1:-1]\n",
    "    y = np.linspace(0, 64, grid_size + 2, dtype=np.float32)[1:-1]\n",
    "\n",
    "    tt, xx, yy = np.meshgrid(time_points, x, y)\n",
    "\n",
    "    txy_grid = np.concatenate((tt.reshape(-1, 1), xx.reshape(-1, 1), yy.reshape(-1, 1)), axis=1)\n",
    "\n",
    "    if augmentation is not None:\n",
    "\n",
    "        augm_params = get_augmentation_pars()\n",
    "\n",
    "        grid_trans = np.zeros_like(txy_grid)\n",
    "\n",
    "        grid_trans = txy_grid[:, 0]\n",
    "        grid_trans[:, 1:] = (augm_params[\"linear_distort\"] @ (augm_params[\"scale\"] * (txy_grid[:, 1:] - 32.)).T).T + 32 + augm_params[\"translation\"]\n",
    "\n",
    "        txy_grid = grid_trans\n",
    "    \n",
    "    return interpolator(txy_grid).reshape(grid_size, len(time_points), grid_size).transpose(1, 0, 2)\n",
    "    \n",
    "def get_augmentation_pars(n_augmentations):\n",
    "    \n",
    "    augmentation_params = {}\n",
    "    \n",
    "    std_speed = 0.2\n",
    "    std_translation = 3\n",
    "    std_scale = 0.15\n",
    "    std_linear = 0.03\n",
    "    \n",
    "    augmentation_params[\"speed\"] = np.random.normal(1, std_speed, n_augmentations)\n",
    "    augmentation_params[\"translation\"] = np.random.normal(0, std_translation, (n_augmentations, 2))\n",
    "    augmentation_params[\"scale\"] = np.random.normal(1, std_scale, n_augmentations)\n",
    "    augmentation_params[\"linear_distort\"] = np.squeeze(np.dstack([np.eye(2)]*n_augmentations) + np.random.normal(0, std_linear, (2, 2, n_augmentations)))\n",
    "    \n",
    "    return augmentation_params\n"
   ]
  },
  {
   "cell_type": "code",
   "execution_count": 292,
   "metadata": {},
   "outputs": [
    {
     "data": {
      "text/plain": [
       "array(1.15027843)"
      ]
     },
     "execution_count": 292,
     "metadata": {},
     "output_type": "execute_result"
    }
   ],
   "source": [
    "get_augmentation_pars(1)[\"scale\"]"
   ]
  },
  {
   "attachments": {},
   "cell_type": "markdown",
   "metadata": {},
   "source": [
    "**Interpolate to 50x50 grid for 3 points in time**"
   ]
  },
  {
   "attachments": {},
   "cell_type": "markdown",
   "metadata": {},
   "source": [
    "*Plot result*"
   ]
  },
  {
   "cell_type": "code",
   "execution_count": 235,
   "metadata": {},
   "outputs": [
    {
     "ename": "KeyboardInterrupt",
     "evalue": "",
     "output_type": "error",
     "traceback": [
      "\u001b[0;31m---------------------------------------------------------------------------\u001b[0m",
      "\u001b[0;31mKeyboardInterrupt\u001b[0m                         Traceback (most recent call last)",
      "Cell \u001b[0;32mIn[235], line 19\u001b[0m\n\u001b[1;32m     16\u001b[0m p_grid_trans \u001b[39m=\u001b[39m np\u001b[39m.\u001b[39mempty_like(p_grid)\n\u001b[1;32m     17\u001b[0m p_grid_trans \u001b[39m=\u001b[39m (linear_distort \u001b[39m@\u001b[39m (scale \u001b[39m*\u001b[39m (p_grid \u001b[39m-\u001b[39m \u001b[39m32.\u001b[39m))\u001b[39m.\u001b[39mT)\u001b[39m.\u001b[39mT \u001b[39m+\u001b[39m \u001b[39m32\u001b[39m \u001b[39m+\u001b[39m translation\n\u001b[0;32m---> 19\u001b[0m of_interp \u001b[39m=\u001b[39m interpolate_spacetime(interp_left, t, grid_size\u001b[39m=\u001b[39;49m\u001b[39m20\u001b[39;49m, x\u001b[39m=\u001b[39;49mp_grid_trans[:, \u001b[39m0\u001b[39;49m], y\u001b[39m=\u001b[39;49mp_grid_trans[:, \u001b[39m1\u001b[39;49m])\n\u001b[1;32m     22\u001b[0m ax[\u001b[39m1\u001b[39m]\u001b[39m.\u001b[39mimshow(of_interp[\u001b[39m5\u001b[39m, :, :])\n\u001b[1;32m     23\u001b[0m ax[\u001b[39m1\u001b[39m]\u001b[39m.\u001b[39mset_title(\u001b[39m\"\u001b[39m\u001b[39mDistorted\u001b[39m\u001b[39m\"\u001b[39m)\n",
      "Cell \u001b[0;32mIn[234], line 58\u001b[0m, in \u001b[0;36minterpolate_spacetime\u001b[0;34m(interpolator, time_points, grid_size, x, y)\u001b[0m\n\u001b[1;32m     54\u001b[0m tt, xx, yy \u001b[39m=\u001b[39m np\u001b[39m.\u001b[39mmeshgrid(time_points, x, y)\n\u001b[1;32m     56\u001b[0m txy_grid \u001b[39m=\u001b[39m np\u001b[39m.\u001b[39mconcatenate((tt\u001b[39m.\u001b[39mreshape(\u001b[39m-\u001b[39m\u001b[39m1\u001b[39m, \u001b[39m1\u001b[39m), xx\u001b[39m.\u001b[39mreshape(\u001b[39m-\u001b[39m\u001b[39m1\u001b[39m, \u001b[39m1\u001b[39m), yy\u001b[39m.\u001b[39mreshape(\u001b[39m-\u001b[39m\u001b[39m1\u001b[39m, \u001b[39m1\u001b[39m)), axis\u001b[39m=\u001b[39m\u001b[39m1\u001b[39m)\n\u001b[0;32m---> 58\u001b[0m \u001b[39mreturn\u001b[39;00m interpolator(txy_grid)\u001b[39m.\u001b[39mreshape(grid_size, \u001b[39mlen\u001b[39m(time_points), grid_size)\u001b[39m.\u001b[39mtranspose(\u001b[39m1\u001b[39m, \u001b[39m0\u001b[39m, \u001b[39m2\u001b[39m)\n",
      "File \u001b[0;32m/cluster/anaconda3/envs/tom_py310/lib/python3.10/site-packages/scipy/interpolate/_rgi.py:331\u001b[0m, in \u001b[0;36mRegularGridInterpolator.__call__\u001b[0;34m(self, xi, method)\u001b[0m\n\u001b[1;32m    328\u001b[0m xi, xi_shape, ndim, nans, out_of_bounds \u001b[39m=\u001b[39m \u001b[39mself\u001b[39m\u001b[39m.\u001b[39m_prepare_xi(xi)\n\u001b[1;32m    330\u001b[0m \u001b[39mif\u001b[39;00m method \u001b[39m==\u001b[39m \u001b[39m\"\u001b[39m\u001b[39mlinear\u001b[39m\u001b[39m\"\u001b[39m:\n\u001b[0;32m--> 331\u001b[0m     indices, norm_distances \u001b[39m=\u001b[39m \u001b[39mself\u001b[39;49m\u001b[39m.\u001b[39;49m_find_indices(xi\u001b[39m.\u001b[39;49mT)\n\u001b[1;32m    332\u001b[0m     \u001b[39mif\u001b[39;00m (ndim \u001b[39m==\u001b[39m \u001b[39m2\u001b[39m \u001b[39mand\u001b[39;00m \u001b[39mhasattr\u001b[39m(\u001b[39mself\u001b[39m\u001b[39m.\u001b[39mvalues, \u001b[39m'\u001b[39m\u001b[39mdtype\u001b[39m\u001b[39m'\u001b[39m) \u001b[39mand\u001b[39;00m\n\u001b[1;32m    333\u001b[0m             \u001b[39mself\u001b[39m\u001b[39m.\u001b[39mvalues\u001b[39m.\u001b[39mndim \u001b[39m==\u001b[39m \u001b[39m2\u001b[39m):\n\u001b[1;32m    334\u001b[0m         \u001b[39m# a fast path\u001b[39;00m\n\u001b[1;32m    335\u001b[0m         out \u001b[39m=\u001b[39m np\u001b[39m.\u001b[39mempty(indices\u001b[39m.\u001b[39mshape[\u001b[39m1\u001b[39m], dtype\u001b[39m=\u001b[39m\u001b[39mself\u001b[39m\u001b[39m.\u001b[39mvalues\u001b[39m.\u001b[39mdtype)\n",
      "File \u001b[0;32m/cluster/anaconda3/envs/tom_py310/lib/python3.10/site-packages/scipy/interpolate/_rgi.py:499\u001b[0m, in \u001b[0;36mRegularGridInterpolator._find_indices\u001b[0;34m(self, xi)\u001b[0m\n\u001b[1;32m    498\u001b[0m \u001b[39mdef\u001b[39;00m \u001b[39m_find_indices\u001b[39m(\u001b[39mself\u001b[39m, xi):\n\u001b[0;32m--> 499\u001b[0m     \u001b[39mreturn\u001b[39;00m find_indices(\u001b[39mself\u001b[39;49m\u001b[39m.\u001b[39;49mgrid, xi)\n",
      "File \u001b[0;32m_rgi_cython.pyx:88\u001b[0m, in \u001b[0;36mscipy.interpolate._rgi_cython.find_indices\u001b[0;34m()\u001b[0m\n",
      "File \u001b[0;32m<__array_function__ internals>:180\u001b[0m, in \u001b[0;36mempty_like\u001b[0;34m(*args, **kwargs)\u001b[0m\n",
      "\u001b[0;31mKeyboardInterrupt\u001b[0m: "
     ]
    },
    {
     "data": {
      "image/png": "[encoded data removed]",
      "text/plain": [
       "<Figure size 1000x500 with 2 Axes>"
      ]
     },
     "metadata": {},
     "output_type": "display_data"
    }
   ],
   "source": [
    "import matplotlib.pyplot as plt\n",
    "\n",
    "interp_left, interp_right = _create_interpolater(feature_array)\n",
    "\n",
    "of_interp = interpolate_spacetime(interp_left, t, grid_size=20)\n",
    "\n",
    "f, ax = plt.subplots(1, 2, figsize=(10, 5))\n",
    "\n",
    "ax[0].imshow(of_interp[5,:, :])\n",
    "ax[0].set_title(\"Interpolated\")\n",
    "                \n",
    "\n",
    "augm_params = get_augmentation_pars()\n",
    "\n",
    "p_grid = create_grids((64,64), 20 + 2, full_grid=False) \n",
    "p_grid_trans = np.empty_like(p_grid)\n",
    "p_grid_trans = (linear_distort @ (scale * (p_grid - 32.)).T).T + 32 + translation\n",
    "\n",
    "of_interp = interpolate_spacetime(interp_left, t, grid_size=20, x=p_grid_trans[:, 0], y=p_grid_trans[:, 1])\n",
    "\n",
    "\n",
    "ax[1].imshow(of_interp[5, :, :])\n",
    "ax[1].set_title(\"Distorted\")\n",
    "\n"
   ]
  },
  {
   "cell_type": "code",
   "execution_count": 248,
   "metadata": {},
   "outputs": [],
   "source": [
    "x = np.linspace(0, 64, 20 + 2, dtype=np.float32)[1:-1]\n",
    "y = np.linspace(0, 64, 20 + 2, dtype=np.float32)[1:-1]\n",
    "\n",
    "tt, xx, yy = np.meshgrid(t, x, y)\n",
    "\n",
    "txy_grid = np.concatenate((tt.reshape(-1, 1), xx.reshape(-1, 1), yy.reshape(-1, 1)), axis=1)"
   ]
  },
  {
   "cell_type": "code",
   "execution_count": 249,
   "metadata": {},
   "outputs": [
    {
     "data": {
      "text/plain": [
       "(223200, 3)"
      ]
     },
     "execution_count": 249,
     "metadata": {},
     "output_type": "execute_result"
    }
   ],
   "source": [
    "txy_grid.shape"
   ]
  },
  {
   "cell_type": "code",
   "execution_count": 261,
   "metadata": {},
   "outputs": [
    {
     "name": "stdout",
     "output_type": "stream",
     "text": [
      "{'speed': 0.6138818451458874, 'translation': array([ 1.20328568, -3.54200285]), 'scale': 1.0016356215375843, 'linear_distort': array([[ 1.05412514, -0.0731985 ],\n",
      "       [ 0.00287418,  0.99703526]])}\n"
     ]
    },
    {
     "data": {
      "image/png": "[encoded data removed]",
      "text/plain": [
       "<Figure size 500x500 with 1 Axes>"
      ]
     },
     "metadata": {},
     "output_type": "display_data"
    }
   ],
   "source": [
    "\n",
    "\n",
    "t_trans = augm_params[\"speed\"] * t\n",
    "\n",
    "fig = plt.figure(figsize=(5,5))\n",
    "plt.plot(p_grid[:,0], p_grid[:,1],'o')\n",
    "plt.plot(p_grid_trans[:,0], p_grid_trans[:,1],'gD')\n",
    "\n",
    "print(augm_params)\n",
    "\n"
   ]
  },
  {
   "cell_type": "code",
   "execution_count": 8,
   "metadata": {},
   "outputs": [
    {
     "name": "stdout",
     "output_type": "stream",
     "text": [
      "\n",
      "Number of clips: 2\n"
     ]
    }
   ],
   "source": [
    "import matplotlib.pyplot as plt\n",
    "\n",
    "\n",
    "from src.features_calculator import (\n",
    "    new_concatenate_features,\n",
    "    get_augmentation_pars,\n",
    ")\n",
    "\n",
    "feature_array, all_timestamps, clip_transitions = rec._load_features(\n",
    "            clip_name, rec._of_params)\n",
    "\n",
    "# Add random sampling of some indicies\n",
    "\n",
    "n_clips = clip_transitions.shape[0] + 1\n",
    "clip_feature_array = np.split(feature_array, clip_transitions + 1, axis=0)\n",
    "clip_timestamps = np.split(all_timestamps, clip_transitions + 1, axis=0)\n"
   ]
  },
  {
   "cell_type": "code",
   "execution_count": 20,
   "metadata": {},
   "outputs": [
    {
     "name": "stdout",
     "output_type": "stream",
     "text": [
      "options 1\n"
     ]
    },
    {
     "data": {
      "text/plain": [
       "<matplotlib.image.AxesImage at 0x7fca848252d0>"
      ]
     },
     "execution_count": 20,
     "metadata": {},
     "output_type": "execute_result"
    },
    {
     "data": {
      "image/png": "[encoded data removed]",
      "text/plain": [
       "<Figure size 1000x500 with 4 Axes>"
      ]
     },
     "metadata": {},
     "output_type": "display_data"
    }
   ],
   "source": [
    "from training.helper import get_augmentation_options\n",
    "\n",
    "all_times = (all_timestamps[0:10000] - all_timestamps[0]) / 1e9 \n",
    "indc_times = [2, 500, 1000, 2000, 5000, 10000]\n",
    "\n",
    "aug_params_options = get_augmentation_options()\n",
    "aug_options = aug_params_options[0]\n",
    "\n",
    "aug_params = get_augmentation_pars(aug_options)\n",
    "aug_params[\"speed\"] = 1\n",
    "aug_params[\"translation\"] = np.zeros((1, 2))\n",
    "aug_params[\"scale\"] = 1\n",
    "aug_params[\"linear_distort\"] = np.eye(2)\n",
    "\n",
    "aug_feat = new_concatenate_features(\n",
    "    feature_array[0:10000],\n",
    "    rec._of_params,\n",
    "    all_times,\n",
    "    indc_times[0],\n",
    "    aug_params,\n",
    ")\n",
    "\n",
    "left = aug_feat[0, :675].reshape(3, 15, 15)\n",
    "right = aug_feat[0, 675:].reshape(3, 15, 15)\n",
    "\n",
    "\n",
    "aug_params = get_augmentation_pars(aug_options)\n",
    "aug_params[\"speed\"] = 1\n",
    "# aug_params[\"translation\"] = [0, -10]\n",
    "aug_params[\"scale\"] = 1\n",
    "\n",
    "\n",
    "aug_params[\"linear_distort\"] = np.eye(2) + [[0, 0], [0, 0]]\n",
    "\n",
    "aug_feat = new_concatenate_features(\n",
    "    feature_array[0:10000],\n",
    "    rec._of_params,\n",
    "    all_times,\n",
    "    indc_times[0],\n",
    "    aug_params,\n",
    ")\n",
    "\n",
    "left_aug = aug_feat[0, :675].reshape(3, 15, 15)\n",
    "right_aug = aug_feat[0, 675:].reshape(3, 15, 15)\n",
    "\n",
    "\n",
    "f, ax = plt.subplots(2, 2, figsize=(10, 5))\n",
    "\n",
    "ax[0, 0].imshow(left[0, :, :], vmin=-3, vmax=1)\n",
    "ax[0, 1].imshow(right[0, :, :], vmin=-3, vmax=1)\n",
    "ax[1, 0].imshow(left_aug[0, :, :], vmin=-3, vmax=1)\n",
    "ax[1, 1].imshow(right_aug[0, :, :], vmin=-3, vmax=1)"
   ]
  },
  {
   "cell_type": "code",
   "execution_count": 44,
   "metadata": {},
   "outputs": [
    {
     "data": {
      "text/plain": [
       "(3490, 800, 2)"
      ]
     },
     "execution_count": 44,
     "metadata": {},
     "output_type": "execute_result"
    }
   ],
   "source": [
    "feature_array[]\n"
   ]
  },
  {
   "cell_type": "code",
   "execution_count": 17,
   "metadata": {},
   "outputs": [],
   "source": [
    "of_left = np.zeros([3490, 20, 20, 2])\n",
    "of_left[:, 6:14, 6:14, :] = 1\n",
    "\n",
    "of_right = np.zeros([3490, 20, 20, 2])\n",
    "of_right[:, 6:14, 6:14, :] = 1\n",
    "\n",
    "of_left = of_left.reshape(-1, 20*20, 2)\n",
    "of_right = of_right.reshape(-1, 20*20, 2)\n",
    "\n",
    "feature_array = np.concatenate((of_left, of_right), axis=1)"
   ]
  },
  {
   "cell_type": "code",
   "execution_count": 16,
   "metadata": {},
   "outputs": [
    {
     "data": {
      "text/plain": [
       "(3490, 800, 2)"
      ]
     },
     "execution_count": 16,
     "metadata": {},
     "output_type": "execute_result"
    }
   ],
   "source": [
    "feature_array.shape"
   ]
  },
  {
   "cell_type": "code",
   "execution_count": 119,
   "metadata": {},
   "outputs": [
    {
     "data": {
      "text/plain": [
       "1.0"
      ]
     },
     "execution_count": 119,
     "metadata": {},
     "output_type": "execute_result"
    }
   ],
   "source": [
    " np.random.normal(1, 0)"
   ]
  },
  {
   "cell_type": "code",
   "execution_count": 121,
   "metadata": {},
   "outputs": [
    {
     "data": {
      "text/plain": [
       "array([0., 0.])"
      ]
     },
     "execution_count": 121,
     "metadata": {},
     "output_type": "execute_result"
    }
   ],
   "source": [
    "np.random.normal(0, 0, 2)"
   ]
  },
  {
   "cell_type": "code",
   "execution_count": 129,
   "metadata": {},
   "outputs": [
    {
     "data": {
      "text/plain": [
       "array([ 0, -5])"
      ]
     },
     "execution_count": 129,
     "metadata": {},
     "output_type": "execute_result"
    }
   ],
   "source": [
    "aug_params[\"translation\"] * np.array([1, -1])"
   ]
  },
  {
   "cell_type": "code",
   "execution_count": 131,
   "metadata": {},
   "outputs": [],
   "source": [
    "import itertools\n",
    "std_speed = [0.0]\n",
    "std_translation = [0, 1, 2, 3, 4, 5]\n",
    "std_scale = [0.0, 0.05]\n",
    "std_linear = [0.0]\n",
    "\n",
    "options = itertools.product(\n",
    "    std_speed,\n",
    "    std_translation,\n",
    "    std_scale,\n",
    "    std_linear,\n",
    ")\n",
    "\n",
    "options = list(options)\n",
    "# aug_params_options = sorted(set(AugParams(*option) for option in options))\n",
    "\n",
    "# print(f\"options {len(aug_params_options)}\")\n"
   ]
  },
  {
   "cell_type": "code",
   "execution_count": 132,
   "metadata": {},
   "outputs": [
    {
     "data": {
      "text/plain": [
       "[(0.0, 0, 0.0, 0.0),\n",
       " (0.0, 0, 0.05, 0.0),\n",
       " (0.0, 1, 0.0, 0.0),\n",
       " (0.0, 1, 0.05, 0.0),\n",
       " (0.0, 2, 0.0, 0.0),\n",
       " (0.0, 2, 0.05, 0.0),\n",
       " (0.0, 3, 0.0, 0.0),\n",
       " (0.0, 3, 0.05, 0.0),\n",
       " (0.0, 4, 0.0, 0.0),\n",
       " (0.0, 4, 0.05, 0.0),\n",
       " (0.0, 5, 0.0, 0.0),\n",
       " (0.0, 5, 0.05, 0.0)]"
      ]
     },
     "execution_count": 132,
     "metadata": {},
     "output_type": "execute_result"
    }
   ],
   "source": [
    "options"
   ]
  },
  {
   "cell_type": "code",
   "execution_count": 1,
   "metadata": {},
   "outputs": [],
   "source": [
    "from random import choices"
   ]
  },
  {
   "cell_type": "code",
   "execution_count": 5,
   "metadata": {},
   "outputs": [
    {
     "data": {
      "text/plain": [
       "[1,\n",
       " 4,\n",
       " 1,\n",
       " 5,\n",
       " 3,\n",
       " 4,\n",
       " 2,\n",
       " 4,\n",
       " 2,\n",
       " 5,\n",
       " 1,\n",
       " 2,\n",
       " 5,\n",
       " 1,\n",
       " 5,\n",
       " 3,\n",
       " 2,\n",
       " 1,\n",
       " 1,\n",
       " 3,\n",
       " 5,\n",
       " 5,\n",
       " 3,\n",
       " 1,\n",
       " 4,\n",
       " 4,\n",
       " 2,\n",
       " 2,\n",
       " 4,\n",
       " 4,\n",
       " 3,\n",
       " 5,\n",
       " 2,\n",
       " 3,\n",
       " 1,\n",
       " 3,\n",
       " 3,\n",
       " 2,\n",
       " 2,\n",
       " 1,\n",
       " 5,\n",
       " 3,\n",
       " 5,\n",
       " 2,\n",
       " 3,\n",
       " 1,\n",
       " 1,\n",
       " 4,\n",
       " 1,\n",
       " 3,\n",
       " 3,\n",
       " 5,\n",
       " 4,\n",
       " 3,\n",
       " 5,\n",
       " 4,\n",
       " 3,\n",
       " 3,\n",
       " 3,\n",
       " 3,\n",
       " 3,\n",
       " 4,\n",
       " 5,\n",
       " 5,\n",
       " 5,\n",
       " 2,\n",
       " 3,\n",
       " 5,\n",
       " 5,\n",
       " 2,\n",
       " 3,\n",
       " 4,\n",
       " 3,\n",
       " 1,\n",
       " 2,\n",
       " 5,\n",
       " 5,\n",
       " 2,\n",
       " 2,\n",
       " 5,\n",
       " 4,\n",
       " 2,\n",
       " 3,\n",
       " 4,\n",
       " 4,\n",
       " 2,\n",
       " 1,\n",
       " 5,\n",
       " 4,\n",
       " 5,\n",
       " 1,\n",
       " 1,\n",
       " 3,\n",
       " 5,\n",
       " 1,\n",
       " 4,\n",
       " 2,\n",
       " 4,\n",
       " 1,\n",
       " 4]"
      ]
     },
     "execution_count": 5,
     "metadata": {},
     "output_type": "execute_result"
    }
   ],
   "source": [
    "a = [1, 2, 3, 4, 5]\n",
    "\n",
    "choices(a, k=100)"
   ]
  },
  {
   "cell_type": "code",
   "execution_count": 21,
   "metadata": {},
   "outputs": [],
   "source": [
    "def _get_blink_labels(clip_name, timestamps):\n",
    "\n",
    "    blink_df = rec._load_gt_labels(clip_name)\n",
    "\n",
    "    on_start = blink_df[blink_df[\"label\"] == \"onset\"][\"start_ts\"]\n",
    "    on_start_idc = np.where(np.isin(timestamps, on_start))[0]\n",
    "\n",
    "    on_end = blink_df[blink_df[\"label\"] == \"onset\"][\"end_ts\"]\n",
    "    on_end_idc = np.where(np.isin(timestamps, on_end))[0]\n",
    "\n",
    "    off_start = blink_df[blink_df[\"label\"] == \"offset\"][\"start_ts\"]\n",
    "    off_start_idc = np.where(np.isin(timestamps, off_start))[0]\n",
    "\n",
    "    off_end = blink_df[blink_df[\"label\"] == \"offset\"][\"end_ts\"]\n",
    "    off_end_idc = np.where(np.isin(timestamps, off_end))[0]\n",
    "\n",
    "    blink_vec = np.zeros_like(timestamps)\n",
    "\n",
    "    for onset, offset in zip(on_start_idc, on_end_idc):\n",
    "        blink_vec[onset:offset] = 1\n",
    "\n",
    "    for onset, offset in zip(off_start_idc, off_end_idc):\n",
    "        blink_vec[onset:offset] = 2\n",
    "\n",
    "    blink_labels = dict()\n",
    "    blink_labels[\"onset_indices\"] = np.where(blink_vec == 1)[0]\n",
    "    blink_labels[\"offset_indices\"] = np.where(blink_vec == 2)[0]\n",
    "    blink_labels[\"blink_indices\"] = np.where(blink_vec == 2)[0]\n",
    "\n",
    "    return blink_labels"
   ]
  },
  {
   "cell_type": "code",
   "execution_count": 24,
   "metadata": {},
   "outputs": [],
   "source": [
    "timestamps = rec._get_timestamps(clip_name)\n",
    "blink_labels = _get_blink_labels(clip_name, timestamps)"
   ]
  },
  {
   "cell_type": "code",
   "execution_count": 27,
   "metadata": {},
   "outputs": [],
   "source": [
    "def _find_indices(\n",
    "    self,\n",
    "    feature_array,\n",
    "    clip_name: str,\n",
    "    timestamps: np.ndarray,\n",
    "    n_frames: int,\n",
    "    bg_ratio: int,\n",
    "    half: bool,\n",
    ") -> T.Tuple[np.ndarray, np.ndarray, np.ndarray]:\n",
    "\n",
    "    blink_labels = self._get_blink_labels(clip_name, timestamps)\n",
    "\n",
    "    onset_indices = blink_labels[\"onset_indices\"]\n",
    "    offset_indices = blink_labels[\"offset_indices\"]\n",
    "    blink_indices = blink_labels[\"blink_indices\"]\n",
    "\n",
    "    # n_samples = np.min(0.2 * len(onset_indices), 20)\n",
    "    # onset_indices = choices(onset_indices, k=bg_ratio)\n",
    "    # n_samples = np.min(0.2 * len(offset_indices), 20)\n",
    "    # offset_indices = choices(offset_indices, k=bg_ratio)\n",
    "\n",
    "    # blink_indices = list(set(onset_indices) | (set(offset_indices)))\n",
    "    # blink_indices.sort()\n",
    "\n",
    "    bg_indices = self._get_background_indices(blink_indices, n_frames, bg_ratio)\n",
    "    pulse_indices = np.where(abs(np.mean(feature_array, axis=1))[:, 1] > 0.075)[0]\n",
    "    all_indices = np.hstack([blink_indices, bg_indices, pulse_indices])\n",
    "    all_indices = np.unique(all_indices)\n",
    "    all_indices = all_indices.astype(np.int64)\n",
    "\n",
    "    return np.array(onset_indices), np.array(offset_indices), all_indices\n"
   ]
  },
  {
   "cell_type": "code",
   "execution_count": 33,
   "metadata": {},
   "outputs": [
    {
     "data": {
      "text/plain": [
       "(array([ 12126,  12127,  12128,  12129,  12130,  12131,  12132,  12133,\n",
       "         12134,  12135,  12136,  12137,  12138,  12139,  12140,  12141,\n",
       "         12248,  12249,  12250,  12251,  12252,  12253,  12254,  12255,\n",
       "         12256,  12257,  12258,  12259,  12260,  12261,  12262,  12263,\n",
       "         12321,  12322,  12323,  12324,  12325,  12326,  12327,  12328,\n",
       "         12329,  12330,  12331,  12332,  12333,  12334,  12431,  12432,\n",
       "         12433,  12434,  12435,  12436,  12437,  12438,  12439,  12440,\n",
       "         12441,  12442,  12443,  12444,  12445,  12446,  12447,  12448,\n",
       "        320832, 320833, 320834, 320835, 320836, 320837, 320838, 320839,\n",
       "        320840, 320841, 321158, 321159, 321160, 321161, 321162, 321163,\n",
       "        321164, 321165, 321166, 321481, 321482, 321483, 321484, 321485,\n",
       "        321486, 321487, 321488, 321489, 321985, 321986, 321987, 321988,\n",
       "        321989, 321990, 321991, 321992, 321993, 321994, 321995, 321996,\n",
       "        321997, 321998, 321999, 322000, 322001, 322002, 322003, 322004,\n",
       "        322005, 322006, 322007, 322008, 322009, 322010, 322011, 322012,\n",
       "        322013, 322014, 322015, 322016, 322017, 322018, 322019, 322020,\n",
       "        322021, 322022, 322023, 322024, 322025, 322026, 322027, 322028,\n",
       "        322029, 322030, 322031, 322032, 322033, 322034, 322035, 322036,\n",
       "        322037, 322038, 322039, 322040, 322041, 322042, 322043, 322044,\n",
       "        322045, 322046, 322047, 322048, 322049, 322050, 322051, 322052,\n",
       "        322053, 322054, 322055, 322056, 322057, 322058, 322059, 322060,\n",
       "        322061, 322062, 322063, 322064, 322065, 322066, 322067, 322068,\n",
       "        322069, 322070, 322071, 322072, 322073, 322074, 322075, 322076,\n",
       "        322077, 322078, 322079, 322080, 322081, 322082, 322083, 322084,\n",
       "        322085, 322086, 322087, 322088, 322089, 322090, 322091, 322092,\n",
       "        322093, 322094, 322095, 322096, 322097, 322098, 322099, 322100,\n",
       "        322101, 322102, 322103, 322104, 322105, 322106, 322107, 322108,\n",
       "        322109, 322110, 322176, 322177, 322178, 322179, 322180, 322181,\n",
       "        322182, 322183, 322184, 322873, 322874, 322875, 322876, 322877,\n",
       "        322878, 322879, 322880, 322881, 322882, 322883, 322884, 322885,\n",
       "        322886, 322887, 323250, 323251, 323252, 323253, 323254, 323255,\n",
       "        323256, 323257, 323258, 323259, 323260, 323318, 323319, 323320,\n",
       "        323321, 323322, 323323, 323324, 323325, 323326, 323327, 323328,\n",
       "        323329, 323330]),\n",
       " array([ 12142,  12143,  12144,  12145,  12146,  12147,  12148,  12149,\n",
       "         12150,  12151,  12152,  12153,  12154,  12155,  12156,  12157,\n",
       "         12158,  12159,  12160,  12161,  12162,  12163,  12164,  12165,\n",
       "         12166,  12167,  12168,  12169,  12170,  12171,  12172,  12264,\n",
       "         12265,  12266,  12267,  12268,  12269,  12270,  12271,  12272,\n",
       "         12273,  12274,  12275,  12276,  12277,  12278,  12279,  12280,\n",
       "         12281,  12282,  12283,  12284,  12285,  12335,  12336,  12337,\n",
       "         12338,  12339,  12340,  12341,  12342,  12343,  12344,  12345,\n",
       "         12346,  12347,  12348,  12349,  12350,  12351,  12352,  12353,\n",
       "         12354,  12355,  12356,  12357,  12358,  12359,  12360,  12449,\n",
       "         12450,  12451,  12452,  12453,  12454,  12455,  12456,  12457,\n",
       "         12458,  12459,  12460,  12461,  12462,  12463,  12464,  12465,\n",
       "         12466,  12467,  12468,  12469,  12470,  12471,  12472, 320842,\n",
       "        320843, 320844, 320845, 320846, 320847, 320848, 320849, 320850,\n",
       "        320851, 320852, 320853, 320854, 320855, 320856, 320857, 320858,\n",
       "        321167, 321168, 321169, 321170, 321171, 321172, 321173, 321174,\n",
       "        321175, 321176, 321177, 321178, 321179, 321180, 321181, 321182,\n",
       "        321490, 321491, 321492, 321493, 321494, 321495, 321496, 321497,\n",
       "        321498, 321499, 321500, 321501, 321502, 321503, 322111, 322112,\n",
       "        322113, 322114, 322115, 322116, 322117, 322118, 322119, 322120,\n",
       "        322121, 322122, 322123, 322124, 322125, 322126, 322127, 322128,\n",
       "        322129, 322130, 322131, 322132, 322133, 322134, 322135, 322136,\n",
       "        322137, 322138, 322139, 322140, 322141, 322142, 322143, 322144,\n",
       "        322145, 322146, 322147, 322148, 322149, 322150, 322151, 322152,\n",
       "        322153, 322154, 322155, 322185, 322186, 322187, 322188, 322189,\n",
       "        322190, 322191, 322192, 322193, 322194, 322195, 322196, 322197,\n",
       "        322198, 322199, 322200, 322201, 322202, 322203, 322204, 322888,\n",
       "        322889, 322890, 322891, 322892, 322893, 322894, 322895, 322896,\n",
       "        322897, 322898, 322899, 322900, 322901, 322902, 322903, 322904,\n",
       "        322905, 322906, 322907, 322908, 323261, 323262, 323263, 323264,\n",
       "        323265, 323266, 323267, 323268, 323269, 323270, 323271, 323272,\n",
       "        323273, 323274, 323275, 323276, 323331, 323332, 323333, 323334,\n",
       "        323335, 323336, 323337, 323338, 323339, 323340, 323341, 323342,\n",
       "        323343, 323344, 323345]),\n",
       " array([     0,      1,      2, ..., 323343, 323344, 323345]))"
      ]
     },
     "execution_count": 33,
     "metadata": {},
     "output_type": "execute_result"
    }
   ],
   "source": []
  },
  {
   "cell_type": "code",
   "execution_count": 49,
   "metadata": {},
   "outputs": [],
   "source": [
    "onset, offset, all = rec._find_indices(\n",
    "    feature_array,\n",
    "    clip_name,    \n",
    "    timestamps,\n",
    "    n_frames,\n",
    "    bg_ratio=3,\n",
    "    half=False,)"
   ]
  },
  {
   "cell_type": "code",
   "execution_count": 50,
   "metadata": {},
   "outputs": [
    {
     "ename": "IndexError",
     "evalue": "index 12142 is out of bounds for axis 0 with size 3490",
     "output_type": "error",
     "traceback": [
      "\u001b[0;31m---------------------------------------------------------------------------\u001b[0m",
      "\u001b[0;31mIndexError\u001b[0m                                Traceback (most recent call last)",
      "Cell \u001b[0;32mIn[50], line 3\u001b[0m\n\u001b[1;32m      1\u001b[0m gt_labels \u001b[39m=\u001b[39m np\u001b[39m.\u001b[39mfull(n_frames, \u001b[39m0\u001b[39m)\n\u001b[1;32m      2\u001b[0m \u001b[39mif\u001b[39;00m \u001b[39mlen\u001b[39m(offset):\n\u001b[0;32m----> 3\u001b[0m     gt_labels[offset] \u001b[39m=\u001b[39m \u001b[39m2\u001b[39m\n\u001b[1;32m      4\u001b[0m \u001b[39mif\u001b[39;00m \u001b[39mlen\u001b[39m(onset):\n\u001b[1;32m      5\u001b[0m     gt_labels[onset] \u001b[39m=\u001b[39m \u001b[39m1\u001b[39m\n",
      "\u001b[0;31mIndexError\u001b[0m: index 12142 is out of bounds for axis 0 with size 3490"
     ]
    }
   ],
   "source": [
    "gt_labels = np.full(n_frames, 0)\n",
    "if len(offset):\n",
    "    gt_labels[offset] = 2\n",
    "if len(onset):\n",
    "    gt_labels[onset] = 1\n",
    "gt_labels = gt_labels[all]\n"
   ]
  },
  {
   "cell_type": "code",
   "execution_count": 51,
   "metadata": {},
   "outputs": [
    {
     "data": {
      "text/plain": [
       "array([ 12142,  12143,  12144,  12145,  12146,  12147,  12148,  12149,\n",
       "        12150,  12151,  12152,  12153,  12154,  12155,  12156,  12157,\n",
       "        12158,  12159,  12160,  12161,  12162,  12163,  12164,  12165,\n",
       "        12166,  12167,  12168,  12169,  12170,  12171,  12172,  12264,\n",
       "        12265,  12266,  12267,  12268,  12269,  12270,  12271,  12272,\n",
       "        12273,  12274,  12275,  12276,  12277,  12278,  12279,  12280,\n",
       "        12281,  12282,  12283,  12284,  12285,  12335,  12336,  12337,\n",
       "        12338,  12339,  12340,  12341,  12342,  12343,  12344,  12345,\n",
       "        12346,  12347,  12348,  12349,  12350,  12351,  12352,  12353,\n",
       "        12354,  12355,  12356,  12357,  12358,  12359,  12360,  12449,\n",
       "        12450,  12451,  12452,  12453,  12454,  12455,  12456,  12457,\n",
       "        12458,  12459,  12460,  12461,  12462,  12463,  12464,  12465,\n",
       "        12466,  12467,  12468,  12469,  12470,  12471,  12472, 320842,\n",
       "       320843, 320844, 320845, 320846, 320847, 320848, 320849, 320850,\n",
       "       320851, 320852, 320853, 320854, 320855, 320856, 320857, 320858,\n",
       "       321167, 321168, 321169, 321170, 321171, 321172, 321173, 321174,\n",
       "       321175, 321176, 321177, 321178, 321179, 321180, 321181, 321182,\n",
       "       321490, 321491, 321492, 321493, 321494, 321495, 321496, 321497,\n",
       "       321498, 321499, 321500, 321501, 321502, 321503, 322111, 322112,\n",
       "       322113, 322114, 322115, 322116, 322117, 322118, 322119, 322120,\n",
       "       322121, 322122, 322123, 322124, 322125, 322126, 322127, 322128,\n",
       "       322129, 322130, 322131, 322132, 322133, 322134, 322135, 322136,\n",
       "       322137, 322138, 322139, 322140, 322141, 322142, 322143, 322144,\n",
       "       322145, 322146, 322147, 322148, 322149, 322150, 322151, 322152,\n",
       "       322153, 322154, 322155, 322185, 322186, 322187, 322188, 322189,\n",
       "       322190, 322191, 322192, 322193, 322194, 322195, 322196, 322197,\n",
       "       322198, 322199, 322200, 322201, 322202, 322203, 322204, 322888,\n",
       "       322889, 322890, 322891, 322892, 322893, 322894, 322895, 322896,\n",
       "       322897, 322898, 322899, 322900, 322901, 322902, 322903, 322904,\n",
       "       322905, 322906, 322907, 322908, 323261, 323262, 323263, 323264,\n",
       "       323265, 323266, 323267, 323268, 323269, 323270, 323271, 323272,\n",
       "       323273, 323274, 323275, 323276, 323331, 323332, 323333, 323334,\n",
       "       323335, 323336, 323337, 323338, 323339, 323340, 323341, 323342,\n",
       "       323343, 323344, 323345])"
      ]
     },
     "execution_count": 51,
     "metadata": {},
     "output_type": "execute_result"
    }
   ],
   "source": [
    "offset"
   ]
  },
  {
   "cell_type": "code",
   "execution_count": null,
   "metadata": {},
   "outputs": [],
   "source": []
  }
 ],
 "metadata": {
  "kernelspec": {
   "display_name": "tom_py310",
   "language": "python",
   "name": "python3"
  },
  "language_info": {
   "codemirror_mode": {
    "name": "ipython",
    "version": 3
   },
   "file_extension": ".py",
   "mimetype": "text/x-python",
   "name": "python",
   "nbconvert_exporter": "python",
   "pygments_lexer": "ipython3",
   "version": "3.10.9"
  },
  "orig_nbformat": 4,
  "vscode": {
   "interpreter": {
    "hash": "feb805377acc0c3126af32ed46b7fdc97926b253a83f7d8d0e8455803270882f"
   }
  }
 },
 "nbformat": 4,
 "nbformat_minor": 2
}
