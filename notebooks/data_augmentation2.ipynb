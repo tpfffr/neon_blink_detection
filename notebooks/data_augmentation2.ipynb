{
 "cells": [
  {
   "cell_type": "code",
   "execution_count": 1,
   "metadata": {},
   "outputs": [
    {
     "name": "stderr",
     "output_type": "stream",
     "text": [
      "/cluster/anaconda3/envs/tom_py310/lib/python3.10/site-packages/tqdm/auto.py:22: TqdmWarning: IProgress not found. Please update jupyter and ipywidgets. See https://ipywidgets.readthedocs.io/en/stable/user_install.html\n",
      "  from .autonotebook import tqdm as notebook_tqdm\n"
     ]
    }
   ],
   "source": [
    "import sys \n",
    "from scipy.interpolate import RegularGridInterpolator\n",
    "\n",
    "\n",
    "sys.path.append(\"/users/tom/git/neon_blink_detection/\")\n",
    "sys.path.append(\"/users/tom/git/neon_blink_detection/src\")\n",
    "\n",
    "from src.features_calculator import create_grids\n",
    "import numpy as np\n",
    "\n",
    "from training.video_loader import video_loader\n",
    "from src.helper import OfParams, AugParams\n",
    "of_params = OfParams()\n",
    "aug_params = AugParams()\n",
    "\n",
    "clip_name = \"1004-2022-12-14-13-14-14-c8a509b9\"\n",
    "\n",
    "of_params = OfParams(n_layers=3, layer_interval=7, average=False, img_shape=(64, 64), grid_size=4, step_size=5, window_size=11, stop_steps=3)\n",
    "\n",
    "rec = video_loader(of_params, aug_params)\n",
    "\n",
    "rec._load(clip_name, bg_ratio=3, augment=False)\n"
   ]
  },
  {
   "cell_type": "code",
   "execution_count": 2,
   "metadata": {},
   "outputs": [],
   "source": [
    "feature_array, all_timestamps, clip_transitions = rec._load_features(\n",
    "            clip_name, rec._of_params)\n",
    "\n",
    "# Add random sampling of some indicies\n",
    "\n",
    "n_clips = clip_transitions.shape[0] + 1\n",
    "clip_feature_array = np.split(feature_array, clip_transitions + 1, axis=0)\n",
    "clip_timestamps = np.split(all_timestamps, clip_transitions + 1, axis=0)\n",
    "\n",
    "# only take y direction\n",
    "feature_array = clip_feature_array[0][:, :, 1]\n",
    "timestamps = clip_timestamps[0]\n",
    "t = (timestamps - timestamps[0]) / 1e9\n",
    "\n",
    "of_left = np.reshape(feature_array[:, :400], (-1,20,20))\n",
    "of_right = np.reshape(feature_array[:, 400:], (-1,20,20))"
   ]
  },
  {
   "cell_type": "code",
   "execution_count": null,
   "metadata": {},
   "outputs": [],
   "source": [
    "import typing as T\n",
    "\n",
    "def new_concatenate_features(\n",
    "    feature_array: np.ndarray, of_params: OfParams, indices: np.ndarray = None\n",
    ") -> np.ndarray:\n",
    "    \n",
    "    def get_layers(n, layer_interval):\n",
    "        return np.arange(-(n // 2), (n + 1) // 2) * layer_interval\n",
    "    \n",
    "    interp_left, interp_right = _create_interpolater(feature_array)\n",
    "    \n",
    "    layer_interval = of_params.layer_interval / 200 # sampling rate to convert to ms\n",
    "\n",
    "    n_frame = len(feature_array)\n",
    "\n",
    "    if indices is None:\n",
    "        indices = np.arange(n_frame) / 200\n",
    "\n",
    "    n_grids = of_params.grid_size * of_params.grid_size * 2\n",
    "    layers = get_layers(of_params.n_layers, layer_interval)\n",
    "\n",
    "    indices_layers = np.array([[indices + i] for i in layers]).reshape(len(layers), -1)\n",
    "    indices_layers = np.clip(indices_layers, 0, len(feature_array) - 1)\n",
    "\n",
    "    features_left = np.concatenate([interpolate_spacetime(interp_left, indices, grid_size=of_params.grid_size).reshape(-1, of_params.grid_size**2) for indices in indices_layers], axis=-1)\n",
    "\n",
    "    features_right = np.concatenate([interpolate_spacetime(interp_right, indices, grid_size=of_params.grid_size).reshape(-1, of_params.grid_size**2) for indices in indices_layers], axis=-1)\n",
    "\n",
    "    return np.concatenate((features_left, features_right), axis=-1)\n",
    "\n",
    "def _create_interpolater(feature_array: np.ndarray, grid_size=20):\n",
    "\n",
    "    length = grid_size ** 2\n",
    "\n",
    "    of_left = np.reshape(feature_array[:, :length], (-1, grid_size, grid_size))\n",
    "    of_right = np.reshape(feature_array[:, length:], (-1, grid_size, grid_size))\n",
    "\n",
    "    x = np.linspace(0, 64, grid_size + 2, dtype=np.float32)[1:-1]\n",
    "    y = np.linspace(0, 64, grid_size + 2, dtype=np.float32)[1:-1]\n",
    "\n",
    "    interpolator_left = RegularGridInterpolator((t, x, y), of_left, bounds_error=False, fill_value=None, method=\"linear\")\n",
    "    \n",
    "    interpolator_right = RegularGridInterpolator((t, x, y), of_right, bounds_error=False, fill_value=None, method=\"linear\")\n",
    "\n",
    "    return interpolator_left, interpolator_right\n",
    "\n",
    "\n",
    "def interpolate_spacetime(interpolator, time_points: T.List[int], grid_size: int):\n",
    "    \n",
    "    x = np.linspace(0, 64, grid_size + 2, dtype=np.float32)[1:-1]\n",
    "    y = np.linspace(0, 64, grid_size + 2, dtype=np.float32)[1:-1]\n",
    "\n",
    "    tt, xx, yy = np.meshgrid(time_points, x, y)\n",
    "\n",
    "    txy_grid = np.concatenate((tt.reshape(-1, 1), xx.reshape(-1, 1), yy.reshape(-1, 1)), axis=1)\n",
    "    \n",
    "    return interpolator(txy_grid).reshape(grid_size, len(time_points), grid_size).transpose(1, 0, 2)\n",
    "\n"
   ]
  },
  {
   "attachments": {},
   "cell_type": "markdown",
   "metadata": {},
   "source": [
    "**Interpolate to 50x50 grid for 3 points in time**"
   ]
  },
  {
   "attachments": {},
   "cell_type": "markdown",
   "metadata": {},
   "source": [
    "*Plot result*"
   ]
  },
  {
   "cell_type": "code",
   "execution_count": 19,
   "metadata": {},
   "outputs": [
    {
     "data": {
      "text/plain": [
       "Text(0.5, 1.0, 'Original')"
      ]
     },
     "execution_count": 19,
     "metadata": {},
     "output_type": "execute_result"
    },
    {
     "data": {
      "image/png": "[encoded data removed]",
      "text/plain": [
       "<Figure size 1000x500 with 2 Axes>"
      ]
     },
     "metadata": {},
     "output_type": "display_data"
    }
   ],
   "source": [
    "import matplotlib.pyplot as plt\n",
    "\n",
    "interp_left, interp_right = _create_interpolater(feature_array)\n",
    "\n",
    "of_interp = interpolate_spacetime(interp_left, 5.5*t[1:7], grid_size=20)\n",
    "\n",
    "f, ax = plt.subplots(1, 5, figsize=(10, 5))\n",
    "\n",
    "ax[0].imshow(of_interp[0,:, :])\n",
    "ax[0].set_title(\"Interpolated\")\n",
    "                \n",
    "ax[1].imshow(of_left[5, :, :])\n",
    "ax[1].set_title(\"Original\")\n"
   ]
  },
  {
   "cell_type": "code",
   "execution_count": 22,
   "metadata": {},
   "outputs": [
    {
     "name": "stdout",
     "output_type": "stream",
     "text": [
      "[0.0275 0.055  0.0825 0.11   0.1375 0.165 ]\n"
     ]
    },
    {
     "data": {
      "text/plain": [
       "array([0.025   , 0.03    , 0.035   , 0.04    , 0.045125, 0.050125,\n",
       "       0.055125])"
      ]
     },
     "execution_count": 22,
     "metadata": {},
     "output_type": "execute_result"
    }
   ],
   "source": [
    "print(5.5*t[1:7])\n",
    "\n",
    "t[5:12]"
   ]
  },
  {
   "cell_type": "code",
   "execution_count": 291,
   "metadata": {},
   "outputs": [],
   "source": [
    "\n",
    "n_layers = rec._of_params.n_layers\n",
    "t_layer_interval = rec._of_params.layer_interval / 200\n",
    "\n",
    "n_frame = len(feature_array)\n",
    "indices = t\n",
    "n_grids = of_params.grid_size * of_params.grid_size * 2\n",
    "layers = get_layers(of_params.n_layers, t_layer_interval)\n",
    "\n",
    "indices_layers = np.array([[indices + i] for i in layers]).reshape(len(layers), -1)\n",
    "indices_layers = np.clip(indices_layers, 0, len(feature_array) - 1)\n",
    "\n",
    "features = np.concatenate([space_time_grid(interpolator_left, indices, grid_size=of_params.grid_size).reshape(-1, of_params.grid_size**2) for indices in indices_layers], axis=-1)\n",
    "\n",
    "n_features = (\n",
    "        of_params.n_layers if of_params.average else of_params.n_layers * n_grids\n",
    "    )\n",
    "\n"
   ]
  },
  {
   "cell_type": "code",
   "execution_count": 293,
   "metadata": {},
   "outputs": [
    {
     "data": {
      "text/plain": [
       "OfParams(n_layers=3, layer_interval=7, average=False, img_shape=(64, 64), grid_size=4, step_size=5, window_size=11, stop_steps=3)"
      ]
     },
     "execution_count": 293,
     "metadata": {},
     "output_type": "execute_result"
    }
   ],
   "source": [
    "of_params"
   ]
  },
  {
   "cell_type": "code",
   "execution_count": 7,
   "metadata": {},
   "outputs": [],
   "source": []
  },
  {
   "cell_type": "code",
   "execution_count": 10,
   "metadata": {},
   "outputs": [
    {
     "data": {
      "text/plain": [
       "(8619, 96)"
      ]
     },
     "execution_count": 10,
     "metadata": {},
     "output_type": "execute_result"
    }
   ],
   "source": [
    "interp_left, interp_right = _create_interpolater(feature_array)\n",
    "\n"
   ]
  },
  {
   "cell_type": "code",
   "execution_count": 334,
   "metadata": {},
   "outputs": [
    {
     "data": {
      "text/plain": [
       "(8619, 96)"
      ]
     },
     "execution_count": 334,
     "metadata": {},
     "output_type": "execute_result"
    }
   ],
   "source": []
  },
  {
   "cell_type": "code",
   "execution_count": 58,
   "metadata": {},
   "outputs": [],
   "source": [
    "def concatenate_features(\n",
    "    feature_array: np.ndarray, of_params: OfParams, indices: np.ndarray = None\n",
    ") -> np.ndarray:\n",
    "    def get_layers(n, layer_interval):\n",
    "        return np.arange(-(n // 2), (n + 1) // 2) * layer_interval\n",
    "\n",
    "\n",
    "    features = np.concatenate(\n",
    "        [feature_array_y[indices] for indices in indices_layers], axis=1\n",
    "    )\n",
    "    n_features = (\n",
    "        of_params.n_layers if of_params.average else of_params.n_layers * n_grids\n",
    "    )\n",
    "    # if features.shape != (len(indices), n_features):\n",
    "    #     raise RuntimeError(\n",
    "    #         f\"feature shape should be {(len(indices), n_features)}, but get {features.shape}\"\n",
    "    #     )\n",
    "    return features"
   ]
  },
  {
   "cell_type": "code",
   "execution_count": 63,
   "metadata": {},
   "outputs": [],
   "source": []
  },
  {
   "cell_type": "code",
   "execution_count": 64,
   "metadata": {},
   "outputs": [
    {
     "data": {
      "text/plain": [
       "<matplotlib.image.AxesImage at 0x7f5f6b809270>"
      ]
     },
     "execution_count": 64,
     "metadata": {},
     "output_type": "execute_result"
    },
    {
     "data": {
      "image/png": "[encoded data removed]",
      "text/plain": [
       "<Figure size 640x480 with 6 Axes>"
      ]
     },
     "metadata": {},
     "output_type": "display_data"
    }
   ],
   "source": [
    "iframe = 2000\n",
    "\n",
    "grid_size = 6 # grid_size we want to interpolate to\n",
    "p_grid = create_grids((64,64), grid_size, 0)\n",
    "time_ = t[iframe] # timestamp belonging to the frame\n",
    "t_p_grid  = np.concatenate((time_ * np.ones((p_grid.shape[0],1)), p_grid), axis=1) \n",
    "# of_interp = np.reshape(interpolator_left(t_p_grid),(grid_size, grid_size))\n",
    "\n",
    "p_grid.shape\n",
    "interp = interpolator_left(t_p_grid).reshape(grid_size-2, grid_size-2, 6)\n",
    "\n",
    "import matplotlib.pyplot as plt\n",
    "f, ax = plt.subplots(3, 2)\n",
    "ax[0, 0].imshow(interp[:, :, 0])\n",
    "ax[0, 1].imshow(features_per_layer[iframe, :, :, 0].transpose())\n",
    "ax[1, 0].imshow(interp[:, :, 2])\n",
    "ax[1, 1].imshow(features_per_layer[iframe, :, :, 2].transpose())\n",
    "ax[2, 0].imshow(interp[:, :, 4])\n",
    "ax[2, 1].imshow(features_per_layer[iframe, :, :, 4].transpose())\n"
   ]
  },
  {
   "cell_type": "code",
   "execution_count": 16,
   "metadata": {},
   "outputs": [
    {
     "data": {
      "text/plain": [
       "(43284, 4, 4, 6)"
      ]
     },
     "execution_count": 16,
     "metadata": {},
     "output_type": "execute_result"
    }
   ],
   "source": [
    "features_per_layer.shape"
   ]
  },
  {
   "cell_type": "code",
   "execution_count": 33,
   "metadata": {},
   "outputs": [
    {
     "data": {
      "text/plain": [
       "array([200., 200., 200., 200., 200., 200.])"
      ]
     },
     "execution_count": 33,
     "metadata": {},
     "output_type": "execute_result"
    }
   ],
   "source": [
    "fea"
   ]
  },
  {
   "cell_type": "code",
   "execution_count": 84,
   "metadata": {},
   "outputs": [
    {
     "data": {
      "text/plain": [
       "(37145, 4, 4, 6)"
      ]
     },
     "execution_count": 84,
     "metadata": {},
     "output_type": "execute_result"
    }
   ],
   "source": [
    "features_per_layer.shape"
   ]
  },
  {
   "cell_type": "code",
   "execution_count": 117,
   "metadata": {},
   "outputs": [],
   "source": [
    "x, y = np.array([-2, 0, 4, 6]), np.array([-2, 0, 2, 5])\n",
    "\n",
    "def ff(x, y):\n",
    "    return x**2 + y**2\n",
    "\n",
    "xg, yg = np.meshgrid(x, y, indexing='ij')\n",
    "data = ff(xg, yg)\n",
    "data\n",
    "\n",
    "interp = RegularGridInterpolator((x, y), data,\n",
    "                                 bounds_error=False, fill_value=None)\n",
    "# import matplotlib.pyplot as plt\n",
    "# fig = plt.figure()\n",
    "# ax = fig.add_subplot(projection='3d')\n",
    "# ax.scatter(xg.ravel(), yg.ravel(), data.ravel(),\n",
    "#            s=60, c='k', label='data')"
   ]
  },
  {
   "cell_type": "code",
   "execution_count": 37,
   "metadata": {},
   "outputs": [
    {
     "data": {
      "text/plain": [
       "array([0.000000e+00, 5.000000e-30, 1.000000e-29, ..., 4.312539e-26,\n",
       "       4.313039e-26, 4.313539e-26])"
      ]
     },
     "execution_count": 37,
     "metadata": {},
     "output_type": "execute_result"
    }
   ],
   "source": [
    "timestamps = rec._get_timestamps(\"1004-2022-12-14-13-14-14-c8a509b9\")\n",
    "t = (t - t[0])"
   ]
  },
  {
   "cell_type": "code",
   "execution_count": 124,
   "metadata": {},
   "outputs": [
    {
     "data": {
      "text/plain": [
       "array(0.31941931)"
      ]
     },
     "execution_count": 124,
     "metadata": {},
     "output_type": "execute_result"
    }
   ],
   "source": [
    "data = np.random.rand(10,10)\n",
    "\n",
    "x = np.linspace(0, 10, 10 + 2, dtype=np.float32)[1:-1]\n",
    "y = np.linspace(0, 10, 10 + 2, dtype=np.float32)[1:-1]\n",
    "\n",
    "interp = RegularGridInterpolator((x, y), data, bounds_error=False, fill_value=None)\n",
    "\n"
   ]
  },
  {
   "cell_type": "code",
   "execution_count": 3,
   "metadata": {},
   "outputs": [],
   "source": [
    "new_features = rec.all_features[\"1004-2022-12-14-13-14-14-c8a509b9\"]\n",
    "old_features = rec.old_features[\"1004-2022-12-14-13-14-14-c8a509b9\"]\n",
    "\n"
   ]
  },
  {
   "cell_type": "code",
   "execution_count": 44,
   "metadata": {},
   "outputs": [
    {
     "data": {
      "text/plain": [
       "array([0.      , 0.005   , 0.01    , 0.015   , 0.02    , 0.025   ,\n",
       "       0.03    , 0.035   , 0.04    , 0.045125])"
      ]
     },
     "execution_count": 44,
     "metadata": {},
     "output_type": "execute_result"
    },
    {
     "data": {
      "image/png": "[encoded data removed]",
      "text/plain": [
       "<Figure size 640x480 with 1 Axes>"
      ]
     },
     "metadata": {},
     "output_type": "display_data"
    }
   ],
   "source": [
    "import matplotlib.pyplot as plt\n",
    "\n",
    "temp_old_features = np.zeros_like(old_features)\n",
    "\n",
    "temp_old_features[:, 0:16] = old_features[:, 0:16]\n",
    "temp_old_features[:, 16:32] = old_features[:, 32:48]\n",
    "temp_old_features[:, 32:48] = old_features[:, 64:80]\n",
    "\n",
    "temp_old_features[:, 48:64] = old_features[:, 16:32]\n",
    "temp_old_features[:, 64:80] = old_features[:, 48:64]\n",
    "temp_old_features[:, 80:96] = old_features[:, 80:96]\n",
    "\n",
    "\n",
    "\n",
    "plt.plot(new_features[6444, :])\n",
    "plt.plot(temp_old_features[6444, :])\n",
    "plt.xlabel(\"Features\")\n",
    "plt.xlabel(\"Optical Flow\")\n",
    "\n",
    "t[0:10]\n"
   ]
  },
  {
   "cell_type": "code",
   "execution_count": 43,
   "metadata": {},
   "outputs": [
    {
     "data": {
      "text/plain": [
       "(6440.0, 6450.0)"
      ]
     },
     "execution_count": 43,
     "metadata": {},
     "output_type": "execute_result"
    },
    {
     "data": {
      "image/png": "[encoded data removed]",
      "text/plain": [
       "<Figure size 640x480 with 1 Axes>"
      ]
     },
     "metadata": {},
     "output_type": "display_data"
    }
   ],
   "source": [
    "plt.plot(np.array([np.corrcoef(new_features[i, :], temp_old_features[i, :])[0, 1] for i in range(20095)]))\n",
    "\n"
   ]
  },
  {
   "cell_type": "code",
   "execution_count": null,
   "metadata": {},
   "outputs": [],
   "source": []
  }
 ],
 "metadata": {
  "kernelspec": {
   "display_name": "tom_py310",
   "language": "python",
   "name": "python3"
  },
  "language_info": {
   "codemirror_mode": {
    "name": "ipython",
    "version": 3
   },
   "file_extension": ".py",
   "mimetype": "text/x-python",
   "name": "python",
   "nbconvert_exporter": "python",
   "pygments_lexer": "ipython3",
   "version": "3.10.9"
  },
  "orig_nbformat": 4,
  "vscode": {
   "interpreter": {
    "hash": "feb805377acc0c3126af32ed46b7fdc97926b253a83f7d8d0e8455803270882f"
   }
  }
 },
 "nbformat": 4,
 "nbformat_minor": 2
}
